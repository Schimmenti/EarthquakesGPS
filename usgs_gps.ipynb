{
  "cells": [
    {
      "cell_type": "code",
      "execution_count": 3,
      "metadata": {
        "id": "ifbcpcZbkDRK"
      },
      "outputs": [],
      "source": [
        "import numpy as np\n",
        "from bs4 import BeautifulSoup\n",
        "import pandas as pd\n",
        "import matplotlib.pyplot as plt\n",
        "import pickle\n",
        "from numba import njit,jit\n",
        "import numpy.fft as fft\n",
        "import scipy.stats as stats\n",
        "from statsmodels.graphics.tsaplots import plot_acf, plot_pacf\n",
        "import datetime"
      ]
    },
    {
      "cell_type": "code",
      "source": [
        "zone_name = \"Southern_California\"\n",
        "! wget \"https://raw.githubusercontent.com/Schimmenti/EarthquakesGPS/main/Southern_California.gpx\""
      ],
      "metadata": {
        "colab": {
          "base_uri": "https://localhost:8080/"
        },
        "id": "6Oj32HuukRPJ",
        "outputId": "3a6c13ec-8ea4-46f3-fc09-a17403322bf9"
      },
      "execution_count": 6,
      "outputs": [
        {
          "output_type": "stream",
          "name": "stdout",
          "text": [
            "--2022-03-01 22:19:59--  https://raw.githubusercontent.com/Schimmenti/EarthquakesGPS/main/Southern_California.gpx\n",
            "Resolving raw.githubusercontent.com (raw.githubusercontent.com)... 185.199.110.133, 185.199.111.133, 185.199.108.133, ...\n",
            "Connecting to raw.githubusercontent.com (raw.githubusercontent.com)|185.199.110.133|:443... connected.\n",
            "HTTP request sent, awaiting response... 200 OK\n",
            "Length: 103498 (101K) [text/plain]\n",
            "Saving to: ‘Southern_California.gpx’\n",
            "\n",
            "\rSouthern_California   0%[                    ]       0  --.-KB/s               \rSouthern_California 100%[===================>] 101.07K  --.-KB/s    in 0.01s   \n",
            "\n",
            "2022-03-01 22:19:59 (6.77 MB/s) - ‘Southern_California.gpx’ saved [103498/103498]\n",
            "\n"
          ]
        }
      ]
    },
    {
      "cell_type": "code",
      "execution_count": 7,
      "metadata": {
        "id": "w31Ilz2DkDRg"
      },
      "outputs": [],
      "source": [
        "zone_name = \"Southern_California\"\n",
        "with open(zone_name + \".gpx\", 'r') as f:\n",
        "    stat_xml = BeautifulSoup(f.read(), \"xml\")"
      ]
    },
    {
      "cell_type": "code",
      "execution_count": 8,
      "metadata": {
        "id": "t5QUtzJ2kDRg"
      },
      "outputs": [],
      "source": [
        "station_names = []\n",
        "station_pos = {}\n",
        "for wpt in stat_xml.find_all(\"wpt\"):\n",
        "    name = wpt.find(\"name\").text.lower()\n",
        "    station_names.append(name)\n",
        "    pos = (float(wpt.get(\"lat\")),float(wpt.get(\"lon\")))\n",
        "    station_pos[name] = pos"
      ]
    },
    {
      "cell_type": "code",
      "execution_count": 9,
      "metadata": {
        "id": "mHElq9WlkDRj"
      },
      "outputs": [],
      "source": [
        "raw_link =\"https://earthquake.usgs.gov/monitoring/gps/data/networks/%s/%s/nafixed/%s.rneu\""
      ]
    },
    {
      "cell_type": "code",
      "execution_count": 10,
      "metadata": {
        "id": "L96cssWbkDRk"
      },
      "outputs": [],
      "source": [
        "#my_stats = [\"coso\", \"towg\", \"worg\", \"whfg\", \"wasg\", \"wlhg\"]"
      ]
    },
    {
      "cell_type": "code",
      "execution_count": null,
      "metadata": {
        "colab": {
          "base_uri": "https://localhost:8080/"
        },
        "id": "wo8vhTB1kDRl",
        "outputId": "6471d793-cd9a-4757-9f71-b5989c587ed0"
      },
      "outputs": [
        {
          "output_type": "stream",
          "name": "stdout",
          "text": [
            "Not found:  azyu\n"
          ]
        }
      ],
      "source": [
        "data = {}\n",
        "for name in station_names:\n",
        "    try:\n",
        "        data[name] = pd.read_csv(raw_link%(zone_name, name, name), sep='\\t', header=None)\n",
        "        data[name].columns = columns=[\"DateI\",\"DateD\",\"N\",\"E\",\"U\",\"Tech1\",\"dN\",\"dE\",\"dU\",\"Tech2\",\"Descr\",]\n",
        "    except:\n",
        "        print(\"Not found: \", name)"
      ]
    },
    {
      "cell_type": "code",
      "source": [
        ""
      ],
      "metadata": {
        "id": "6rXRhJwoklAz"
      },
      "execution_count": null,
      "outputs": []
    }
  ],
  "metadata": {
    "interpreter": {
      "hash": "6ccf289258a418e2f1b69e5ed31fa2d91bf3d9ba9a29753c14a19478de210b10"
    },
    "kernelspec": {
      "display_name": "Python 3.9.7 ('base')",
      "language": "python",
      "name": "python3"
    },
    "language_info": {
      "codemirror_mode": {
        "name": "ipython",
        "version": 3
      },
      "file_extension": ".py",
      "mimetype": "text/x-python",
      "name": "python",
      "nbconvert_exporter": "python",
      "pygments_lexer": "ipython3",
      "version": "3.9.7"
    },
    "orig_nbformat": 4,
    "colab": {
      "name": "usgs_gps.ipynb",
      "provenance": []
    }
  },
  "nbformat": 4,
  "nbformat_minor": 0
}