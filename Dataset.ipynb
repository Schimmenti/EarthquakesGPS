{
  "nbformat": 4,
  "nbformat_minor": 0,
  "metadata": {
    "colab": {
      "name": "Dataset.ipynb",
      "provenance": [],
      "include_colab_link": true
    },
    "kernelspec": {
      "name": "python3",
      "display_name": "Python 3"
    },
    "language_info": {
      "name": "python"
    }
  },
  "cells": [
    {
      "cell_type": "markdown",
      "metadata": {
        "id": "view-in-github",
        "colab_type": "text"
      },
      "source": [
        "<a href=\"https://colab.research.google.com/github/Schimmenti/EarthquakesGPS/blob/main/Dataset.ipynb\" target=\"_parent\"><img src=\"https://colab.research.google.com/assets/colab-badge.svg\" alt=\"Open In Colab\"/></a>"
      ]
    },
    {
      "cell_type": "code",
      "execution_count": 1,
      "metadata": {
        "id": "Y_QgiMeEx9kw",
        "colab": {
          "base_uri": "https://localhost:8080/"
        },
        "outputId": "37675e14-ecc5-4b08-9eb6-59c2e0c2df3d"
      },
      "outputs": [
        {
          "output_type": "stream",
          "name": "stdout",
          "text": [
            "Mounted at /content/drive\n"
          ]
        }
      ],
      "source": [
        "import numpy as np\n",
        "import pandas as pd\n",
        "import pickle as pkl\n",
        "import scipy.stats as stats\n",
        "import matplotlib.pyplot as plt\n",
        "import datetime\n",
        "import time\n",
        "from scipy.ndimage.filters import maximum_filter1d, minimum_filter1d\n",
        "from google.colab import drive\n",
        "from sklearn.metrics import roc_curve\n",
        "drive.mount('/content/drive')\n",
        "from sklearn.neighbors import  KDTree,BallTree\n",
        "\n",
        "\n",
        "def max_filter1d_valid(a, W, add_heading_nan=True):\n",
        "    hW = (W-1)//2 # Half window size\n",
        "    if(add_heading_nan):\n",
        "      if(W%2==1):\n",
        "        return np.concatenate([np.ones(W-1)*np.nan,maximum_filter1d(a,size=W)[hW:-hW]])\n",
        "      else:\n",
        "        return np.concatenate([np.ones(W-2)*np.nan,maximum_filter1d(a,size=W)[hW:-hW]])\n",
        "    else:\n",
        "      return maximum_filter1d(a,size=W)[hW:-hW]\n",
        "def min_filter1d_valid(a, W, add_heading_nan=True):\n",
        "    hW = (W-1)//2 # Half window size\n",
        "    if(add_heading_nan):\n",
        "      if(W%2==1):\n",
        "        return np.concatenate([np.ones(W-1)*np.nan,minimum_filter1d(a,size=W)[hW:-hW]])\n",
        "      else:\n",
        "        return np.concatenate([np.ones(W-2)*np.nan,minimum_filter1d(a,size=W)[hW:-hW]])\n",
        "    else:\n",
        "      return minimum_filter1d(a,size=W)[hW:-hW]"
      ]
    },
    {
      "cell_type": "code",
      "source": [
        "def haversine(lat1, lat2, delta_long):\n",
        "  return np.sin((lat2-lat1)/2)**2+np.cos(lat1)*np.cos(lat2)*np.sin(delta_long/2)**2"
      ],
      "metadata": {
        "id": "xbH1ADom-e5K"
      },
      "execution_count": 2,
      "outputs": []
    },
    {
      "cell_type": "code",
      "source": [
        "def moving_lin_regress(x, T, t0, t1, add_heading_nan=True):\n",
        "    m = []\n",
        "    for t in range(t0,t1-T):\n",
        "        m.append(stats.linregress(np.arange(0,T),x[t:t+T])[0])\n",
        "    if(add_heading_nan):\n",
        "      return np.concatenate([np.ones(T)*np.nan, np.array(m)])\n",
        "    else:\n",
        "      return np.array(m)"
      ],
      "metadata": {
        "id": "r5MxN8MCzqln"
      },
      "execution_count": 3,
      "outputs": []
    },
    {
      "cell_type": "code",
      "source": [
        "base_link = \"https://raw.githubusercontent.com/Schimmenti/EarthquakesGPS/main/gps_data/\""
      ],
      "metadata": {
        "id": "CIFz3TRJyjwN"
      },
      "execution_count": 4,
      "outputs": []
    },
    {
      "cell_type": "code",
      "source": [
        "! wget \"https://raw.githubusercontent.com/Schimmenti/EarthquakesGPS/main/gps_data/stat_info.pkl\""
      ],
      "metadata": {
        "colab": {
          "base_uri": "https://localhost:8080/"
        },
        "id": "i45aPIdXylyt",
        "outputId": "3c7fe825-b94f-40fd-ff53-675b07e91721"
      },
      "execution_count": 5,
      "outputs": [
        {
          "output_type": "stream",
          "name": "stdout",
          "text": [
            "--2022-03-23 15:26:54--  https://raw.githubusercontent.com/Schimmenti/EarthquakesGPS/main/gps_data/stat_info.pkl\n",
            "Resolving raw.githubusercontent.com (raw.githubusercontent.com)... 185.199.108.133, 185.199.109.133, 185.199.110.133, ...\n",
            "Connecting to raw.githubusercontent.com (raw.githubusercontent.com)|185.199.108.133|:443... connected.\n",
            "HTTP request sent, awaiting response... 200 OK\n",
            "Length: 17030 (17K) [application/octet-stream]\n",
            "Saving to: ‘stat_info.pkl’\n",
            "\n",
            "stat_info.pkl       100%[===================>]  16.63K  --.-KB/s    in 0.002s  \n",
            "\n",
            "2022-03-23 15:26:54 (9.02 MB/s) - ‘stat_info.pkl’ saved [17030/17030]\n",
            "\n"
          ]
        }
      ]
    },
    {
      "cell_type": "code",
      "source": [
        "with open(\"stat_info.pkl\",\"rb\") as handle:\n",
        "  station_names, station_pos = pkl.load(handle)"
      ],
      "metadata": {
        "id": "Ee6C9Q0xyp_s"
      },
      "execution_count": 6,
      "outputs": []
    },
    {
      "cell_type": "markdown",
      "source": [
        "# Processing"
      ],
      "metadata": {
        "id": "LQdZpEyTapI3"
      }
    },
    {
      "cell_type": "code",
      "source": [
        "stat_data = {}\n",
        "for name in station_names:\n",
        "  try:\n",
        "    stat_data[name] = pd.read_csv(base_link + name + \".csv\")\n",
        "  except:\n",
        "    continue"
      ],
      "metadata": {
        "id": "o3PW3xswy3E-"
      },
      "execution_count": null,
      "outputs": []
    },
    {
      "cell_type": "code",
      "source": [
        "for name in stat_data.keys():\n",
        "  #decimal_years  = stat_data[name][\"DateD\"].values\n",
        "  #years = np.trunc(decimal_years).astype('int')\n",
        "  #days_in_year = 365*np.ones(len(years), dtype=int)\n",
        "  #days_in_year[days_in_year%4==0] += 1\n",
        "  #days = np.round((decimal_years-years)*days_in_year).astype('int')\n",
        "  #starting_date = datetime.date(years[0], 1, 1)\n",
        "  #delta_days = datetime.timedelta(int(days[0]) - 1)\n",
        "  #starting_date += delta_days\n",
        "#\n",
        "  #ending_date = datetime.date(years[-1]-1, 12, 31)\n",
        "  #delta_days = datetime.timedelta(int(days[-1]))\n",
        "  #ending_date += delta_days\n",
        "  #print(ending_date)\n",
        "  #del stat_data[name][\"Date\"]\n",
        "\n",
        "  stat_data[name]['Date'] = pd.to_datetime(stat_data[name]['DateI'], format='%Y%m%d')\n",
        "  stat_data[name].set_index(\"Date\", drop=True, inplace=True)\n",
        "  idx = pd.date_range(stat_data[name].index[0], stat_data[name].index[-1])\n",
        "  stat_data[name] = stat_data[name].reindex(idx, fill_value=np.NaN)"
      ],
      "metadata": {
        "id": "Uf8lbUsfzgyE"
      },
      "execution_count": null,
      "outputs": []
    },
    {
      "cell_type": "code",
      "source": [
        "with open(\"stat_data.pkl\", \"wb\") as handle:\n",
        "  pkl.dump(stat_data,handle)"
      ],
      "metadata": {
        "id": "yZ8vXeUlY5yl"
      },
      "execution_count": null,
      "outputs": []
    },
    {
      "cell_type": "code",
      "source": [
        "W=9\n",
        "coefs = {}\n",
        "for name in stat_data.keys():\n",
        "  nord = stat_data[name][\"N\"].values\n",
        "  if(len(nord) >= W):\n",
        "    T_w_nord = moving_lin_regress(nord, W, 0, len(nord))\n",
        "    east = stat_data[name][\"E\"].values\n",
        "    T_w_east = moving_lin_regress(east, W, 0, len(east))\n",
        "    up = stat_data[name][\"U\"].values\n",
        "    T_w_up = moving_lin_regress(up, W, 0, len(up))\n",
        "    coefs[name] = np.array([T_w_nord, T_w_east, T_w_up])"
      ],
      "metadata": {
        "id": "paPxBu_2z78a"
      },
      "execution_count": null,
      "outputs": []
    },
    {
      "cell_type": "code",
      "source": [
        "with open(\"T_W=%i.pkl\"%W, \"wb\") as handle:\n",
        "  pkl.dump(coefs,handle)"
      ],
      "metadata": {
        "id": "9P5rDJEggbWE"
      },
      "execution_count": null,
      "outputs": []
    },
    {
      "cell_type": "markdown",
      "source": [
        "# Excursion"
      ],
      "metadata": {
        "id": "nKEmLHuMcYYe"
      }
    },
    {
      "cell_type": "code",
      "source": [
        "up_scaling_factor = 4\n",
        "excoefs = {}\n",
        "for key in coefs.keys():\n",
        "  temp = []\n",
        "  for el in coefs[key]:\n",
        "    temp.append(max_filter1d_valid(el, W)-min_filter1d_valid(el, W))\n",
        "  #temp.append(np.sqrt(temp[0]**2+temp[1]**2+(temp[2]/up_scaling_factor)**2))\n",
        "  temp = np.array(temp)\n",
        "  excoefs[key] = temp"
      ],
      "metadata": {
        "id": "BxQDKqYDzmSJ"
      },
      "execution_count": null,
      "outputs": []
    },
    {
      "cell_type": "code",
      "source": [
        "with open(\"ex_T_W=%i.pkl\" %W, \"wb\") as handle:\n",
        "  pkl.dump(excoefs,handle)"
      ],
      "metadata": {
        "id": "7B9wAY2S3JJh"
      },
      "execution_count": null,
      "outputs": []
    },
    {
      "cell_type": "code",
      "source": [
        "W_max=W\n",
        "V_ws = {}\n",
        "for key in excoefs.keys():\n",
        "  V = np.sqrt(np.sum(excoefs[key][:2,:]**2,axis=0))\n",
        "  if(len(V) <= W_max):\n",
        "    V_windowed = V\n",
        "  else:\n",
        "    V_windowed = max_filter1d_valid(V, W_max)\n",
        "  s_days = stat_data[key].index.values\n",
        "  df = pd.DataFrame()\n",
        "  df[\"Date\"] = s_days\n",
        "  df[\"V\"] = V_windowed\n",
        "  df.set_index(\"Date\", drop=True, inplace=True)\n",
        "  V_ws[key] = df\n",
        "  if(len(s_days)!=excoefs[key].shape[1]):\n",
        "    print(\"Sheit\")"
      ],
      "metadata": {
        "id": "9pemYoPFONZc"
      },
      "execution_count": null,
      "outputs": []
    },
    {
      "cell_type": "code",
      "source": [
        "with open(\"V_W=%i.pkl\" %W_max, \"wb\") as handle:\n",
        "  pkl.dump(V_ws,handle)"
      ],
      "metadata": {
        "id": "i4KEDvXwb7ig"
      },
      "execution_count": null,
      "outputs": []
    },
    {
      "cell_type": "markdown",
      "source": [
        "# Loading"
      ],
      "metadata": {
        "id": "bbFPAmiNZnuS"
      }
    },
    {
      "cell_type": "code",
      "source": [
        "catalog = pd.read_csv(\"https://raw.githubusercontent.com/Schimmenti/EarthquakesGPS/main/catalog.csv\",sep=r\"\\s+\", index_col=\"Date\")"
      ],
      "metadata": {
        "id": "_kcPT7QpaT8h"
      },
      "execution_count": 7,
      "outputs": []
    },
    {
      "cell_type": "code",
      "source": [
        "W=9\n",
        "W_max = W\n",
        "with open(\"drive/MyDrive/Colab Notebooks/T_W=%i.pkl\"%W,\"rb\") as handle:\n",
        "  coefs = pkl.load(handle)\n",
        "with open(\"drive/MyDrive/Colab Notebooks/ex_T_W=%i.pkl\"%W,\"rb\") as handle:\n",
        "  excoefs = pkl.load(handle)\n",
        "with open(\"drive/MyDrive/Colab Notebooks/V_W=%i.pkl\"%W_max,\"rb\") as handle:\n",
        "  V_ws = pkl.load(handle)"
      ],
      "metadata": {
        "id": "g6hZZ__0ZpcN"
      },
      "execution_count": 8,
      "outputs": []
    },
    {
      "cell_type": "code",
      "source": [
        "with open(\"drive/MyDrive/Colab Notebooks/stat_data.pkl\",\"rb\") as handle:\n",
        "  stat_data = pkl.load(handle)"
      ],
      "metadata": {
        "id": "pC97AZBGamy7"
      },
      "execution_count": 9,
      "outputs": []
    },
    {
      "cell_type": "markdown",
      "source": [
        "# Catalog"
      ],
      "metadata": {
        "id": "xevVaB4BH2ya"
      }
    },
    {
      "cell_type": "code",
      "source": [
        "catalog = pd.read_csv(\"https://raw.githubusercontent.com/Schimmenti/EarthquakesGPS/main/hauksson_relocated.dat\",sep=r\"\\s+\",header=None)\n",
        "catalog.columns = [\"sec\",\"m\",\"lat\",\"long\",\"dep\"]"
      ],
      "metadata": {
        "id": "JNn3tbnpsmjH"
      },
      "execution_count": null,
      "outputs": []
    },
    {
      "cell_type": "code",
      "source": [
        "landers = catalog[catalog[\"m\"]==7.3]\n",
        "landers_date = datetime.date(1992,6,28)\n",
        "landers_time = datetime.timedelta(hours=11, minutes=57, seconds=33)\n",
        "delta_time = datetime.timedelta(seconds=float(landers['sec'].values))\n",
        "catalog_beginning = landers_date+landers_time-delta_time\n",
        "catalog_seconds = catalog['sec'].values.astype('timedelta64[s]')\n",
        "start_date = np.datetime64(catalog_beginning)\n",
        "catalog_dates = start_date + catalog_seconds\n",
        "year_integer =  catalog_dates.astype('datetime64[Y]').astype('int')+1970\n",
        "month_integer =  catalog_dates.astype('datetime64[M]').astype('int')%12+1\n",
        "day_integer = (catalog_dates- catalog_dates.astype('datetime64[M]') + 1).astype('timedelta64[D]').astype('int')+1\n",
        "date_integer =(year_integer*10000+month_integer*100+day_integer)\n",
        "pandas_datetime = pd.to_datetime(date_integer, format='%Y%m%d')\n",
        "catalog[\"Date\"] = pandas_datetime\n",
        "catalog.set_index(\"Date\", drop=True, inplace=True)"
      ],
      "metadata": {
        "id": "xgUekX5HHz__"
      },
      "execution_count": null,
      "outputs": []
    },
    {
      "cell_type": "code",
      "source": [
        "catalog.to_csv(\"catalog.csv\", sep=\"\\t\")"
      ],
      "metadata": {
        "id": "GVYhCAwm9rLa"
      },
      "execution_count": null,
      "outputs": []
    },
    {
      "cell_type": "markdown",
      "source": [
        "# Clustering"
      ],
      "metadata": {
        "id": "dIxll8YzQdsa"
      }
    },
    {
      "cell_type": "code",
      "source": [
        "position_array = np.array([station_pos[key] for key in V_ws.keys()])\n",
        "pos_rads = position_array*np.pi/180\n",
        "pos_tree = BallTree(pos_rads, metric=\"haversine\")\n",
        "distance_threshold = 5e-3"
      ],
      "metadata": {
        "id": "PVim0HoEQftA"
      },
      "execution_count": 10,
      "outputs": []
    },
    {
      "cell_type": "code",
      "source": [
        "clusters = {}\n",
        "s_keys = np.array(list(V_ws.keys()))\n",
        "for idx in range(0,len(pos_rads)):\n",
        "  query_res = pos_tree.query_radius(pos_rads[idx:idx+1],distance_threshold )[0]\n",
        "  clusters[s_keys[idx]] = list(s_keys[query_res])"
      ],
      "metadata": {
        "id": "2VSxpBpFXIwq"
      },
      "execution_count": 11,
      "outputs": []
    },
    {
      "cell_type": "markdown",
      "source": [
        "# Alert catalog"
      ],
      "metadata": {
        "id": "cxLmoF8m-I3V"
      }
    },
    {
      "cell_type": "code",
      "source": [
        "catalog_name = \"sc_4.5_tutti_9w.dat\"\n",
        "earthquakes = pd.read_csv(\"https://raw.githubusercontent.com/Schimmenti/EarthquakesGPS/main/%s\" % catalog_name, sep=\"\\s+\", header=None, names=[\"year\",\"month\",\"day\", \"hh\",\"mn\",\"ss\",\"lat\",\"long\",\"dep\",\"m\"])\n",
        "earthquakes[\"long\"] = -earthquakes[\"long\"]\n",
        "earthquakes[\"Date\"] =pd.to_datetime(earthquakes[['year','month','day']])\n",
        "earthquakes.set_index(\"Date\",inplace=True)\n",
        "earthquakes"
      ],
      "metadata": {
        "colab": {
          "base_uri": "https://localhost:8080/",
          "height": 0
        },
        "id": "dltULGZGF6k9",
        "outputId": "f0e200d0-61cd-47d9-bb67-9561a706b617"
      },
      "execution_count": 21,
      "outputs": [
        {
          "output_type": "execute_result",
          "data": {
            "text/plain": [
              "            year  month  day  hh  mn         ss        lat        long  \\\n",
              "Date                                                                     \n",
              "1999-05-14  1999      5   14   7  54   2.880000  34.067669  116.367996   \n",
              "1999-06-01  1999      6    1  15  18   2.430000  32.379170  115.225830   \n",
              "1999-08-01  1999      8    1  16  11  22.110001  37.417172  117.033501   \n",
              "1999-08-24  1999      8   24  13   4   6.730000  31.943670  114.554497   \n",
              "1999-09-10  1999      9   10  13  40   3.420000  32.378670  115.252167   \n",
              "...          ...    ...  ...  ..  ..        ...        ...         ...   \n",
              "2019-04-06  2019      4    6  21   1  38.430000  30.464331  114.033333   \n",
              "2019-07-04  2019      7    4  17  33  48.529999  35.707501  117.501503   \n",
              "2019-07-18  2019      7   18   3  59  14.430000  36.117001  117.879501   \n",
              "2019-08-22  2019      8   22  20  49  49.540001  35.909329  117.705170   \n",
              "2019-10-15  2019     10   15  19  42  31.360001  36.603169  121.283333   \n",
              "\n",
              "                  dep     m  \n",
              "Date                         \n",
              "1999-05-14   6.000000  4.92  \n",
              "1999-06-01  12.170000  4.92  \n",
              "1999-08-01   3.370000  5.05  \n",
              "1999-08-24  24.440001  4.71  \n",
              "1999-09-10  13.750000  4.80  \n",
              "...               ...   ...  \n",
              "2019-04-06  18.520000  5.20  \n",
              "2019-07-04  11.780000  6.40  \n",
              "2019-07-18   7.110000  4.62  \n",
              "2019-08-22   2.820000  5.01  \n",
              "2019-10-15   9.060000  4.80  \n",
              "\n",
              "[99 rows x 10 columns]"
            ],
            "text/html": [
              "\n",
              "  <div id=\"df-88a208d4-f257-4105-b2a1-5530a961f106\">\n",
              "    <div class=\"colab-df-container\">\n",
              "      <div>\n",
              "<style scoped>\n",
              "    .dataframe tbody tr th:only-of-type {\n",
              "        vertical-align: middle;\n",
              "    }\n",
              "\n",
              "    .dataframe tbody tr th {\n",
              "        vertical-align: top;\n",
              "    }\n",
              "\n",
              "    .dataframe thead th {\n",
              "        text-align: right;\n",
              "    }\n",
              "</style>\n",
              "<table border=\"1\" class=\"dataframe\">\n",
              "  <thead>\n",
              "    <tr style=\"text-align: right;\">\n",
              "      <th></th>\n",
              "      <th>year</th>\n",
              "      <th>month</th>\n",
              "      <th>day</th>\n",
              "      <th>hh</th>\n",
              "      <th>mn</th>\n",
              "      <th>ss</th>\n",
              "      <th>lat</th>\n",
              "      <th>long</th>\n",
              "      <th>dep</th>\n",
              "      <th>m</th>\n",
              "    </tr>\n",
              "    <tr>\n",
              "      <th>Date</th>\n",
              "      <th></th>\n",
              "      <th></th>\n",
              "      <th></th>\n",
              "      <th></th>\n",
              "      <th></th>\n",
              "      <th></th>\n",
              "      <th></th>\n",
              "      <th></th>\n",
              "      <th></th>\n",
              "      <th></th>\n",
              "    </tr>\n",
              "  </thead>\n",
              "  <tbody>\n",
              "    <tr>\n",
              "      <th>1999-05-14</th>\n",
              "      <td>1999</td>\n",
              "      <td>5</td>\n",
              "      <td>14</td>\n",
              "      <td>7</td>\n",
              "      <td>54</td>\n",
              "      <td>2.880000</td>\n",
              "      <td>34.067669</td>\n",
              "      <td>116.367996</td>\n",
              "      <td>6.000000</td>\n",
              "      <td>4.92</td>\n",
              "    </tr>\n",
              "    <tr>\n",
              "      <th>1999-06-01</th>\n",
              "      <td>1999</td>\n",
              "      <td>6</td>\n",
              "      <td>1</td>\n",
              "      <td>15</td>\n",
              "      <td>18</td>\n",
              "      <td>2.430000</td>\n",
              "      <td>32.379170</td>\n",
              "      <td>115.225830</td>\n",
              "      <td>12.170000</td>\n",
              "      <td>4.92</td>\n",
              "    </tr>\n",
              "    <tr>\n",
              "      <th>1999-08-01</th>\n",
              "      <td>1999</td>\n",
              "      <td>8</td>\n",
              "      <td>1</td>\n",
              "      <td>16</td>\n",
              "      <td>11</td>\n",
              "      <td>22.110001</td>\n",
              "      <td>37.417172</td>\n",
              "      <td>117.033501</td>\n",
              "      <td>3.370000</td>\n",
              "      <td>5.05</td>\n",
              "    </tr>\n",
              "    <tr>\n",
              "      <th>1999-08-24</th>\n",
              "      <td>1999</td>\n",
              "      <td>8</td>\n",
              "      <td>24</td>\n",
              "      <td>13</td>\n",
              "      <td>4</td>\n",
              "      <td>6.730000</td>\n",
              "      <td>31.943670</td>\n",
              "      <td>114.554497</td>\n",
              "      <td>24.440001</td>\n",
              "      <td>4.71</td>\n",
              "    </tr>\n",
              "    <tr>\n",
              "      <th>1999-09-10</th>\n",
              "      <td>1999</td>\n",
              "      <td>9</td>\n",
              "      <td>10</td>\n",
              "      <td>13</td>\n",
              "      <td>40</td>\n",
              "      <td>3.420000</td>\n",
              "      <td>32.378670</td>\n",
              "      <td>115.252167</td>\n",
              "      <td>13.750000</td>\n",
              "      <td>4.80</td>\n",
              "    </tr>\n",
              "    <tr>\n",
              "      <th>...</th>\n",
              "      <td>...</td>\n",
              "      <td>...</td>\n",
              "      <td>...</td>\n",
              "      <td>...</td>\n",
              "      <td>...</td>\n",
              "      <td>...</td>\n",
              "      <td>...</td>\n",
              "      <td>...</td>\n",
              "      <td>...</td>\n",
              "      <td>...</td>\n",
              "    </tr>\n",
              "    <tr>\n",
              "      <th>2019-04-06</th>\n",
              "      <td>2019</td>\n",
              "      <td>4</td>\n",
              "      <td>6</td>\n",
              "      <td>21</td>\n",
              "      <td>1</td>\n",
              "      <td>38.430000</td>\n",
              "      <td>30.464331</td>\n",
              "      <td>114.033333</td>\n",
              "      <td>18.520000</td>\n",
              "      <td>5.20</td>\n",
              "    </tr>\n",
              "    <tr>\n",
              "      <th>2019-07-04</th>\n",
              "      <td>2019</td>\n",
              "      <td>7</td>\n",
              "      <td>4</td>\n",
              "      <td>17</td>\n",
              "      <td>33</td>\n",
              "      <td>48.529999</td>\n",
              "      <td>35.707501</td>\n",
              "      <td>117.501503</td>\n",
              "      <td>11.780000</td>\n",
              "      <td>6.40</td>\n",
              "    </tr>\n",
              "    <tr>\n",
              "      <th>2019-07-18</th>\n",
              "      <td>2019</td>\n",
              "      <td>7</td>\n",
              "      <td>18</td>\n",
              "      <td>3</td>\n",
              "      <td>59</td>\n",
              "      <td>14.430000</td>\n",
              "      <td>36.117001</td>\n",
              "      <td>117.879501</td>\n",
              "      <td>7.110000</td>\n",
              "      <td>4.62</td>\n",
              "    </tr>\n",
              "    <tr>\n",
              "      <th>2019-08-22</th>\n",
              "      <td>2019</td>\n",
              "      <td>8</td>\n",
              "      <td>22</td>\n",
              "      <td>20</td>\n",
              "      <td>49</td>\n",
              "      <td>49.540001</td>\n",
              "      <td>35.909329</td>\n",
              "      <td>117.705170</td>\n",
              "      <td>2.820000</td>\n",
              "      <td>5.01</td>\n",
              "    </tr>\n",
              "    <tr>\n",
              "      <th>2019-10-15</th>\n",
              "      <td>2019</td>\n",
              "      <td>10</td>\n",
              "      <td>15</td>\n",
              "      <td>19</td>\n",
              "      <td>42</td>\n",
              "      <td>31.360001</td>\n",
              "      <td>36.603169</td>\n",
              "      <td>121.283333</td>\n",
              "      <td>9.060000</td>\n",
              "      <td>4.80</td>\n",
              "    </tr>\n",
              "  </tbody>\n",
              "</table>\n",
              "<p>99 rows × 10 columns</p>\n",
              "</div>\n",
              "      <button class=\"colab-df-convert\" onclick=\"convertToInteractive('df-88a208d4-f257-4105-b2a1-5530a961f106')\"\n",
              "              title=\"Convert this dataframe to an interactive table.\"\n",
              "              style=\"display:none;\">\n",
              "        \n",
              "  <svg xmlns=\"http://www.w3.org/2000/svg\" height=\"24px\"viewBox=\"0 0 24 24\"\n",
              "       width=\"24px\">\n",
              "    <path d=\"M0 0h24v24H0V0z\" fill=\"none\"/>\n",
              "    <path d=\"M18.56 5.44l.94 2.06.94-2.06 2.06-.94-2.06-.94-.94-2.06-.94 2.06-2.06.94zm-11 1L8.5 8.5l.94-2.06 2.06-.94-2.06-.94L8.5 2.5l-.94 2.06-2.06.94zm10 10l.94 2.06.94-2.06 2.06-.94-2.06-.94-.94-2.06-.94 2.06-2.06.94z\"/><path d=\"M17.41 7.96l-1.37-1.37c-.4-.4-.92-.59-1.43-.59-.52 0-1.04.2-1.43.59L10.3 9.45l-7.72 7.72c-.78.78-.78 2.05 0 2.83L4 21.41c.39.39.9.59 1.41.59.51 0 1.02-.2 1.41-.59l7.78-7.78 2.81-2.81c.8-.78.8-2.07 0-2.86zM5.41 20L4 18.59l7.72-7.72 1.47 1.35L5.41 20z\"/>\n",
              "  </svg>\n",
              "      </button>\n",
              "      \n",
              "  <style>\n",
              "    .colab-df-container {\n",
              "      display:flex;\n",
              "      flex-wrap:wrap;\n",
              "      gap: 12px;\n",
              "    }\n",
              "\n",
              "    .colab-df-convert {\n",
              "      background-color: #E8F0FE;\n",
              "      border: none;\n",
              "      border-radius: 50%;\n",
              "      cursor: pointer;\n",
              "      display: none;\n",
              "      fill: #1967D2;\n",
              "      height: 32px;\n",
              "      padding: 0 0 0 0;\n",
              "      width: 32px;\n",
              "    }\n",
              "\n",
              "    .colab-df-convert:hover {\n",
              "      background-color: #E2EBFA;\n",
              "      box-shadow: 0px 1px 2px rgba(60, 64, 67, 0.3), 0px 1px 3px 1px rgba(60, 64, 67, 0.15);\n",
              "      fill: #174EA6;\n",
              "    }\n",
              "\n",
              "    [theme=dark] .colab-df-convert {\n",
              "      background-color: #3B4455;\n",
              "      fill: #D2E3FC;\n",
              "    }\n",
              "\n",
              "    [theme=dark] .colab-df-convert:hover {\n",
              "      background-color: #434B5C;\n",
              "      box-shadow: 0px 1px 3px 1px rgba(0, 0, 0, 0.15);\n",
              "      filter: drop-shadow(0px 1px 2px rgba(0, 0, 0, 0.3));\n",
              "      fill: #FFFFFF;\n",
              "    }\n",
              "  </style>\n",
              "\n",
              "      <script>\n",
              "        const buttonEl =\n",
              "          document.querySelector('#df-88a208d4-f257-4105-b2a1-5530a961f106 button.colab-df-convert');\n",
              "        buttonEl.style.display =\n",
              "          google.colab.kernel.accessAllowed ? 'block' : 'none';\n",
              "\n",
              "        async function convertToInteractive(key) {\n",
              "          const element = document.querySelector('#df-88a208d4-f257-4105-b2a1-5530a961f106');\n",
              "          const dataTable =\n",
              "            await google.colab.kernel.invokeFunction('convertToInteractive',\n",
              "                                                     [key], {});\n",
              "          if (!dataTable) return;\n",
              "\n",
              "          const docLinkHtml = 'Like what you see? Visit the ' +\n",
              "            '<a target=\"_blank\" href=https://colab.research.google.com/notebooks/data_table.ipynb>data table notebook</a>'\n",
              "            + ' to learn more about interactive tables.';\n",
              "          element.innerHTML = '';\n",
              "          dataTable['output_type'] = 'display_data';\n",
              "          await google.colab.output.renderOutput(dataTable, element);\n",
              "          const docLink = document.createElement('div');\n",
              "          docLink.innerHTML = docLinkHtml;\n",
              "          element.appendChild(docLink);\n",
              "        }\n",
              "      </script>\n",
              "    </div>\n",
              "  </div>\n",
              "  "
            ]
          },
          "metadata": {},
          "execution_count": 21
        }
      ]
    },
    {
      "cell_type": "code",
      "source": [
        "position_array = np.array([station_pos[key] for key in clusters.keys()])"
      ],
      "metadata": {
        "id": "-SD_ILQ--LG3"
      },
      "execution_count": 22,
      "outputs": []
    },
    {
      "cell_type": "code",
      "source": [
        "lat1 = earthquakes['lat'].values.reshape(-1,1)\n",
        "lat2 = position_array[:,0].reshape(1,-1)\n",
        "delta_long = earthquakes['long'].values.reshape(-1,1)-position_array[:,1].reshape(1,-1)"
      ],
      "metadata": {
        "id": "4kR__7C9-j1C"
      },
      "execution_count": 23,
      "outputs": []
    },
    {
      "cell_type": "code",
      "source": [
        "distances = haversine(lat1,lat2,delta_long)"
      ],
      "metadata": {
        "id": "jiiY8sm8-8Jk"
      },
      "execution_count": 24,
      "outputs": []
    },
    {
      "cell_type": "code",
      "source": [
        "closest_station_idx = np.argsort(distances, axis=1)"
      ],
      "metadata": {
        "id": "7uB5_MBf_JZn"
      },
      "execution_count": 25,
      "outputs": []
    },
    {
      "cell_type": "markdown",
      "source": [
        "# Alert probability"
      ],
      "metadata": {
        "id": "3AzznL9GQIpT"
      }
    },
    {
      "cell_type": "code",
      "source": [
        "vth_probs = np.linspace(0,1,50)\n",
        "earthquake_cnt = 0\n",
        "single_cnt = 0\n",
        "alarm = np.zeros_like(vth_probs)\n",
        "single_alarm = np.zeros_like(vth_probs)\n",
        "station_keys_array = np.array(list(clusters.keys()))\n",
        "for cnt, (date,row) in enumerate(earthquakes.iterrows()):\n",
        "    closeness_idx = 0\n",
        "    earthquake_alarm = np.zeros_like(vth_probs)\n",
        "    n_matches = 0\n",
        "    while(True and closeness_idx < len(closest_station_idx[cnt,:])):\n",
        "      closest_station = station_keys_array[closest_station_idx[cnt,closeness_idx]]\n",
        "      final_distance = distances[cnt,closest_station_idx[cnt,closeness_idx]]\n",
        "      if(final_distance <= distance_threshold):\n",
        "        for key in clusters[closest_station]:\n",
        "          match = V_ws[key][V_ws[key].index==date-np.timedelta64(1,'D')]\n",
        "\n",
        "          if((not match.empty) and np.isfinite(match[\"V\"].values).all()):          \n",
        "            V_wind = V_ws[key][\"V\"].values\n",
        "            V_wind = np.sort(V_wind[np.isfinite(V_wind)])\n",
        "            vth_indices = np.minimum(np.maximum((1-vth_probs)*len(V_wind), 0), len(V_wind)-1).astype('int')\n",
        "            vth = V_wind[vth_indices]\n",
        "            earthquake_alarm += np.heaviside(match[\"V\"].values.flatten()-vth,1)\n",
        "            n_matches += 1\n",
        "            if(key == closest_station):\n",
        "              single_alarm += np.heaviside(match[\"V\"].values.flatten()-vth,1)\n",
        "              single_cnt += 1\n",
        "      if(n_matches > 0):\n",
        "        earthquake_cnt += 1\n",
        "        alarm += np.heaviside(earthquake_alarm,0)\n",
        "        break\n",
        "      else:\n",
        "        closeness_idx+=1\n",
        "alarm /= earthquake_cnt\n",
        "single_alarm /= single_cnt"
      ],
      "metadata": {
        "id": "muNCkZISeK6g"
      },
      "execution_count": 41,
      "outputs": []
    },
    {
      "cell_type": "code",
      "source": [
        "plt.plot(vth_probs,1-alarm)\n",
        "#plt.plot(vth_probs,single_alarm)\n",
        "plt.plot(vth_probs, 1-vth_probs)"
      ],
      "metadata": {
        "colab": {
          "base_uri": "https://localhost:8080/",
          "height": 283
        },
        "id": "zR-qXDckRKQZ",
        "outputId": "88033bee-60db-4487-a0d4-658ff143a320"
      },
      "execution_count": 43,
      "outputs": [
        {
          "output_type": "execute_result",
          "data": {
            "text/plain": [
              "[<matplotlib.lines.Line2D at 0x7fbf66264d10>]"
            ]
          },
          "metadata": {},
          "execution_count": 43
        },
        {
          "output_type": "display_data",
          "data": {
            "text/plain": [
              "<Figure size 432x288 with 1 Axes>"
            ],
            "image/png": "[encoded data removed]"
          },
          "metadata": {
            "needs_background": "light"
          }
        }
      ]
    },
    {
      "cell_type": "markdown",
      "source": [
        "# Classification"
      ],
      "metadata": {
        "id": "8PAHSjPKI8WM"
      }
    },
    {
      "cell_type": "code",
      "source": [
        "vth_posterior = {}\n",
        "vth_probs = np.linspace(0,1,15)\n",
        "for key in excoefs.keys():\n",
        "  V = np.sqrt(np.sum(excoefs[key][:2,:]**2,axis=0))\n",
        "  V_windowed = max_filter1d_valid(V, W)\n",
        "  V_windowed = V_windowed[np.isfinite(V_windowed)]\n",
        "  if(len(V_windowed)>0):\n",
        "    vth_indices = np.maximum(np.minimum(((1-vth_probs)*len(V_windowed)).astype('int'), len(V_windowed)-1), 0)\n",
        "    vth_posterior[key] = V_windowed[vth_indices]\n",
        "  else:\n",
        "    vth_posterior[key] = np.ones(len(vth_probs))*np.nan"
      ],
      "metadata": {
        "id": "B8Hg1IQ7aTuD"
      },
      "execution_count": null,
      "outputs": []
    },
    {
      "cell_type": "code",
      "source": [
        "threshold_dist = 5e-2\n",
        "res = []\n",
        "for cnt, (date,row) in enumerate(earthquakes.iterrows()):\n",
        "  alerts = np.zeros_like(vth_probs)\n",
        "  matches = np.zeros_like(vth_probs)\n",
        "  for cnt2, key in enumerate(excoefs.keys()):\n",
        "     dist = distances[cnt,cnt2]\n",
        "     if(dist <= threshold_dist):\n",
        "       match = np.argwhere(stat_data[key].index==date).flatten()\n",
        "       if(len(match)>0):\n",
        "         match = match[0]\n",
        "         matches += 1\n",
        "         v_matched = np.sqrt(np.sum(excoefs[key][:,match-W:match][:2,:]**2,axis=0))\n",
        "         v_matched = v_matched[np.isfinite(v_matched)]\n",
        "         if(len(v_matched) > 0):\n",
        "           v = np.max(v_matched)\n",
        "           alerts += (v >= vth_posterior[key])\n",
        "  res.append(alerts/matches)\n",
        "res = np.array(res)\n",
        "res = res[np.isfinite(res)].reshape(-1,res.shape[1])"
      ],
      "metadata": {
        "colab": {
          "base_uri": "https://localhost:8080/"
        },
        "id": "7HlAcg0BAnqn",
        "outputId": "3f658417-66bc-4b53-d594-d1327b0c1390"
      },
      "execution_count": null,
      "outputs": [
        {
          "output_type": "stream",
          "name": "stderr",
          "text": [
            "/usr/local/lib/python3.7/dist-packages/ipykernel_launcher.py:18: RuntimeWarning: invalid value encountered in true_divide\n"
          ]
        }
      ]
    },
    {
      "cell_type": "code",
      "source": [
        "for idx in range(1, len(vth_probs), 3):\n",
        "  signaled = (res[:, idx].reshape(-1,1) >= np.linspace(0,1).reshape(1,-1)).mean(axis=0)\n",
        "  plt.plot(np.linspace(0,1), signaled, label=\"%f\" % vth_probs[idx])\n",
        "plt.xlabel(\"$p_{\\\\rm min}$ alarm\")\n",
        "plt.legend()\n",
        "plt.show()"
      ],
      "metadata": {
        "colab": {
          "base_uri": "https://localhost:8080/",
          "height": 283
        },
        "id": "FlrhytPIJMs_",
        "outputId": "2e2e4cb4-f0b6-418f-cb0e-4308e971f3bb"
      },
      "execution_count": null,
      "outputs": [
        {
          "output_type": "display_data",
          "data": {
            "text/plain": [
              "<Figure size 432x288 with 1 Axes>"
            ],
            "image/png": "[encoded data removed]"
          },
          "metadata": {
            "needs_background": "light"
          }
        }
      ]
    },
    {
      "cell_type": "code",
      "source": [
        "threshold_dist = 1e-2\n",
        "probs = [0.05,0.1,0.2,0.3,0.4,0.5,0.6,0.7,0.8,0.9,0.95]\n",
        "res = []\n",
        "for v_th_prob in probs:\n",
        "  v_thresholds = {}\n",
        "  for key in excoefs.keys():\n",
        "    V = np.sqrt(np.sum(excoefs[key][:2,:]**2,axis=0))\n",
        "    V = V[np.isfinite(V)]\n",
        "    V = np.sort(V)\n",
        "    v_th_idx = int(len(V)*(1-v_th_prob))\n",
        "    if(len(V) == 0):\n",
        "      v_thresholds[key] = np.infty\n",
        "    else:\n",
        "      v_thresholds[key] = V[v_th_idx]\n",
        "    #plt.plot(V,np.linspace(0,1,len(V)))\n",
        "    #plt.vlines(v_thresholds[key],0,1)\n",
        "    #plt.xscale('log')\n",
        "    #plt.show()\n",
        "    #break\n",
        "  signal_prob = []\n",
        "  signal_magn = []\n",
        "  for cnt, (date,row) in enumerate(earthquakes.iterrows()):\n",
        "    match_cnt = 0\n",
        "    alert_cnt = 0\n",
        "    for cnt2, key in enumerate(excoefs.keys()):\n",
        "       dist = distances[cnt,cnt2]\n",
        "       if(dist <= threshold_dist):\n",
        "         match = np.argwhere(stat_data[key].index==date).flatten()\n",
        "         if(len(match)>0):\n",
        "           match = match[0]\n",
        "           v_matched = np.sqrt(np.sum(excoefs[key][:,match-W:match][:2,:]**2,axis=0))\n",
        "           v_matched = v_matched[np.isfinite(v_matched)]\n",
        "           if(len(v_matched) == W):\n",
        "             match_cnt += 1\n",
        "             if(np.max(v_matched) >= v_thresholds[key]):\n",
        "               alert_cnt += 1\n",
        "    if(match_cnt > 0):\n",
        "      signal_prob.append(alert_cnt/match_cnt)\n",
        "      signal_magn.append(row[\"m\"])\n",
        "  res.append( np.array(signal_prob) )\n",
        "res = np.array(res)"
      ],
      "metadata": {
        "id": "eN2_zBLiHOKl"
      },
      "execution_count": null,
      "outputs": []
    },
    {
      "cell_type": "code",
      "source": [
        "cuts = (res[:,np.newaxis,:]>np.linspace(0,1,20).reshape(1,-1,1)).astype('int')"
      ],
      "metadata": {
        "id": "4weVoDTvuS0w"
      },
      "execution_count": null,
      "outputs": []
    },
    {
      "cell_type": "code",
      "source": [
        "plt.plot(probs, 1-cuts[:,5,:].mean(axis=-1))\n",
        "plt.plot(probs, 1-cuts[:,10,:].mean(axis=-1))\n",
        "plt.plot(probs, 1-cuts[:,15,:].mean(axis=-1))\n",
        "plt.plot(probs,1-np.array(probs), ls='dashed', c='black')\n",
        "plt.show()"
      ],
      "metadata": {
        "colab": {
          "base_uri": "https://localhost:8080/",
          "height": 268
        },
        "id": "QcQfpfjxvy2r",
        "outputId": "52297ba9-2d43-4fea-ef7e-92a506dc5660"
      },
      "execution_count": null,
      "outputs": [
        {
          "output_type": "display_data",
          "data": {
            "text/plain": [
              "<Figure size 432x288 with 1 Axes>"
            ],
            "image/png": "[encoded data removed]"
          },
          "metadata": {
            "needs_background": "light"
          }
        }
      ]
    },
    {
      "cell_type": "code",
      "source": [
        "non_signaled = 1-cuts.sum(axis=2)/cuts.shape[2]"
      ],
      "metadata": {
        "id": "aY2-3rn-uv5-"
      },
      "execution_count": null,
      "outputs": []
    },
    {
      "cell_type": "code",
      "source": [
        "non_signaled.shape"
      ],
      "metadata": {
        "colab": {
          "base_uri": "https://localhost:8080/"
        },
        "id": "Lbabj8c_u9YE",
        "outputId": "6ca69dde-99f4-43f3-cbb4-7fe28e31c999"
      },
      "execution_count": null,
      "outputs": [
        {
          "output_type": "execute_result",
          "data": {
            "text/plain": [
              "(11, 20)"
            ]
          },
          "metadata": {},
          "execution_count": 114
        }
      ]
    },
    {
      "cell_type": "markdown",
      "source": [
        "# Discard"
      ],
      "metadata": {
        "id": "Hwy4o01HI55X"
      }
    },
    {
      "cell_type": "code",
      "source": [
        "m_day = catalog[\"m\"].groupby(\"Date\").apply(lambda x : (2/3)*np.log10(np.sum(10**(1.5*x))))\n",
        "true_days = m_day.index\n",
        "m_day = m_day.values\n",
        "lat_day = catalog[\"lat\"].groupby(\"Date\").mean().values\n",
        "long_day = catalog[\"long\"].groupby(\"Date\").mean().values\n",
        "dep_day = catalog[\"dep\"].groupby(\"Date\").mean().values"
      ],
      "metadata": {
        "id": "DFI4etj1POk6"
      },
      "execution_count": null,
      "outputs": []
    },
    {
      "cell_type": "code",
      "source": [
        "catalog_day = pd.DataFrame(columns = [\"m\", \"lat\", \"long\", \"dep\" ])"
      ],
      "metadata": {
        "id": "Gm6hoZFi-tWt"
      },
      "execution_count": null,
      "outputs": []
    },
    {
      "cell_type": "code",
      "source": [
        "catalog_day[\"m\"] = m_day\n",
        "catalog_day[\"lat\"] = lat_day\n",
        "catalog_day[\"long\"] = long_day\n",
        "catalog_day[\"dep\"] = dep_day\n",
        "catalog_day.index = true_days"
      ],
      "metadata": {
        "id": "3fyQXz1b-6CH"
      },
      "execution_count": null,
      "outputs": []
    },
    {
      "cell_type": "code",
      "source": [
        "catalog_day.to_csv(\"catalog_day.csv\", sep=\"\\t\")"
      ],
      "metadata": {
        "id": "rvC8A6mW_YJv"
      },
      "execution_count": null,
      "outputs": []
    },
    {
      "cell_type": "markdown",
      "source": [
        "# Pytorch"
      ],
      "metadata": {
        "id": "BPv6R-4DSGVM"
      }
    },
    {
      "cell_type": "code",
      "source": [
        "T_seq = 10\n",
        "delta_days = np.timedelta64(T_seq, 'D')\n",
        "max_distance = 5e-3\n",
        "dataset = []\n",
        "for cnt, (date,row) in enumerate(earthquakes.iterrows()):\n",
        "  for key in stat_data.keys():\n",
        "    pos = station_pos[key]\n",
        "    dist = haversine(pos[0], row[\"lat\"], pos[1]-row[\"long\"])\n",
        "    if(dist <= max_distance):\n",
        "      match = stat_data[key][np.logical_and(stat_data[key].index < date,stat_data[key].index >= date - delta_days )]\n",
        "      if((not match.empty) and (np.isfinite(match[\"N\"]).all())):\n",
        "        match = match[[\"N\",\"E\",\"U\"]]\n",
        "        if(match.shape[0] < T_seq):\n",
        "          continue\n",
        "        else:\n",
        "          match = match.values[np.newaxis,...]\n",
        "          dataset.append(match)                              \n",
        "dataset = np.transpose(np.concatenate(dataset, axis=0),axes=(0,2,1))\n",
        "with open(\"dset_false_T=%i_dist=%f.pkl\" % (T_seq, max_distance), \"wb\") as handle:\n",
        "  pkl.dump(dataset, handle)"
      ],
      "metadata": {
        "id": "XucxNRJFSIRs"
      },
      "execution_count": null,
      "outputs": []
    },
    {
      "cell_type": "code",
      "source": [
        "with open(\"drive/MyDrive/Colab Notebooks/dset_false_T=%i_dist=%f.pkl\" % (T_seq, max_distance), \"rb\") as handle:\n",
        "  d_false = pkl.load(handle)\n",
        "with open(\"drive/MyDrive/Colab Notebooks/dset_true_T=%i_dist=%f.pkl\" % (T_seq, max_distance), \"rb\") as handle:\n",
        "  d_true = pkl.load(handle)"
      ],
      "metadata": {
        "id": "0kFkEizDcpTm"
      },
      "execution_count": null,
      "outputs": []
    },
    {
      "cell_type": "code",
      "source": [
        "data = np.concatenate([d_false, d_true], axis=0)\n",
        "labels = np.concatenate([np.zeros(d_false.shape[0],dtype=int), np.ones(d_true.shape[0], dtype=int)])"
      ],
      "metadata": {
        "id": "mhwcGsNvdY1n"
      },
      "execution_count": null,
      "outputs": []
    },
    {
      "cell_type": "code",
      "source": [
        "from sklearn.model_selection import train_test_split\n",
        "\n",
        "train_indices, test_indices = train_test_split(np.arange(labels.shape[0]), train_size=0.7, stratify=labels, shuffle=True)"
      ],
      "metadata": {
        "id": "IdkaaGPakr9F"
      },
      "execution_count": null,
      "outputs": []
    },
    {
      "cell_type": "code",
      "source": [
        "x_train, x_test = torch.FloatTensor(data[train_indices]), torch.FloatTensor(data[test_indices])\n",
        "y_train, y_test = torch.LongTensor(labels[train_indices]), torch.LongTensor(labels[test_indices])"
      ],
      "metadata": {
        "id": "Wq7YjPetlfMw"
      },
      "execution_count": null,
      "outputs": []
    },
    {
      "cell_type": "code",
      "source": [
        "import torch\n",
        "import torch.nn as nn\n",
        "import torch.nn.functional as F\n",
        "import torch.optim as optim\n",
        "\n",
        "\n",
        "class gpsnet(nn.Module):\n",
        "    def __init__(self, T_seq):\n",
        "        super().__init__()\n",
        "        self.T_seq = T_seq\n",
        "        self.conv1 = nn.Conv1d(3, 32, 3) #output is T_seq - 2\n",
        "        self.conv1_sz = ((self.T_seq+2*0-1*(3-1)-1)//1+1)\n",
        "        self.bnorm1 = nn.BatchNorm1d(32)\n",
        "        self.conv2 = nn.Conv1d(32, 64, 3)\n",
        "        self.bnorm2 = nn.BatchNorm1d(64)\n",
        "        self.conv2_sz = ((self.conv1_sz+2*0-1*(3-1)-1)//1+1)\n",
        "        self.fc1 = nn.Linear(64*self.conv2_sz, 128)\n",
        "        self.fc2 = nn.Linear(128, 64)\n",
        "        self.fc3 = nn.Linear(64, 1)\n",
        "        \n",
        "\n",
        "    def forward(self, x):\n",
        "        x = self.conv1(x)\n",
        "        x = self.bnorm1(F.relu(x))\n",
        "        x = self.conv2(x)\n",
        "        x = self.bnorm2(F.relu(x))\n",
        "        x = torch.flatten(x, 1)\n",
        "        x = F.relu(self.fc1(x))\n",
        "        x = F.relu(self.fc2(x))\n",
        "        x = self.fc3(x)\n",
        "        return torch.sigmoid(x)"
      ],
      "metadata": {
        "id": "JxSqagm4V4_S"
      },
      "execution_count": null,
      "outputs": []
    },
    {
      "cell_type": "code",
      "source": [
        "net = gpsnet(T_seq)\n",
        "batch_size = 10\n",
        "weight1 = y_train.sum()/len(y_train)\n",
        "criterion = nn.BCELoss()\n",
        "optimizer = optim.SGD(net.parameters(), lr=0.0001, momentum=0.9)\n",
        "hist = []\n",
        "for epoch in range(2000):  # loop over the dataset multiple times\n",
        "    for i in range(0, x_train.size(0), batch_size):\n",
        "        # get the inputs; data is a list of [inputs, labels]\n",
        "        endpt = min(i+batch_size, x_train.size(0))\n",
        "        inputs, ground_tr = x_train[i:endpt], y_train[i:endpt].to(torch.float32)\n",
        "        #weight = torch.zeros(batch_size)\n",
        "        #weight[ground_tr[:,0]==1] = (1-weight1)/batch_size\n",
        "        #weight[ground_tr[:,0]==0] = weight1/batch_size\n",
        "        #criterion.weight=weight\n",
        "        # zero the parameter gradients\n",
        "        optimizer.zero_grad()\n",
        "\n",
        "        # forward + backward + optimize\n",
        "        outputs = net(inputs)\n",
        "        loss = criterion(outputs.squeeze(1), ground_tr)\n",
        "        loss.backward()\n",
        "        optimizer.step()\n",
        "\n",
        "        if i % 1 == 0: \n",
        "            hist.append(loss.item())\n",
        "\n",
        "print('Finished Training')"
      ],
      "metadata": {
        "colab": {
          "base_uri": "https://localhost:8080/"
        },
        "id": "Rt8KHl9se3Pr",
        "outputId": "e081f38b-7415-4d8a-f250-17935bc96b18"
      },
      "execution_count": null,
      "outputs": [
        {
          "output_type": "stream",
          "name": "stdout",
          "text": [
            "Finished Training\n"
          ]
        }
      ]
    },
    {
      "cell_type": "code",
      "source": [
        "with torch.no_grad():\n",
        "  res = net(x_train)\n",
        "  print(criterion(res.squeeze(1), y_train.to(torch.float32)))\n",
        "  #res = net(x_train)\n",
        "  #print(criterion(res, y_train.view(-1,1).to(torch.float32)))"
      ],
      "metadata": {
        "colab": {
          "base_uri": "https://localhost:8080/"
        },
        "id": "rFLmW92zonGV",
        "outputId": "d04da8d3-3d78-4b8f-a71b-a3337086ff94"
      },
      "execution_count": null,
      "outputs": [
        {
          "output_type": "stream",
          "name": "stdout",
          "text": [
            "tensor(0.4853)\n"
          ]
        }
      ]
    },
    {
      "cell_type": "code",
      "source": [
        "plt.plot(hist)"
      ],
      "metadata": {
        "id": "QofKhBNc1uTp",
        "outputId": "167e0e07-2739-4e12-9b8e-b1fd3e3a31fc",
        "colab": {
          "base_uri": "https://localhost:8080/",
          "height": 283
        }
      },
      "execution_count": null,
      "outputs": [
        {
          "output_type": "execute_result",
          "data": {
            "text/plain": [
              "[<matplotlib.lines.Line2D at 0x7f0494880090>]"
            ]
          },
          "metadata": {},
          "execution_count": 519
        },
        {
          "output_type": "display_data",
          "data": {
            "text/plain": [
              "<Figure size 432x288 with 1 Axes>"
            ],
            "image/png": "[encoded data removed]"
          },
          "metadata": {
            "needs_background": "light"
          }
        }
      ]
    },
    {
      "cell_type": "code",
      "source": [
        ""
      ],
      "metadata": {
        "id": "1mt5yMVq1vbo"
      },
      "execution_count": null,
      "outputs": []
    }
  ]
}