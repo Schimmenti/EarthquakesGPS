{
  "nbformat": 4,
  "nbformat_minor": 0,
  "metadata": {
    "colab": {
      "name": "Dataset.ipynb",
      "provenance": [],
      "include_colab_link": true
    },
    "kernelspec": {
      "name": "python3",
      "display_name": "Python 3"
    },
    "language_info": {
      "name": "python"
    }
  },
  "cells": [
    {
      "cell_type": "markdown",
      "metadata": {
        "id": "view-in-github",
        "colab_type": "text"
      },
      "source": [
        "<a href=\"https://colab.research.google.com/github/Schimmenti/EarthquakesGPS/blob/main/Dataset.ipynb\" target=\"_parent\"><img src=\"https://colab.research.google.com/assets/colab-badge.svg\" alt=\"Open In Colab\"/></a>"
      ]
    },
    {
      "cell_type": "code",
      "execution_count": 1,
      "metadata": {
        "id": "Y_QgiMeEx9kw",
        "colab": {
          "base_uri": "https://localhost:8080/"
        },
        "outputId": "a55e491e-3f37-4349-a1d6-d44999154648"
      },
      "outputs": [
        {
          "output_type": "stream",
          "name": "stdout",
          "text": [
            "Mounted at /content/drive\n"
          ]
        }
      ],
      "source": [
        "import numpy as np\n",
        "import pandas as pd\n",
        "import pickle as pkl\n",
        "import scipy.stats as stats\n",
        "import matplotlib.pyplot as plt\n",
        "import datetime\n",
        "import time\n",
        "from scipy.ndimage.filters import maximum_filter1d, minimum_filter1d\n",
        "from google.colab import drive\n",
        "from sklearn.metrics import roc_curve\n",
        "drive.mount('/content/drive', force_remount=True)\n",
        "from sklearn.neighbors import  KDTree,BallTree\n",
        "from numba import jit, njit"
      ]
    },
    {
      "cell_type": "markdown",
      "source": [
        "# Utils"
      ],
      "metadata": {
        "id": "gl0EtEvxs8br"
      }
    },
    {
      "cell_type": "code",
      "source": [
        "from numpy.lib.stride_tricks import as_strided\n",
        "\n",
        "#https://stackoverflow.com/questions/51808573/running-window-of-max-min-in-a-numpy-array\n",
        "def running_max_min(a, window_size, step_size = 1, add_heading_nan=True):\n",
        "    nrows = (a.size - window_size)//step_size + 1\n",
        "    n = a.strides[0]\n",
        "    s = as_strided(a, shape=(nrows, window_size), strides=(step_size*n, n))\n",
        "    if(add_heading_nan):\n",
        "      return np.concatenate([np.ones(window_size-1)*np.NaN, s.ptp(1)])\n",
        "    else:\n",
        "      return s.ptp(1)\n",
        "      \n",
        "#def max_filter1d_valid(a, W, add_heading_nan=True):\n",
        "#    hW = (W-1)//2 # Half window size\n",
        "#    if(add_heading_nan):\n",
        "#      if(W%2==1):\n",
        "#        return np.concatenate([np.ones(W-1)*np.nan,maximum_filter1d(a,size=W)[hW:-hW]])\n",
        "#      else:\n",
        "#        return np.concatenate([np.ones(W-2)*np.nan,maximum_filter1d(a,size=W)[hW:-hW]])\n",
        "#    else:\n",
        "#      return maximum_filter1d(a,size=W)[hW:-hW]\n",
        "#def min_filter1d_valid(a, W, add_heading_nan=True):\n",
        "#    hW = (W-1)//2 # Half window size\n",
        "#    if(add_heading_nan):\n",
        "#      if(W%2==1):\n",
        "#        return np.concatenate([np.ones(W-1)*np.nan,minimum_filter1d(a,size=W)[hW:-hW]])\n",
        "#      else:\n",
        "#        return np.concatenate([np.ones(W-2)*np.nan,minimum_filter1d(a,size=W)[hW:-hW]])\n",
        "#    else:\n",
        "#      return minimum_filter1d(a,size=W)[hW:-hW]"
      ],
      "metadata": {
        "id": "3V3ZugvXs_Ld"
      },
      "execution_count": 2,
      "outputs": []
    },
    {
      "cell_type": "code",
      "source": [
        "def haversine(lat1, lat2, delta_long):\n",
        "  return np.sin((lat2-lat1)/2)**2+np.cos(lat1)*np.cos(lat2)*np.sin(delta_long/2)**2"
      ],
      "metadata": {
        "id": "xbH1ADom-e5K"
      },
      "execution_count": 3,
      "outputs": []
    },
    {
      "cell_type": "code",
      "source": [
        "def moving_lin_regress(x, T, add_heading_nan=True):\n",
        "    m = []\n",
        "    for t in range(0,len(x)-T+1):\n",
        "        m.append(stats.linregress(np.arange(0,T),x[t:t+T])[0])\n",
        "    if(add_heading_nan):\n",
        "      return np.concatenate([np.ones(T-1)*np.nan, np.array(m)])\n",
        "    else:\n",
        "      return np.array(m)"
      ],
      "metadata": {
        "id": "r5MxN8MCzqln"
      },
      "execution_count": 4,
      "outputs": []
    },
    {
      "cell_type": "markdown",
      "source": [
        "# Station Names/Pos"
      ],
      "metadata": {
        "id": "n5B2fB-rtBNI"
      }
    },
    {
      "cell_type": "code",
      "source": [
        "base_link = \"https://raw.githubusercontent.com/Schimmenti/EarthquakesGPS/main/gps_data/\""
      ],
      "metadata": {
        "id": "CIFz3TRJyjwN"
      },
      "execution_count": 5,
      "outputs": []
    },
    {
      "cell_type": "code",
      "source": [
        "! wget \"https://raw.githubusercontent.com/Schimmenti/EarthquakesGPS/main/gps_data/stat_info.pkl\""
      ],
      "metadata": {
        "colab": {
          "base_uri": "https://localhost:8080/"
        },
        "id": "i45aPIdXylyt",
        "outputId": "18d170c4-1287-4d02-d7eb-a86756e8df69"
      },
      "execution_count": 6,
      "outputs": [
        {
          "output_type": "stream",
          "name": "stdout",
          "text": [
            "--2022-04-03 14:56:57--  https://raw.githubusercontent.com/Schimmenti/EarthquakesGPS/main/gps_data/stat_info.pkl\n",
            "Resolving raw.githubusercontent.com (raw.githubusercontent.com)... 185.199.108.133, 185.199.109.133, 185.199.110.133, ...\n",
            "Connecting to raw.githubusercontent.com (raw.githubusercontent.com)|185.199.108.133|:443... connected.\n",
            "HTTP request sent, awaiting response... 200 OK\n",
            "Length: 17030 (17K) [application/octet-stream]\n",
            "Saving to: ‘stat_info.pkl’\n",
            "\n",
            "\rstat_info.pkl         0%[                    ]       0  --.-KB/s               \rstat_info.pkl       100%[===================>]  16.63K  --.-KB/s    in 0s      \n",
            "\n",
            "2022-04-03 14:56:57 (74.7 MB/s) - ‘stat_info.pkl’ saved [17030/17030]\n",
            "\n"
          ]
        }
      ]
    },
    {
      "cell_type": "code",
      "source": [
        "with open(\"stat_info.pkl\",\"rb\") as handle:\n",
        "  station_names, station_pos = pkl.load(handle)"
      ],
      "metadata": {
        "id": "Ee6C9Q0xyp_s"
      },
      "execution_count": 7,
      "outputs": []
    },
    {
      "cell_type": "markdown",
      "source": [
        "# Stations Raw Data"
      ],
      "metadata": {
        "id": "cK9K6hx6tTsf"
      }
    },
    {
      "cell_type": "code",
      "source": [
        "load_stat_raw_data = True\n",
        "if(load_stat_raw_data):\n",
        "  with open(\"drive/MyDrive/Colab Notebooks/stat_data.pkl\",\"rb\") as handle:\n",
        "    stat_data = pkl.load(handle)\n",
        "else:\n",
        "  stat_data = {}\n",
        "  for name in station_names:\n",
        "    try:\n",
        "      stat_data[name] = pd.read_csv(base_link + name + \".csv\")\n",
        "    except:\n",
        "      continue\n",
        "  for name in stat_data.keys():\n",
        "    stat_data[name]['Date'] = pd.to_datetime(stat_data[name]['DateI'], format='%Y%m%d')\n",
        "    stat_data[name].set_index(\"Date\", drop=True, inplace=True)\n",
        "    idx = pd.date_range(stat_data[name].index[0], stat_data[name].index[-1])\n",
        "    stat_data[name] = stat_data[name].reindex(idx, fill_value=np.NaN)\n",
        "  with open(\"stat_data.pkl\", \"wb\") as handle:\n",
        "    pkl.dump(stat_data,handle)"
      ],
      "metadata": {
        "id": "hoiPNm0DtVej"
      },
      "execution_count": 8,
      "outputs": []
    },
    {
      "cell_type": "markdown",
      "source": [
        "# Linear Regression Coefficents"
      ],
      "metadata": {
        "id": "ApenMMDit1ar"
      }
    },
    {
      "cell_type": "code",
      "source": [
        "W=10\n",
        "load_coefs = True\n",
        "if(load_coefs):\n",
        "  with open(\"drive/MyDrive/Colab Notebooks/T_W=%i.pkl\"%W,\"rb\") as handle:\n",
        "    coefs = pkl.load(handle)\n",
        "else:\n",
        "  coefs = {}\n",
        "  for name in stat_data.keys():\n",
        "    nord = stat_data[name][\"N\"].values\n",
        "    if(len(nord) >= W):\n",
        "      T_w_nord = moving_lin_regress(nord, W)\n",
        "      east = stat_data[name][\"E\"].values\n",
        "      T_w_east = moving_lin_regress(east, W)\n",
        "      up = stat_data[name][\"U\"].values\n",
        "      T_w_up = moving_lin_regress(up, W)\n",
        "      coefs[name] = np.array([T_w_nord, T_w_east, T_w_up])\n",
        "  with open(\"T_W=%i.pkl\"%W, \"wb\") as handle:\n",
        "    pkl.dump(coefs,handle)"
      ],
      "metadata": {
        "id": "6zrbH_eYt5JN"
      },
      "execution_count": 9,
      "outputs": []
    },
    {
      "cell_type": "markdown",
      "source": [
        "# Excursion Coefficents"
      ],
      "metadata": {
        "id": "LQdZpEyTapI3"
      }
    },
    {
      "cell_type": "code",
      "source": [
        "load_excoefs = True\n",
        "if(load_excoefs):\n",
        "  with open(\"drive/MyDrive/Colab Notebooks/ex_T_W=%i.pkl\"%W,\"rb\") as handle:\n",
        "    excoefs = pkl.load(handle)\n",
        "else:\n",
        "  excoefs = {}\n",
        "  for key in coefs.keys():\n",
        "    temp = []\n",
        "    for el in coefs[key]:\n",
        "      temp.append(running_max_min(el, W))\n",
        "    temp = np.array(temp)\n",
        "    excoefs[key] = temp\n",
        "  with open(\"ex_T_W=%i.pkl\" %W, \"wb\") as handle:\n",
        "    pkl.dump(excoefs,handle)"
      ],
      "metadata": {
        "id": "a2Gegab1uUhk"
      },
      "execution_count": 10,
      "outputs": []
    },
    {
      "cell_type": "markdown",
      "source": [
        "# $V_i$ coefficents (cell)"
      ],
      "metadata": {
        "id": "wQ374ZQ_u4M6"
      }
    },
    {
      "cell_type": "code",
      "source": [
        "load_v_cell = True\n",
        "W_cell = 20\n",
        "if(load_v_cell):\n",
        "  with open(\"drive/MyDrive/Colab Notebooks/V_W=%i_W_cell=%i.pkl\" %(W,W_cell), \"rb\") as handle:\n",
        "    V_cells = pkl.load(handle)\n",
        "else:\n",
        "  V_cells = {}\n",
        "  gammas = np.array([1,1,0])\n",
        "  for key in excoefs.keys():\n",
        "    V_day = np.sqrt(np.matmul(gammas,(excoefs[key]**2)))\n",
        "    if(len(V_day) <= W_cell):\n",
        "      V_cell = np.ones(W_cell)*np.max(V_day)\n",
        "      flag = np.zeros(len(V_cell), dtype=int)\n",
        "      flag[0] = 1\n",
        "    else:\n",
        "      V_cell = np.concatenate([ np.max(cell)*np.ones(len(cell)) for cell in np.split(V_day, np.arange(0, len(V_day), W_cell))[1:]])\n",
        "      flag = np.zeros(len(V_cell), dtype=int)\n",
        "      flag[np.arange(0, len(V_day), W_cell)] = 1\n",
        "    s_days = stat_data[key].index.values\n",
        "    df = pd.DataFrame()\n",
        "    df[\"Date\"] = s_days\n",
        "    df[\"V\"] = V_cell\n",
        "    df[\"Flag\"] = flag\n",
        "    df.set_index(\"Date\", drop=True, inplace=True)\n",
        "    V_cells[key] = df\n",
        "  with open(\"V_W=%i_W_cell=%i.pkl\" %(W,W_cell), \"wb\") as handle:\n",
        "    pkl.dump(V_cells,handle)"
      ],
      "metadata": {
        "id": "yl9Km2zivUwO"
      },
      "execution_count": 11,
      "outputs": []
    },
    {
      "cell_type": "markdown",
      "source": [
        "# $V_i$ coefficents (day)"
      ],
      "metadata": {
        "id": "6F1RZoAC4Mxt"
      }
    },
    {
      "cell_type": "code",
      "source": [
        "W_max=W\n",
        "V_ws = {}\n",
        "for key in excoefs.keys():\n",
        "  V = np.sqrt(np.sum(excoefs[key][:2,:]**2,axis=0))\n",
        "  if(len(V) <= W_max):\n",
        "    V_windowed = V\n",
        "  else:\n",
        "    V_windowed = max_filter1d_valid(V, W_max)\n",
        "  s_days = stat_data[key].index.values\n",
        "  df = pd.DataFrame()\n",
        "  df[\"Date\"] = s_days\n",
        "  df[\"V\"] = V_windowed\n",
        "  df.set_index(\"Date\", drop=True, inplace=True)\n",
        "  V_ws[key] = df\n",
        "  if(len(s_days)!=excoefs[key].shape[1]):\n",
        "    print(\"Sheit\")"
      ],
      "metadata": {
        "id": "9pemYoPFONZc"
      },
      "execution_count": null,
      "outputs": []
    },
    {
      "cell_type": "code",
      "source": [
        "with open(\"V_W=%i.pkl\" %W_max, \"wb\") as handle:\n",
        "  pkl.dump(V_ws,handle)"
      ],
      "metadata": {
        "id": "i4KEDvXwb7ig"
      },
      "execution_count": null,
      "outputs": []
    },
    {
      "cell_type": "markdown",
      "source": [
        "# Earthquake catalogs"
      ],
      "metadata": {
        "id": "_-_bCOXu0Jjx"
      }
    },
    {
      "cell_type": "code",
      "source": [
        "def download_catalog(catalog_name):\n",
        "  earthquakes = pd.read_csv(\"https://raw.githubusercontent.com/Schimmenti/EarthquakesGPS/main/%s\" % catalog_name, sep=\"\\s+\", header=None, names=[\"year\",\"month\",\"day\", \"hh\",\"mn\",\"ss\",\"lat\",\"long\",\"dep\",\"m\"])\n",
        "  earthquakes[\"long\"] = -earthquakes[\"long\"]\n",
        "  earthquakes[\"Date\"] =pd.to_datetime(earthquakes[['year','month','day']])\n",
        "  earthquakes.set_index(\"Date\",inplace=True)\n",
        "  return earthquakes\n",
        "\n",
        "def download_catalog_hauksson():\n",
        "  catalog = pd.read_csv(\"https://raw.githubusercontent.com/Schimmenti/EarthquakesGPS/main/hauksson_relocated.dat\",sep=r\"\\s+\",header=None)\n",
        "  catalog.columns = [\"sec\",\"m\",\"lat\",\"long\",\"dep\"]\n",
        "  landers = catalog[catalog[\"m\"]==7.3]\n",
        "  landers_date = datetime.date(1992,6,28)\n",
        "  landers_time = datetime.timedelta(hours=11, minutes=57, seconds=33)\n",
        "  delta_time = datetime.timedelta(seconds=float(landers['sec'].values))\n",
        "  catalog_beginning = landers_date+landers_time-delta_time\n",
        "  catalog_seconds = catalog['sec'].values.astype('timedelta64[s]')\n",
        "  start_date = np.datetime64(catalog_beginning)\n",
        "  catalog_dates = start_date + catalog_seconds\n",
        "  year_integer =  catalog_dates.astype('datetime64[Y]').astype('int')+1970\n",
        "  month_integer =  catalog_dates.astype('datetime64[M]').astype('int')%12+1\n",
        "  day_integer = (catalog_dates- catalog_dates.astype('datetime64[M]') + 1).astype('timedelta64[D]').astype('int')+1\n",
        "  date_integer =(year_integer*10000+month_integer*100+day_integer)\n",
        "  pandas_datetime = pd.to_datetime(date_integer, format='%Y%m%d')\n",
        "  catalog[\"Date\"] = pandas_datetime\n",
        "  catalog.set_index(\"Date\", drop=True, inplace=True)\n",
        "  #catalog.to_csv(\"catalog.csv\", sep=\"\\t\")\n",
        "  return catalog"
      ],
      "metadata": {
        "id": "rL6-6v6X0LPi"
      },
      "execution_count": 12,
      "outputs": []
    },
    {
      "cell_type": "code",
      "source": [
        "catalog_big = download_catalog(\"sc_4.5_tutti_9w.dat\")\n",
        "catalog_small = download_catalog(\"sc_schifezze.dat\")"
      ],
      "metadata": {
        "id": "4wO1ko6W0Uw9"
      },
      "execution_count": 13,
      "outputs": []
    },
    {
      "cell_type": "markdown",
      "source": [
        "# Plots"
      ],
      "metadata": {
        "id": "ZC9cJB_yd3i3"
      }
    },
    {
      "cell_type": "code",
      "source": [
        "sorted_cat = catalog_big.sort_values(by=\"m\").iloc[-5:]\n",
        "plt.vlines(sorted_cat.index.values[-1],-60,100, color='red',lw=2, ls='dashed')\n",
        "plt.vlines(sorted_cat.index.values[-2],-60,100, color='red',lw=2, ls='dashed')\n",
        "plt.vlines(sorted_cat.index.values[-3],-60,100, color='red',lw=2, ls='dashed')\n",
        "plt.vlines(sorted_cat.index.values[-4],-60,100, color='red',lw=2, ls='dashed')\n",
        "plt.vlines(sorted_cat.index.values[-5],-60,100, color='red',lw=2, ls='dashed')\n",
        "plt.plot(stat_data['chil']['N']-stat_data['lbc2']['N'])\n",
        "plt.xlabel(\"Date\", fontsize=15)\n",
        "plt.ylabel(\"Station displacement\", fontsize=15)\n",
        "plt.xticks(fontsize=15)\n",
        "plt.yticks(fontsize=15)\n",
        "plt.tight_layout()\n",
        "plt.savefig(\"stations_dir_magn.png\")\n",
        "plt.show()"
      ],
      "metadata": {
        "id": "ArXj1Ffrd7cU",
        "outputId": "59e12fd5-c838-4fcf-e196-201f4f19746c",
        "colab": {
          "base_uri": "https://localhost:8080/",
          "height": 297
        }
      },
      "execution_count": null,
      "outputs": [
        {
          "output_type": "display_data",
          "data": {
            "text/plain": [
              "<Figure size 432x288 with 1 Axes>"
            ],
            "image/png": "[encoded data removed]"
          },
          "metadata": {
            "needs_background": "light"
          }
        }
      ]
    },
    {
      "cell_type": "code",
      "source": [
        "piece = download_catalog_hauksson()"
      ],
      "metadata": {
        "id": "fJSC5qkY7g6R"
      },
      "execution_count": 14,
      "outputs": []
    },
    {
      "cell_type": "code",
      "source": [
        "plt.scatter(piece.index, piece[\"m\"], color='none', edgecolor='black')\n",
        "plt.xlabel(\"Date\", fontsize=15)\n",
        "plt.ylabel(\"Magnitude\", fontsize=15)\n",
        "plt.xticks(fontsize=15)\n",
        "plt.yticks(fontsize=15)\n",
        "plt.tight_layout()\n",
        "plt.savefig(\"magn.png\")\n",
        "plt.show()"
      ],
      "metadata": {
        "id": "jLdo4nnD7nNp",
        "outputId": "c8a9992d-ca6b-48fc-e955-2730abae4484",
        "colab": {
          "base_uri": "https://localhost:8080/",
          "height": 297
        }
      },
      "execution_count": 22,
      "outputs": [
        {
          "output_type": "display_data",
          "data": {
            "text/plain": [
              "<Figure size 432x288 with 1 Axes>"
            ],
            "image/png": "[encoded data removed]"
          },
          "metadata": {
            "needs_background": "light"
          }
        }
      ]
    },
    {
      "cell_type": "markdown",
      "source": [
        "# Reproduce paper"
      ],
      "metadata": {
        "id": "GwvTaFlHZIgc"
      }
    },
    {
      "cell_type": "code",
      "source": [
        "original_cat = pd.read_csv(\"https://raw.githubusercontent.com/Schimmenti/EarthquakesGPS/main/original_cat.txt\", sep=\"\\s+\", index_col=\"Date\")\n",
        "original_cat.index = pd.to_datetime(original_cat.index)"
      ],
      "metadata": {
        "id": "etWHSrNHPyuf"
      },
      "execution_count": 28,
      "outputs": []
    },
    {
      "cell_type": "code",
      "source": [
        "df2 = pd.merge(stat_data['lbc2'], stat_data['chil'], how='inner',left_index=True, right_index=True)\n",
        "df2 = df2[df2.index <= np.datetime64('2009-06-30')]\n",
        "df2[\"nr\"] = df2[\"N_y\"]-df2[\"N_x\"]\n",
        "df2[\"er\"] = df2[\"E_y\"]-df2[\"E_x\"]\n",
        "df2[\"ur\"] = df2[\"U_y\"]-df2[\"U_x\"]\n",
        "l = 10\n",
        "l_cell = 20"
      ],
      "metadata": {
        "id": "LX58VqiaZKPq"
      },
      "execution_count": null,
      "outputs": []
    },
    {
      "cell_type": "code",
      "source": [
        "df2[\"cN\"] = moving_lin_regress(df2[\"nr\"].values, l)\n",
        "df2[\"cE\"] = moving_lin_regress(df2[\"er\"].values, l)\n",
        "df2[\"cU\"] = moving_lin_regress(df2[\"ur\"].values, l)"
      ],
      "metadata": {
        "id": "zB4eVMPjZXUH"
      },
      "execution_count": null,
      "outputs": []
    },
    {
      "cell_type": "code",
      "source": [
        "df2[\"mN\"] = running_max_min(df2[\"cN\"].values, l)\n",
        "df2[\"mE\"] = running_max_min(df2[\"cE\"].values, l)\n",
        "df2[\"mU\"] = running_max_min(df2[\"cU\"].values, l)"
      ],
      "metadata": {
        "id": "1h25UlpXZs-n"
      },
      "execution_count": null,
      "outputs": []
    },
    {
      "cell_type": "code",
      "source": [
        "V_day = np.sqrt(df2[\"mN\"].values**2+df2[\"mE\"].values**2)\n",
        "df2[\"V_day\"] = V_day"
      ],
      "metadata": {
        "id": "59gHN994aPre"
      },
      "execution_count": null,
      "outputs": []
    },
    {
      "cell_type": "code",
      "source": [
        "if(len(V_day) <= l_cell):\n",
        "  V_cell = np.ones(l_cell)*np.max(V_day)\n",
        "  flag = np.zeros(len(l_cell), dtype=int)\n",
        "  flag[0] = 1\n",
        "else:\n",
        "  V_cell = np.concatenate([ np.nanmax(cell)*np.ones(len(cell)) for cell in np.split(V_day, np.arange(0, len(V_day), l_cell))[1:]])\n",
        "  flag = np.zeros(len(V_cell), dtype=int)\n",
        "  flag[np.arange(0, len(V_day), l_cell)] = 1"
      ],
      "metadata": {
        "colab": {
          "base_uri": "https://localhost:8080/"
        },
        "id": "1RvjxHDxaYsU",
        "outputId": "9d209988-f049-423b-e238-76d213507aeb"
      },
      "execution_count": null,
      "outputs": [
        {
          "output_type": "stream",
          "name": "stderr",
          "text": [
            "/usr/local/lib/python3.7/dist-packages/ipykernel_launcher.py:6: RuntimeWarning: All-NaN slice encountered\n",
            "  \n"
          ]
        }
      ]
    },
    {
      "cell_type": "code",
      "source": [
        "df2[\"V\"] = V_cell\n",
        "df2[\"Flag\"] = flag"
      ],
      "metadata": {
        "id": "8Gjter7da-dG"
      },
      "execution_count": null,
      "outputs": []
    },
    {
      "cell_type": "code",
      "source": [
        "vth_probs = np.linspace(0,1,50)\n",
        "single_alarm = []\n",
        "all_vals = df2[\"V\"].values\n",
        "all_vals = all_vals[np.isfinite(all_vals)]\n",
        "all_vals = np.sort(all_vals)\n",
        "vth_indices = np.minimum(np.maximum((1-vth_probs)*len(all_vals), 0), len(all_vals)-1).astype('int')\n",
        "matched_vals = []\n",
        "for cnt, (date,row) in enumerate(original_cat.iterrows()):\n",
        "  match = df2[np.logical_and(df2.index >= date - np.timedelta64(l_cell+1,'D'),df2.index <= date  )]\n",
        "  if(not match.empty):\n",
        "     if(np.isfinite(match[\"V\"].values).all()):\n",
        "       vals = match[\"V\"].values\n",
        "       flags = match[\"Flag\"].values.astype('int')\n",
        "       flags_where = np.argwhere(flags==1).flatten()\n",
        "       if(len(flags_where) == 2):\n",
        "           prev_val =  vals[flags_where[0]]\n",
        "       else:\n",
        "           prev_val =  vals[flags_where[0]-1]\n",
        "       matched_vals.append(prev_val)\n",
        "       single_alarm.append(np.heaviside(prev_val-all_vals[vth_indices],1))\n",
        "     else:\n",
        "       print(date)\n",
        "single_alarm = np.array(single_alarm)\n",
        "matched_vals = np.array(matched_vals)"
      ],
      "metadata": {
        "id": "dwA8aSNybdOS"
      },
      "execution_count": null,
      "outputs": []
    },
    {
      "cell_type": "code",
      "source": [
        "alarm1 = np.heaviside(matched_vals.reshape(-1,1)-all_vals[vth_indices].reshape(1,-1),1)"
      ],
      "metadata": {
        "id": "tS1dxJEqeIQj"
      },
      "execution_count": null,
      "outputs": []
    },
    {
      "cell_type": "code",
      "source": [
        "fig, ax = plt.subplots(figsize=(10,10))\n",
        "plt.plot(vth_probs,alarm1.mean(axis=0)/vth_probs)"
      ],
      "metadata": {
        "id": "MGUAULOMYNkg",
        "outputId": "f4707c92-3abf-44f9-e471-05586ffa2c5a",
        "colab": {
          "base_uri": "https://localhost:8080/",
          "height": 645
        }
      },
      "execution_count": null,
      "outputs": [
        {
          "output_type": "stream",
          "name": "stderr",
          "text": [
            "/usr/local/lib/python3.7/dist-packages/ipykernel_launcher.py:2: RuntimeWarning: invalid value encountered in true_divide\n",
            "  \n"
          ]
        },
        {
          "output_type": "execute_result",
          "data": {
            "text/plain": [
              "[<matplotlib.lines.Line2D at 0x7fd6764ca610>]"
            ]
          },
          "metadata": {},
          "execution_count": 426
        },
        {
          "output_type": "display_data",
          "data": {
            "text/plain": [
              "<Figure size 720x720 with 1 Axes>"
            ],
            "image/png": "[encoded data removed]"
          },
          "metadata": {
            "needs_background": "light"
          }
        }
      ]
    },
    {
      "cell_type": "code",
      "source": [
        "fig, ax = plt.subplots(figsize=(10,10))\n",
        "plt.plot(vth_probs,alarm1.mean(axis=0)/vth_probs)\n",
        "plt.plot(vth_probs,alarm2.mean(axis=0)/vth_probs)"
      ],
      "metadata": {
        "colab": {
          "base_uri": "https://localhost:8080/",
          "height": 681
        },
        "id": "iMvWdnsXzXql",
        "outputId": "a5180374-08c1-4ea8-fbf7-7dba0dfc6994"
      },
      "execution_count": null,
      "outputs": [
        {
          "output_type": "stream",
          "name": "stderr",
          "text": [
            "/usr/local/lib/python3.7/dist-packages/ipykernel_launcher.py:2: RuntimeWarning: invalid value encountered in true_divide\n",
            "  \n",
            "/usr/local/lib/python3.7/dist-packages/ipykernel_launcher.py:3: RuntimeWarning: invalid value encountered in true_divide\n",
            "  This is separate from the ipykernel package so we can avoid doing imports until\n"
          ]
        },
        {
          "output_type": "execute_result",
          "data": {
            "text/plain": [
              "[<matplotlib.lines.Line2D at 0x7fd676947a50>]"
            ]
          },
          "metadata": {},
          "execution_count": 335
        },
        {
          "output_type": "display_data",
          "data": {
            "text/plain": [
              "<Figure size 720x720 with 1 Axes>"
            ],
            "image/png": "[encoded data removed]"
          },
          "metadata": {
            "needs_background": "light"
          }
        }
      ]
    },
    {
      "cell_type": "markdown",
      "source": [
        "# Station Position vs Earthquakes (depends on prev. cell)"
      ],
      "metadata": {
        "id": "UordfUwI1FaA"
      }
    },
    {
      "cell_type": "code",
      "source": [
        "vth_probs = np.linspace(0,1,50)\n",
        "single_alarms = {}\n",
        "for key in V_cells.keys():\n",
        "  print(key)\n",
        "  single_alarm = []\n",
        "  df = V_cells[key]\n",
        "  all_vals = df[\"V\"].values\n",
        "  all_vals = all_vals[np.isfinite(all_vals)]\n",
        "  all_vals = np.sort(all_vals)\n",
        "  vth_indices = np.minimum(np.maximum((1-vth_probs)*len(all_vals), 0), len(all_vals)-1).astype('int')\n",
        "  for cnt, (date,row) in enumerate(catalog_big.iterrows()):\n",
        "     match = df[np.logical_and(df.index >= date - np.timedelta64(W_cell+1,'D'),df.index <= date  )]\n",
        "     if(not match.empty):\n",
        "      if(np.isfinite(match[\"V\"].values).all()):\n",
        "          vals = match[\"V\"].values\n",
        "          flags = match[\"Flag\"].values.astype('int')\n",
        "          flags_where = np.argwhere(flags==1).flatten()\n",
        "          try:\n",
        "            if(len(flags_where) == 2):\n",
        "              prev_val =  vals[flags_where[0]]\n",
        "            else:\n",
        "              prev_val =  vals[flags_where[0]-1]\n",
        "            single_alarm.append(np.heaviside(prev_val-all_vals[vth_indices],1))\n",
        "          except:\n",
        "            print(key, date, flags)\n",
        "  single_alarm = np.array(single_alarm)\n",
        "  single_alarms[key]=single_alarm"
      ],
      "metadata": {
        "id": "34nh2bKkQ1j0"
      },
      "execution_count": null,
      "outputs": []
    },
    {
      "cell_type": "code",
      "source": [
        "position_array = np.array([station_pos[key] for key in excoefs.keys()])\n",
        "lat1 = catalog_big['lat'].values.reshape(-1,1)\n",
        "lat2 = position_array[:,0].reshape(1,-1)\n",
        "delta_long = catalog_big['long'].values.reshape(-1,1)-position_array[:,1].reshape(1,-1)\n",
        "distances_big = haversine(lat1,lat2,delta_long)\n",
        "ord_dist_big = np.argsort(distances_big, axis=1)\n",
        "lat1 = catalog_small['lat'].values.reshape(-1,1)\n",
        "delta_long = catalog_small['long'].values.reshape(-1,1)-position_array[:,1].reshape(1,-1)\n",
        "distances_small = haversine(lat1,lat2,delta_long)\n",
        "ord_dist_small = np.argsort(distances_small, axis=1)"
      ],
      "metadata": {
        "id": "O3qrEQCo1Lki"
      },
      "execution_count": null,
      "outputs": []
    },
    {
      "cell_type": "code",
      "source": [
        "#station_keys_array = np.array(list(excoefs.keys()))\n",
        "#max_distance = 1e-2\n",
        "#vth_probs = np.linspace(0,1,50)\n",
        "#single_alarms = []\n",
        "#for cnt, (date,row) in enumerate(catalog_big.iterrows()):\n",
        "#  closeness_idx = 0\n",
        "#  while(True and closeness_idx < len(ord_dist_big[cnt,:])):\n",
        "#    closest_station = station_keys_array[ord_dist_big[cnt,closeness_idx]]\n",
        "#    final_distance = distances_big[cnt,ord_dist_big[cnt,closeness_idx]]\n",
        "#    df = V_cells[closest_station]\n",
        "#    match = df[np.logical_and(df.index >= date - np.timedelta64(W_cell+1,'D'),df.index <= date  )]\n",
        "#    if(not match.empty):\n",
        "#      if(np.isfinite(match[\"V\"].values).all()):\n",
        "#          vals = match[\"V\"].values\n",
        "#          flags = match[\"Flag\"].values.astype('int')\n",
        "#          flags_where = np.argwhere(flags==1).flatten()\n",
        "#          if(len(flags_where) == 2):\n",
        "#            prev_val =  vals[flags_where[0]]\n",
        "#          else:\n",
        "#            prev_val =  vals[flags_where[0]-1]\n",
        "#          all_vals = df[\"V\"].values\n",
        "#          all_vals = all_vals[np.isfinite(all_vals)]\n",
        "#          all_vals = np.sort(all_vals)\n",
        "#          vth_indices = np.minimum(np.maximum((1-vth_probs)*len(all_vals), 0), len(all_vals)-1).astype('int')\n",
        "#          single_alarms.append(np.heaviside(prev_val-all_vals[vth_indices],1))\n",
        "#          break\n",
        "#      else:\n",
        "#        closeness_idx += 1\n",
        "#    else:\n",
        "#      closeness_idx += 1\n",
        "#single_alarms = np.array(single_alarms)"
      ],
      "metadata": {
        "id": "hxdIHacE4QW_"
      },
      "execution_count": null,
      "outputs": []
    },
    {
      "cell_type": "markdown",
      "source": [
        "# Clustering"
      ],
      "metadata": {
        "id": "dIxll8YzQdsa"
      }
    },
    {
      "cell_type": "code",
      "source": [
        "position_array = np.array([station_pos[key] for key in V_cells.keys()])\n",
        "pos_rads = position_array*np.pi/180\n",
        "pos_tree = BallTree(pos_rads, metric=\"haversine\")\n",
        "distance_threshold = 5e-3"
      ],
      "metadata": {
        "id": "PVim0HoEQftA"
      },
      "execution_count": 23,
      "outputs": []
    },
    {
      "cell_type": "code",
      "source": [
        "clusters = {}\n",
        "s_keys = np.array(list(V_cells.keys()))\n",
        "for idx in range(0,len(pos_rads)):\n",
        "  query_res = pos_tree.query_radius(pos_rads[idx:idx+1],distance_threshold )[0]\n",
        "  clusters[s_keys[idx]] = list(s_keys[query_res])"
      ],
      "metadata": {
        "id": "2VSxpBpFXIwq"
      },
      "execution_count": 24,
      "outputs": []
    },
    {
      "cell_type": "markdown",
      "source": [
        "# Improve paper"
      ],
      "metadata": {
        "id": "Lsyja5WK4_fX"
      }
    },
    {
      "cell_type": "code",
      "source": [
        "vth_probs = np.linspace(0,1,50)\n",
        "for cnt, (date,row) in enumerate(original_cat.iterrows()):\n",
        "  dist_idxs = np.argsort(haversine(row[\"lat\"], position_array[:,0], row[\"long\"]-position_array[:,1]))\n",
        "  closest_idx = 0\n",
        "  while(True and closest_idx < len(dist_idxs)):\n",
        "    key = s_keys[dist_idxs[closest_idx]]\n",
        "    for candidate_key in clusters[key]:\n",
        "      df = V_cells[candidate_key]\n",
        "      match = df[np.logical_and(df.index >= date - np.timedelta64(W_cell+1,'D'),df.index <= date  )]\n",
        "      if(not match.empty and (np.isfinite(match[\"V\"].values)).any()):\n",
        "        all_vals = V_cells[candidate_key]\n",
        "        all_vals = all_vals[all_vals[\"Flag\"] == 1][\"V\"].values\n",
        "        all_vals = np.sort(all_vals[np.isfinite(all_vals)])\n",
        "        vth_indices = np.minimum(np.maximum((1-vth_probs)*len(all_vals), 0), len(all_vals)-1).astype('int')\n",
        "        vals = match[\"V\"].values\n",
        "        flags = match[\"Flag\"].values.astype('int')\n",
        "        flags_where = np.argwhere(flags==1).flatten()\n",
        "        if(len(flags_where) == 2):\n",
        "              prev_val =  vals[flags_where[0]]\n",
        "        else:\n",
        "              prev_val =  vals[flags_where[0]-1]  "
      ],
      "metadata": {
        "id": "B2gTxm5--g3C",
        "outputId": "e6d3915d-51e6-4098-83aa-ccdd4f2e17b9",
        "colab": {
          "base_uri": "https://localhost:8080/"
        }
      },
      "execution_count": 44,
      "outputs": [
        {
          "output_type": "stream",
          "name": "stdout",
          "text": [
            "1999-01-27 00:00:00 1.077329794337258\n",
            "1999-05-14 00:00:00 0.9618412859305188\n",
            "1999-10-16 00:00:00 0.5672429414609604\n",
            "1999-10-16 00:00:00 0.5672429414609604\n",
            "1999-10-16 00:00:00 0.5672429414609604\n",
            "1999-10-16 00:00:00 0.5672429414609604\n",
            "1999-10-16 00:00:00 0.5672429414609604\n",
            "1999-10-16 00:00:00 1.1079140966457515\n",
            "1999-10-16 00:00:00 0.5672429414609604\n",
            "1999-10-21 00:00:00 0.8440024458248395\n",
            "1999-10-21 00:00:00 0.8440024458248395\n",
            "1999-10-21 00:00:00 0.8440024458248395\n",
            "1999-10-22 00:00:00 0.8440024458248395\n",
            "2001-02-10 00:00:00 0.9217454596461674\n",
            "2001-07-17 00:00:00 0.6484112107723614\n",
            "2001-07-17 00:00:00 0.6484112107723614\n",
            "2001-10-31 00:00:00 0.7882465342229031\n",
            "2002-09-03 00:00:00 0.5682434714024879\n",
            "2002-10-29 00:00:00 0.704100804620357\n",
            "2003-02-22 00:00:00 0.7248692608758622\n",
            "2004-09-29 00:00:00 1.1014657568850927\n",
            "2005-06-12 00:00:00 0.5361238978001913\n",
            "2005-06-16 00:00:00 0.4152510387232019\n",
            "2005-09-22 00:00:00 0.6736799151668184\n",
            "2007-08-09 00:00:00 0.5134807129853048\n",
            "2007-09-02 00:00:00 1.422686448570388\n",
            "2008-07-29 00:00:00 nan\n",
            "2008-12-06 00:00:00 0.6890312066032239\n",
            "2009-05-18 00:00:00 0.8310931873948113\n",
            "2009-05-23 00:00:00 0.5657977457294644\n"
          ]
        }
      ]
    },
    {
      "cell_type": "markdown",
      "source": [
        "# Alert probability"
      ],
      "metadata": {
        "id": "3AzznL9GQIpT"
      }
    },
    {
      "cell_type": "code",
      "source": [
        "vth_probs = np.linspace(0,1,50)\n",
        "earthquake_cnt = 0\n",
        "alarm = np.zeros_like(vth_probs)\n",
        "station_keys_array = np.array(list(clusters.keys()))\n",
        "for cnt, (date,row) in enumerate(earthquakes.iterrows()):\n",
        "    closeness_idx = 0\n",
        "    earthquake_alarm = np.zeros_like(vth_probs)\n",
        "    n_matches = 0\n",
        "    while(True and closeness_idx < len(closest_station_idx[cnt,:])):\n",
        "      closest_station = station_keys_array[closest_station_idx[cnt,closeness_idx]]\n",
        "      final_distance = distances[cnt,closest_station_idx[cnt,closeness_idx]]\n",
        "      if(final_distance <= distance_threshold):\n",
        "        for key in clusters[closest_station]:\n",
        "          match = V_ws[key][V_ws[key].index==date-np.timedelta64(1,'D')]\n",
        "\n",
        "          if((not match.empty) and np.isfinite(match[\"V\"].values).all()):          \n",
        "            V_wind = V_ws[key][\"V\"].values\n",
        "            V_wind = np.sort(V_wind[np.isfinite(V_wind)])\n",
        "            vth_indices = np.minimum(np.maximum((1-vth_probs)*len(V_wind), 0), len(V_wind)-1).astype('int')\n",
        "            vth = V_wind[vth_indices]\n",
        "            earthquake_alarm += np.heaviside(match[\"V\"].values.flatten()-vth,1)\n",
        "            n_matches += 1\n",
        "            \n",
        "              \n",
        "      if(n_matches > 0):\n",
        "        earthquake_cnt += 1\n",
        "        alarm += np.heaviside(earthquake_alarm,0)\n",
        "        break\n",
        "      else:\n",
        "        closeness_idx+=1\n",
        "alarm /= earthquake_cnt"
      ],
      "metadata": {
        "id": "muNCkZISeK6g"
      },
      "execution_count": null,
      "outputs": []
    },
    {
      "cell_type": "code",
      "source": [
        "vth_probs = np.linspace(0,1,50)\n",
        "earthquake_cnt = 0\n",
        "single_alarm = np.zeros_like(vth_probs)\n",
        "station_keys_array = np.array(list(clusters.keys()))\n",
        "dist_from_signal = []\n",
        "for cnt, (date,row) in enumerate(earthquakes.iterrows()):\n",
        "    closeness_idx = 0\n",
        "    earthquake_alarm = np.zeros_like(vth_probs)\n",
        "    found_station = False\n",
        "    while(True and closeness_idx < len(closest_station_idx[cnt,:])):\n",
        "      closest_station = station_keys_array[closest_station_idx[cnt,closeness_idx]]\n",
        "      match = V_ws[closest_station][V_ws[closest_station].index==date-np.timedelta64(1,'D')]\n",
        "      if((not match.empty) and np.isfinite(match[\"V\"].values).all()):          \n",
        "        V_wind = V_ws[closest_station][\"V\"].values\n",
        "        V_wind = np.sort(V_wind[np.isfinite(V_wind)])\n",
        "        vth_indices = np.minimum(np.maximum((1-vth_probs)*len(V_wind), 0), len(V_wind)-1).astype('int')\n",
        "        vth = V_wind[vth_indices]\n",
        "        single_alarm += np.heaviside(match[\"V\"].values.flatten()-vth,1)\n",
        "        found_station = True    \n",
        "      if(found_station):\n",
        "        dist_from_signal.append(distances[cnt,closest_station_idx[cnt,closeness_idx]])\n",
        "        earthquake_cnt += 1\n",
        "        break\n",
        "      else:\n",
        "        closeness_idx+=1\n",
        "single_alarm /= earthquake_cnt\n",
        "dist_from_signal = np.array(dist_from_signal)"
      ],
      "metadata": {
        "id": "shJ4LHtKto-b"
      },
      "execution_count": null,
      "outputs": []
    },
    {
      "cell_type": "code",
      "source": [
        "plt.plot(vth_probs,1-alarm)\n",
        "plt.plot(vth_probs,1-single_alarm)\n",
        "plt.plot(vth_probs, 1-vth_probs)"
      ],
      "metadata": {
        "colab": {
          "base_uri": "https://localhost:8080/",
          "height": 283
        },
        "id": "zR-qXDckRKQZ",
        "outputId": "b835160c-ac8e-438a-ef2e-25f639283ddb"
      },
      "execution_count": null,
      "outputs": [
        {
          "output_type": "execute_result",
          "data": {
            "text/plain": [
              "[<matplotlib.lines.Line2D at 0x7fd6d7aeda50>]"
            ]
          },
          "metadata": {},
          "execution_count": 64
        },
        {
          "output_type": "display_data",
          "data": {
            "text/plain": [
              "<Figure size 432x288 with 1 Axes>"
            ],
            "image/png": "[encoded data removed]"
          },
          "metadata": {
            "needs_background": "light"
          }
        }
      ]
    },
    {
      "cell_type": "markdown",
      "source": [
        "# Classification"
      ],
      "metadata": {
        "id": "8PAHSjPKI8WM"
      }
    },
    {
      "cell_type": "code",
      "source": [
        "vth_posterior = {}\n",
        "vth_probs = np.linspace(0,1,15)\n",
        "for key in excoefs.keys():\n",
        "  V = np.sqrt(np.sum(excoefs[key][:2,:]**2,axis=0))\n",
        "  V_windowed = max_filter1d_valid(V, W)\n",
        "  V_windowed = V_windowed[np.isfinite(V_windowed)]\n",
        "  if(len(V_windowed)>0):\n",
        "    vth_indices = np.maximum(np.minimum(((1-vth_probs)*len(V_windowed)).astype('int'), len(V_windowed)-1), 0)\n",
        "    vth_posterior[key] = V_windowed[vth_indices]\n",
        "  else:\n",
        "    vth_posterior[key] = np.ones(len(vth_probs))*np.nan"
      ],
      "metadata": {
        "id": "B8Hg1IQ7aTuD"
      },
      "execution_count": null,
      "outputs": []
    },
    {
      "cell_type": "code",
      "source": [
        "threshold_dist = 5e-2\n",
        "res = []\n",
        "for cnt, (date,row) in enumerate(earthquakes.iterrows()):\n",
        "  alerts = np.zeros_like(vth_probs)\n",
        "  matches = np.zeros_like(vth_probs)\n",
        "  for cnt2, key in enumerate(excoefs.keys()):\n",
        "     dist = distances[cnt,cnt2]\n",
        "     if(dist <= threshold_dist):\n",
        "       match = np.argwhere(stat_data[key].index==date).flatten()\n",
        "       if(len(match)>0):\n",
        "         match = match[0]\n",
        "         matches += 1\n",
        "         v_matched = np.sqrt(np.sum(excoefs[key][:,match-W:match][:2,:]**2,axis=0))\n",
        "         v_matched = v_matched[np.isfinite(v_matched)]\n",
        "         if(len(v_matched) > 0):\n",
        "           v = np.max(v_matched)\n",
        "           alerts += (v >= vth_posterior[key])\n",
        "  res.append(alerts/matches)\n",
        "res = np.array(res)\n",
        "res = res[np.isfinite(res)].reshape(-1,res.shape[1])"
      ],
      "metadata": {
        "colab": {
          "base_uri": "https://localhost:8080/"
        },
        "id": "7HlAcg0BAnqn",
        "outputId": "3f658417-66bc-4b53-d594-d1327b0c1390"
      },
      "execution_count": null,
      "outputs": [
        {
          "output_type": "stream",
          "name": "stderr",
          "text": [
            "/usr/local/lib/python3.7/dist-packages/ipykernel_launcher.py:18: RuntimeWarning: invalid value encountered in true_divide\n"
          ]
        }
      ]
    },
    {
      "cell_type": "code",
      "source": [
        "for idx in range(1, len(vth_probs), 3):\n",
        "  signaled = (res[:, idx].reshape(-1,1) >= np.linspace(0,1).reshape(1,-1)).mean(axis=0)\n",
        "  plt.plot(np.linspace(0,1), signaled, label=\"%f\" % vth_probs[idx])\n",
        "plt.xlabel(\"$p_{\\\\rm min}$ alarm\")\n",
        "plt.legend()\n",
        "plt.show()"
      ],
      "metadata": {
        "colab": {
          "base_uri": "https://localhost:8080/",
          "height": 283
        },
        "id": "FlrhytPIJMs_",
        "outputId": "2e2e4cb4-f0b6-418f-cb0e-4308e971f3bb"
      },
      "execution_count": null,
      "outputs": [
        {
          "output_type": "display_data",
          "data": {
            "text/plain": [
              "<Figure size 432x288 with 1 Axes>"
            ],
            "image/png": "[encoded data removed]"
          },
          "metadata": {
            "needs_background": "light"
          }
        }
      ]
    },
    {
      "cell_type": "code",
      "source": [
        "threshold_dist = 1e-2\n",
        "probs = [0.05,0.1,0.2,0.3,0.4,0.5,0.6,0.7,0.8,0.9,0.95]\n",
        "res = []\n",
        "for v_th_prob in probs:\n",
        "  v_thresholds = {}\n",
        "  for key in excoefs.keys():\n",
        "    V = np.sqrt(np.sum(excoefs[key][:2,:]**2,axis=0))\n",
        "    V = V[np.isfinite(V)]\n",
        "    V = np.sort(V)\n",
        "    v_th_idx = int(len(V)*(1-v_th_prob))\n",
        "    if(len(V) == 0):\n",
        "      v_thresholds[key] = np.infty\n",
        "    else:\n",
        "      v_thresholds[key] = V[v_th_idx]\n",
        "    #plt.plot(V,np.linspace(0,1,len(V)))\n",
        "    #plt.vlines(v_thresholds[key],0,1)\n",
        "    #plt.xscale('log')\n",
        "    #plt.show()\n",
        "    #break\n",
        "  signal_prob = []\n",
        "  signal_magn = []\n",
        "  for cnt, (date,row) in enumerate(earthquakes.iterrows()):\n",
        "    match_cnt = 0\n",
        "    alert_cnt = 0\n",
        "    for cnt2, key in enumerate(excoefs.keys()):\n",
        "       dist = distances[cnt,cnt2]\n",
        "       if(dist <= threshold_dist):\n",
        "         match = np.argwhere(stat_data[key].index==date).flatten()\n",
        "         if(len(match)>0):\n",
        "           match = match[0]\n",
        "           v_matched = np.sqrt(np.sum(excoefs[key][:,match-W:match][:2,:]**2,axis=0))\n",
        "           v_matched = v_matched[np.isfinite(v_matched)]\n",
        "           if(len(v_matched) == W):\n",
        "             match_cnt += 1\n",
        "             if(np.max(v_matched) >= v_thresholds[key]):\n",
        "               alert_cnt += 1\n",
        "    if(match_cnt > 0):\n",
        "      signal_prob.append(alert_cnt/match_cnt)\n",
        "      signal_magn.append(row[\"m\"])\n",
        "  res.append( np.array(signal_prob) )\n",
        "res = np.array(res)"
      ],
      "metadata": {
        "id": "eN2_zBLiHOKl"
      },
      "execution_count": null,
      "outputs": []
    },
    {
      "cell_type": "code",
      "source": [
        "cuts = (res[:,np.newaxis,:]>np.linspace(0,1,20).reshape(1,-1,1)).astype('int')"
      ],
      "metadata": {
        "id": "4weVoDTvuS0w"
      },
      "execution_count": null,
      "outputs": []
    },
    {
      "cell_type": "code",
      "source": [
        "plt.plot(probs, 1-cuts[:,5,:].mean(axis=-1))\n",
        "plt.plot(probs, 1-cuts[:,10,:].mean(axis=-1))\n",
        "plt.plot(probs, 1-cuts[:,15,:].mean(axis=-1))\n",
        "plt.plot(probs,1-np.array(probs), ls='dashed', c='black')\n",
        "plt.show()"
      ],
      "metadata": {
        "colab": {
          "base_uri": "https://localhost:8080/",
          "height": 268
        },
        "id": "QcQfpfjxvy2r",
        "outputId": "52297ba9-2d43-4fea-ef7e-92a506dc5660"
      },
      "execution_count": null,
      "outputs": [
        {
          "output_type": "display_data",
          "data": {
            "text/plain": [
              "<Figure size 432x288 with 1 Axes>"
            ],
            "image/png": "[encoded data removed]"
          },
          "metadata": {
            "needs_background": "light"
          }
        }
      ]
    },
    {
      "cell_type": "code",
      "source": [
        "non_signaled = 1-cuts.sum(axis=2)/cuts.shape[2]"
      ],
      "metadata": {
        "id": "aY2-3rn-uv5-"
      },
      "execution_count": null,
      "outputs": []
    },
    {
      "cell_type": "code",
      "source": [
        "non_signaled.shape"
      ],
      "metadata": {
        "colab": {
          "base_uri": "https://localhost:8080/"
        },
        "id": "Lbabj8c_u9YE",
        "outputId": "6ca69dde-99f4-43f3-cbb4-7fe28e31c999"
      },
      "execution_count": null,
      "outputs": [
        {
          "output_type": "execute_result",
          "data": {
            "text/plain": [
              "(11, 20)"
            ]
          },
          "metadata": {},
          "execution_count": 114
        }
      ]
    },
    {
      "cell_type": "markdown",
      "source": [
        "# Pytorch"
      ],
      "metadata": {
        "id": "BPv6R-4DSGVM"
      }
    },
    {
      "cell_type": "code",
      "source": [
        "T_seq = 10\n",
        "delta_days = np.timedelta64(T_seq, 'D')\n",
        "max_distance = 5e-3\n",
        "dataset = []\n",
        "for cnt, (date,row) in enumerate(earthquakes.iterrows()):\n",
        "  for key in stat_data.keys():\n",
        "    pos = station_pos[key]\n",
        "    dist = haversine(pos[0], row[\"lat\"], pos[1]-row[\"long\"])\n",
        "    if(dist <= max_distance):\n",
        "      match = stat_data[key][np.logical_and(stat_data[key].index < date,stat_data[key].index >= date - delta_days )]\n",
        "      if((not match.empty) and (np.isfinite(match[\"N\"]).all())):\n",
        "        match = match[[\"N\",\"E\",\"U\"]]\n",
        "        if(match.shape[0] < T_seq):\n",
        "          continue\n",
        "        else:\n",
        "          match = match.values[np.newaxis,...]\n",
        "          dataset.append(match)                              \n",
        "dataset = np.transpose(np.concatenate(dataset, axis=0),axes=(0,2,1))\n",
        "with open(\"dset_false_T=%i_dist=%f.pkl\" % (T_seq, max_distance), \"wb\") as handle:\n",
        "  pkl.dump(dataset, handle)"
      ],
      "metadata": {
        "id": "XucxNRJFSIRs",
        "colab": {
          "base_uri": "https://localhost:8080/",
          "height": 240
        },
        "outputId": "64d20c4c-18a9-4023-d6a6-0a241d36328d"
      },
      "execution_count": null,
      "outputs": [
        {
          "output_type": "error",
          "ename": "NameError",
          "evalue": "ignored",
          "traceback": [
            "\u001b[0;31m---------------------------------------------------------------------------\u001b[0m",
            "\u001b[0;31mNameError\u001b[0m                                 Traceback (most recent call last)",
            "\u001b[0;32m<ipython-input-3-44b3a67c0079>\u001b[0m in \u001b[0;36m<module>\u001b[0;34m()\u001b[0m\n\u001b[1;32m      3\u001b[0m \u001b[0mmax_distance\u001b[0m \u001b[0;34m=\u001b[0m \u001b[0;36m5e-3\u001b[0m\u001b[0;34m\u001b[0m\u001b[0;34m\u001b[0m\u001b[0m\n\u001b[1;32m      4\u001b[0m \u001b[0mdataset\u001b[0m \u001b[0;34m=\u001b[0m \u001b[0;34m[\u001b[0m\u001b[0;34m]\u001b[0m\u001b[0;34m\u001b[0m\u001b[0;34m\u001b[0m\u001b[0m\n\u001b[0;32m----> 5\u001b[0;31m \u001b[0;32mfor\u001b[0m \u001b[0mcnt\u001b[0m\u001b[0;34m,\u001b[0m \u001b[0;34m(\u001b[0m\u001b[0mdate\u001b[0m\u001b[0;34m,\u001b[0m\u001b[0mrow\u001b[0m\u001b[0;34m)\u001b[0m \u001b[0;32min\u001b[0m \u001b[0menumerate\u001b[0m\u001b[0;34m(\u001b[0m\u001b[0mearthquakes\u001b[0m\u001b[0;34m.\u001b[0m\u001b[0miterrows\u001b[0m\u001b[0;34m(\u001b[0m\u001b[0;34m)\u001b[0m\u001b[0;34m)\u001b[0m\u001b[0;34m:\u001b[0m\u001b[0;34m\u001b[0m\u001b[0;34m\u001b[0m\u001b[0m\n\u001b[0m\u001b[1;32m      6\u001b[0m   \u001b[0;32mfor\u001b[0m \u001b[0mkey\u001b[0m \u001b[0;32min\u001b[0m \u001b[0mstat_data\u001b[0m\u001b[0;34m.\u001b[0m\u001b[0mkeys\u001b[0m\u001b[0;34m(\u001b[0m\u001b[0;34m)\u001b[0m\u001b[0;34m:\u001b[0m\u001b[0;34m\u001b[0m\u001b[0;34m\u001b[0m\u001b[0m\n\u001b[1;32m      7\u001b[0m     \u001b[0mpos\u001b[0m \u001b[0;34m=\u001b[0m \u001b[0mstation_pos\u001b[0m\u001b[0;34m[\u001b[0m\u001b[0mkey\u001b[0m\u001b[0;34m]\u001b[0m\u001b[0;34m\u001b[0m\u001b[0;34m\u001b[0m\u001b[0m\n",
            "\u001b[0;31mNameError\u001b[0m: name 'earthquakes' is not defined"
          ]
        }
      ]
    },
    {
      "cell_type": "code",
      "source": [
        "with open(\"drive/MyDrive/Colab Notebooks/dset_false_T=%i_dist=%f.pkl\" % (T_seq, max_distance), \"rb\") as handle:\n",
        "  d_false = pkl.load(handle)\n",
        "with open(\"drive/MyDrive/Colab Notebooks/dset_true_T=%i_dist=%f.pkl\" % (T_seq, max_distance), \"rb\") as handle:\n",
        "  d_true = pkl.load(handle)"
      ],
      "metadata": {
        "id": "0kFkEizDcpTm"
      },
      "execution_count": null,
      "outputs": []
    },
    {
      "cell_type": "code",
      "source": [
        "data = np.concatenate([d_false, d_true], axis=0)\n",
        "labels = np.concatenate([np.zeros(d_false.shape[0],dtype=int), np.ones(d_true.shape[0], dtype=int)])"
      ],
      "metadata": {
        "id": "mhwcGsNvdY1n"
      },
      "execution_count": null,
      "outputs": []
    },
    {
      "cell_type": "code",
      "source": [
        "from sklearn.model_selection import train_test_split\n",
        "\n",
        "train_indices, test_indices = train_test_split(np.arange(labels.shape[0]), train_size=0.7, stratify=labels, shuffle=True)"
      ],
      "metadata": {
        "id": "IdkaaGPakr9F"
      },
      "execution_count": null,
      "outputs": []
    },
    {
      "cell_type": "code",
      "source": [
        "x_train, x_test = torch.FloatTensor(data[train_indices]), torch.FloatTensor(data[test_indices])\n",
        "y_train, y_test = torch.LongTensor(labels[train_indices]), torch.LongTensor(labels[test_indices])"
      ],
      "metadata": {
        "id": "Wq7YjPetlfMw"
      },
      "execution_count": null,
      "outputs": []
    },
    {
      "cell_type": "code",
      "source": [
        "import torch\n",
        "import torch.nn as nn\n",
        "import torch.nn.functional as F\n",
        "import torch.optim as optim\n",
        "\n",
        "\n",
        "class gpsnet(nn.Module):\n",
        "    def __init__(self, T_seq):\n",
        "        super().__init__()\n",
        "        self.T_seq = T_seq\n",
        "        self.conv1 = nn.Conv1d(3, 32, 3) #output is T_seq - 2\n",
        "        self.conv1_sz = ((self.T_seq+2*0-1*(3-1)-1)//1+1)\n",
        "        self.bnorm1 = nn.BatchNorm1d(32)\n",
        "        self.conv2 = nn.Conv1d(32, 64, 3)\n",
        "        self.bnorm2 = nn.BatchNorm1d(64)\n",
        "        self.conv2_sz = ((self.conv1_sz+2*0-1*(3-1)-1)//1+1)\n",
        "        self.fc1 = nn.Linear(64*self.conv2_sz, 128)\n",
        "        self.fc2 = nn.Linear(128, 64)\n",
        "        self.fc3 = nn.Linear(64, 1)\n",
        "\n",
        "    def forward(self, x):\n",
        "        x = self.conv1(x)\n",
        "        x = self.bnorm1(F.relu(x))\n",
        "        x = self.conv2(x)\n",
        "        x = self.bnorm2(F.relu(x))\n",
        "        x = torch.flatten(x, 1)\n",
        "        x = F.relu(self.fc1(x))\n",
        "        x = F.relu(self.fc2(x))\n",
        "        x = self.fc3(x)\n",
        "        return torch.sigmoid(x)"
      ],
      "metadata": {
        "id": "JxSqagm4V4_S"
      },
      "execution_count": null,
      "outputs": []
    },
    {
      "cell_type": "code",
      "source": [
        "net = gpsnet(T_seq)\n",
        "batch_size = 10\n",
        "weight1 = y_train.sum()/len(y_train)\n",
        "criterion = nn.BCELoss()\n",
        "optimizer = optim.SGD(net.parameters(), lr=0.0001, momentum=0.9)\n",
        "hist = []\n",
        "for epoch in range(2000):  # loop over the dataset multiple times\n",
        "    for i in range(0, x_train.size(0), batch_size):\n",
        "        # get the inputs; data is a list of [inputs, labels]\n",
        "        endpt = min(i+batch_size, x_train.size(0))\n",
        "        inputs, ground_tr = x_train[i:endpt], y_train[i:endpt].to(torch.float32)\n",
        "        #weight = torch.zeros(batch_size)\n",
        "        #weight[ground_tr[:,0]==1] = (1-weight1)/batch_size\n",
        "        #weight[ground_tr[:,0]==0] = weight1/batch_size\n",
        "        #criterion.weight=weight\n",
        "        # zero the parameter gradients\n",
        "        optimizer.zero_grad()\n",
        "\n",
        "        # forward + backward + optimize\n",
        "        outputs = net(inputs)\n",
        "        loss = criterion(outputs.squeeze(1), ground_tr)\n",
        "        loss.backward()\n",
        "        optimizer.step()\n",
        "\n",
        "        if i % 1 == 0: \n",
        "            hist.append(loss.item())\n",
        "\n",
        "print('Finished Training')"
      ],
      "metadata": {
        "colab": {
          "base_uri": "https://localhost:8080/"
        },
        "id": "Rt8KHl9se3Pr",
        "outputId": "e081f38b-7415-4d8a-f250-17935bc96b18"
      },
      "execution_count": null,
      "outputs": [
        {
          "output_type": "stream",
          "name": "stdout",
          "text": [
            "Finished Training\n"
          ]
        }
      ]
    },
    {
      "cell_type": "code",
      "source": [
        "with torch.no_grad():\n",
        "  res = net(x_train)\n",
        "  print(criterion(res.squeeze(1), y_train.to(torch.float32)))\n",
        "  #res = net(x_train)\n",
        "  #print(criterion(res, y_train.view(-1,1).to(torch.float32)))"
      ],
      "metadata": {
        "colab": {
          "base_uri": "https://localhost:8080/"
        },
        "id": "rFLmW92zonGV",
        "outputId": "d04da8d3-3d78-4b8f-a71b-a3337086ff94"
      },
      "execution_count": null,
      "outputs": [
        {
          "output_type": "stream",
          "name": "stdout",
          "text": [
            "tensor(0.4853)\n"
          ]
        }
      ]
    },
    {
      "cell_type": "code",
      "source": [
        "plt.plot(hist)"
      ],
      "metadata": {
        "id": "QofKhBNc1uTp",
        "outputId": "167e0e07-2739-4e12-9b8e-b1fd3e3a31fc",
        "colab": {
          "base_uri": "https://localhost:8080/",
          "height": 283
        }
      },
      "execution_count": null,
      "outputs": [
        {
          "output_type": "execute_result",
          "data": {
            "text/plain": [
              "[<matplotlib.lines.Line2D at 0x7f0494880090>]"
            ]
          },
          "metadata": {},
          "execution_count": 519
        },
        {
          "output_type": "display_data",
          "data": {
            "text/plain": [
              "<Figure size 432x288 with 1 Axes>"
            ],
            "image/png": "[encoded data removed]"
          },
          "metadata": {
            "needs_background": "light"
          }
        }
      ]
    },
    {
      "cell_type": "code",
      "source": [
        ""
      ],
      "metadata": {
        "id": "1mt5yMVq1vbo"
      },
      "execution_count": null,
      "outputs": []
    }
  ]
}