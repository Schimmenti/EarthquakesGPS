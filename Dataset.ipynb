{
  "nbformat": 4,
  "nbformat_minor": 0,
  "metadata": {
    "colab": {
      "name": "Dataset.ipynb",
      "provenance": [],
      "include_colab_link": true
    },
    "kernelspec": {
      "name": "python3",
      "display_name": "Python 3"
    },
    "language_info": {
      "name": "python"
    }
  },
  "cells": [
    {
      "cell_type": "markdown",
      "metadata": {
        "id": "view-in-github",
        "colab_type": "text"
      },
      "source": [
        "<a href=\"https://colab.research.google.com/github/Schimmenti/EarthquakesGPS/blob/main/Dataset.ipynb\" target=\"_parent\"><img src=\"https://colab.research.google.com/assets/colab-badge.svg\" alt=\"Open In Colab\"/></a>"
      ]
    },
    {
      "cell_type": "code",
      "execution_count": 1,
      "metadata": {
        "id": "Y_QgiMeEx9kw",
        "colab": {
          "base_uri": "https://localhost:8080/"
        },
        "outputId": "2b3e0acc-1dbc-4a92-96e1-40fd3bce0582"
      },
      "outputs": [
        {
          "output_type": "stream",
          "name": "stdout",
          "text": [
            "Mounted at /content/drive\n"
          ]
        }
      ],
      "source": [
        "import numpy as np\n",
        "import pandas as pd\n",
        "import pickle as pkl\n",
        "import scipy.stats as stats\n",
        "import matplotlib.pyplot as plt\n",
        "import datetime\n",
        "import time\n",
        "from scipy.ndimage.filters import maximum_filter1d, minimum_filter1d\n",
        "from google.colab import drive\n",
        "from sklearn.metrics import roc_curve\n",
        "drive.mount('/content/drive', force_remount=True)\n",
        "from sklearn.neighbors import  KDTree,BallTree"
      ]
    },
    {
      "cell_type": "markdown",
      "source": [
        "# Utils"
      ],
      "metadata": {
        "id": "gl0EtEvxs8br"
      }
    },
    {
      "cell_type": "code",
      "source": [
        "def max_filter1d_valid(a, W, add_heading_nan=True):\n",
        "    hW = (W-1)//2 # Half window size\n",
        "    if(add_heading_nan):\n",
        "      if(W%2==1):\n",
        "        return np.concatenate([np.ones(W-1)*np.nan,maximum_filter1d(a,size=W)[hW:-hW]])\n",
        "      else:\n",
        "        return np.concatenate([np.ones(W-2)*np.nan,maximum_filter1d(a,size=W)[hW:-hW]])\n",
        "    else:\n",
        "      return maximum_filter1d(a,size=W)[hW:-hW]\n",
        "def min_filter1d_valid(a, W, add_heading_nan=True):\n",
        "    hW = (W-1)//2 # Half window size\n",
        "    if(add_heading_nan):\n",
        "      if(W%2==1):\n",
        "        return np.concatenate([np.ones(W-1)*np.nan,minimum_filter1d(a,size=W)[hW:-hW]])\n",
        "      else:\n",
        "        return np.concatenate([np.ones(W-2)*np.nan,minimum_filter1d(a,size=W)[hW:-hW]])\n",
        "    else:\n",
        "      return minimum_filter1d(a,size=W)[hW:-hW]"
      ],
      "metadata": {
        "id": "3V3ZugvXs_Ld"
      },
      "execution_count": 2,
      "outputs": []
    },
    {
      "cell_type": "code",
      "source": [
        "def haversine(lat1, lat2, delta_long):\n",
        "  return np.sin((lat2-lat1)/2)**2+np.cos(lat1)*np.cos(lat2)*np.sin(delta_long/2)**2"
      ],
      "metadata": {
        "id": "xbH1ADom-e5K"
      },
      "execution_count": 3,
      "outputs": []
    },
    {
      "cell_type": "code",
      "source": [
        "def moving_lin_regress(x, T, t0, t1, add_heading_nan=True):\n",
        "    m = []\n",
        "    for t in range(t0,t1-T):\n",
        "        m.append(stats.linregress(np.arange(0,T),x[t:t+T])[0])\n",
        "    if(add_heading_nan):\n",
        "      return np.concatenate([np.ones(T)*np.nan, np.array(m)])\n",
        "    else:\n",
        "      return np.array(m)"
      ],
      "metadata": {
        "id": "r5MxN8MCzqln"
      },
      "execution_count": 4,
      "outputs": []
    },
    {
      "cell_type": "markdown",
      "source": [
        "# Station Names/Pos"
      ],
      "metadata": {
        "id": "n5B2fB-rtBNI"
      }
    },
    {
      "cell_type": "code",
      "source": [
        "base_link = \"https://raw.githubusercontent.com/Schimmenti/EarthquakesGPS/main/gps_data/\""
      ],
      "metadata": {
        "id": "CIFz3TRJyjwN"
      },
      "execution_count": 5,
      "outputs": []
    },
    {
      "cell_type": "code",
      "source": [
        "! wget \"https://raw.githubusercontent.com/Schimmenti/EarthquakesGPS/main/gps_data/stat_info.pkl\""
      ],
      "metadata": {
        "colab": {
          "base_uri": "https://localhost:8080/"
        },
        "id": "i45aPIdXylyt",
        "outputId": "4e2ff422-36f6-45b6-fdb4-4813dc070c44"
      },
      "execution_count": 6,
      "outputs": [
        {
          "output_type": "stream",
          "name": "stdout",
          "text": [
            "--2022-03-31 09:05:14--  https://raw.githubusercontent.com/Schimmenti/EarthquakesGPS/main/gps_data/stat_info.pkl\n",
            "Resolving raw.githubusercontent.com (raw.githubusercontent.com)... 185.199.108.133, 185.199.109.133, 185.199.110.133, ...\n",
            "Connecting to raw.githubusercontent.com (raw.githubusercontent.com)|185.199.108.133|:443... connected.\n",
            "HTTP request sent, awaiting response... 200 OK\n",
            "Length: 17030 (17K) [application/octet-stream]\n",
            "Saving to: ‘stat_info.pkl’\n",
            "\n",
            "stat_info.pkl       100%[===================>]  16.63K  --.-KB/s    in 0s      \n",
            "\n",
            "2022-03-31 09:05:14 (38.1 MB/s) - ‘stat_info.pkl’ saved [17030/17030]\n",
            "\n"
          ]
        }
      ]
    },
    {
      "cell_type": "code",
      "source": [
        "with open(\"stat_info.pkl\",\"rb\") as handle:\n",
        "  station_names, station_pos = pkl.load(handle)"
      ],
      "metadata": {
        "id": "Ee6C9Q0xyp_s"
      },
      "execution_count": 7,
      "outputs": []
    },
    {
      "cell_type": "markdown",
      "source": [
        "# Stations Raw Data"
      ],
      "metadata": {
        "id": "cK9K6hx6tTsf"
      }
    },
    {
      "cell_type": "code",
      "source": [
        "load_stat_raw_data = True\n",
        "if(load_stat_raw_data):\n",
        "  with open(\"drive/MyDrive/Colab Notebooks/stat_data.pkl\",\"rb\") as handle:\n",
        "    stat_data = pkl.load(handle)\n",
        "else:\n",
        "  stat_data = {}\n",
        "  for name in station_names:\n",
        "    try:\n",
        "      stat_data[name] = pd.read_csv(base_link + name + \".csv\")\n",
        "    except:\n",
        "      continue\n",
        "  for name in stat_data.keys():\n",
        "    stat_data[name]['Date'] = pd.to_datetime(stat_data[name]['DateI'], format='%Y%m%d')\n",
        "    stat_data[name].set_index(\"Date\", drop=True, inplace=True)\n",
        "    idx = pd.date_range(stat_data[name].index[0], stat_data[name].index[-1])\n",
        "    stat_data[name] = stat_data[name].reindex(idx, fill_value=np.NaN)\n",
        "  with open(\"stat_data.pkl\", \"wb\") as handle:\n",
        "    pkl.dump(stat_data,handle)"
      ],
      "metadata": {
        "id": "hoiPNm0DtVej"
      },
      "execution_count": 8,
      "outputs": []
    },
    {
      "cell_type": "markdown",
      "source": [
        "# Linear Regression Coefficents"
      ],
      "metadata": {
        "id": "ApenMMDit1ar"
      }
    },
    {
      "cell_type": "code",
      "source": [
        "W=9\n",
        "load_coefs = True\n",
        "if(load_coefs):\n",
        "  with open(\"drive/MyDrive/Colab Notebooks/T_W=%i.pkl\"%W,\"rb\") as handle:\n",
        "    coefs = pkl.load(handle)\n",
        "else:\n",
        "  coefs = {}\n",
        "  for name in stat_data.keys():\n",
        "    nord = stat_data[name][\"N\"].values\n",
        "    if(len(nord) >= W):\n",
        "      T_w_nord = moving_lin_regress(nord, W, 0, len(nord))\n",
        "      east = stat_data[name][\"E\"].values\n",
        "      T_w_east = moving_lin_regress(east, W, 0, len(east))\n",
        "      up = stat_data[name][\"U\"].values\n",
        "      T_w_up = moving_lin_regress(up, W, 0, len(up))\n",
        "      coefs[name] = np.array([T_w_nord, T_w_east, T_w_up])\n",
        "  with open(\"T_W=%i.pkl\"%W, \"wb\") as handle:\n",
        "    pkl.dump(coefs,handle)"
      ],
      "metadata": {
        "id": "6zrbH_eYt5JN"
      },
      "execution_count": 9,
      "outputs": []
    },
    {
      "cell_type": "markdown",
      "source": [
        "# Excursion Coefficents"
      ],
      "metadata": {
        "id": "LQdZpEyTapI3"
      }
    },
    {
      "cell_type": "code",
      "source": [
        "load_excoefs = False\n",
        "if(load_excoefs):\n",
        "  with open(\"drive/MyDrive/Colab Notebooks/ex_T_W=%i.pkl\"%W,\"rb\") as handle:\n",
        "    excoefs = pkl.load(handle)\n",
        "else:\n",
        "  excoefs = {}\n",
        "  for key in coefs.keys():\n",
        "    temp = []\n",
        "    for el in coefs[key]:\n",
        "      temp.append(max_filter1d_valid(el, W)-min_filter1d_valid(el, W))\n",
        "    temp = np.array(temp)\n",
        "    excoefs[key] = temp\n",
        "  with open(\"ex_T_W=%i.pkl\" %W, \"wb\") as handle:\n",
        "    pkl.dump(excoefs,handle)"
      ],
      "metadata": {
        "id": "a2Gegab1uUhk"
      },
      "execution_count": 10,
      "outputs": []
    },
    {
      "cell_type": "markdown",
      "source": [
        "# $V_i$ coefficents (cell)"
      ],
      "metadata": {
        "id": "wQ374ZQ_u4M6"
      }
    },
    {
      "cell_type": "code",
      "source": [
        "load_v_cell = True\n",
        "W_cell = W\n",
        "if(load_v_cell):\n",
        "  with open(\"drive/MyDrive/Colab Notebooks/V_W_cell=%i.pkl\" %W_cell, \"rb\") as handle:\n",
        "    V_cells = pkl.load(handle)\n",
        "else:\n",
        "  V_cells = {}\n",
        "  gammas = np.array([1,1,0])\n",
        "  for key in excoefs.keys():\n",
        "    V_day = np.sqrt(np.matmul(gammas,(excoefs[key]**2)))\n",
        "    if(len(V_day) <= W_cell):\n",
        "      V_cell = np.ones(W_cell)*np.max(V_day)\n",
        "      flag = np.zeros(len(V_cell), dtype=int)\n",
        "      flag[0] = 1\n",
        "    else:\n",
        "      V_cell = np.concatenate([ np.max(cell)*np.ones(len(cell)) for cell in np.split(V_day, np.arange(0, len(V_day), W_cell))[1:]])\n",
        "      flag = np.zeros(len(V_cell), dtype=int)\n",
        "      flag[np.arange(0, len(V_day), W_cell)] = 1\n",
        "    s_days = stat_data[key].index.values\n",
        "    df = pd.DataFrame()\n",
        "    df[\"Date\"] = s_days\n",
        "    df[\"V\"] = V_cell\n",
        "    df[\"Flag\"] = flag\n",
        "    df.set_index(\"Date\", drop=True, inplace=True)\n",
        "    V_cells[key] = df\n",
        "  with open(\"V_W_cell=%i.pkl\" %W_cell, \"wb\") as handle:\n",
        "    pkl.dump(V_cells,handle)"
      ],
      "metadata": {
        "id": "yl9Km2zivUwO"
      },
      "execution_count": 14,
      "outputs": []
    },
    {
      "cell_type": "markdown",
      "source": [
        "# $V_i$ coefficents (day)"
      ],
      "metadata": {
        "id": "6F1RZoAC4Mxt"
      }
    },
    {
      "cell_type": "code",
      "source": [
        "W_max=W\n",
        "V_ws = {}\n",
        "for key in excoefs.keys():\n",
        "  V = np.sqrt(np.sum(excoefs[key][:2,:]**2,axis=0))\n",
        "  if(len(V) <= W_max):\n",
        "    V_windowed = V\n",
        "  else:\n",
        "    V_windowed = max_filter1d_valid(V, W_max)\n",
        "  s_days = stat_data[key].index.values\n",
        "  df = pd.DataFrame()\n",
        "  df[\"Date\"] = s_days\n",
        "  df[\"V\"] = V_windowed\n",
        "  df.set_index(\"Date\", drop=True, inplace=True)\n",
        "  V_ws[key] = df\n",
        "  if(len(s_days)!=excoefs[key].shape[1]):\n",
        "    print(\"Sheit\")"
      ],
      "metadata": {
        "id": "9pemYoPFONZc"
      },
      "execution_count": null,
      "outputs": []
    },
    {
      "cell_type": "code",
      "source": [
        "with open(\"V_W=%i.pkl\" %W_max, \"wb\") as handle:\n",
        "  pkl.dump(V_ws,handle)"
      ],
      "metadata": {
        "id": "i4KEDvXwb7ig"
      },
      "execution_count": null,
      "outputs": []
    },
    {
      "cell_type": "markdown",
      "source": [
        "# Earthquake catalogs"
      ],
      "metadata": {
        "id": "_-_bCOXu0Jjx"
      }
    },
    {
      "cell_type": "code",
      "source": [
        "def download_catalog(catalog_name):\n",
        "  earthquakes = pd.read_csv(\"https://raw.githubusercontent.com/Schimmenti/EarthquakesGPS/main/%s\" % catalog_name, sep=\"\\s+\", header=None, names=[\"year\",\"month\",\"day\", \"hh\",\"mn\",\"ss\",\"lat\",\"long\",\"dep\",\"m\"])\n",
        "  earthquakes[\"long\"] = -earthquakes[\"long\"]\n",
        "  earthquakes[\"Date\"] =pd.to_datetime(earthquakes[['year','month','day']])\n",
        "  earthquakes.set_index(\"Date\",inplace=True)\n",
        "  return earthquakes\n",
        "\n",
        "def download_catalog_hauksson():\n",
        "  catalog = pd.read_csv(\"https://raw.githubusercontent.com/Schimmenti/EarthquakesGPS/main/hauksson_relocated.dat\",sep=r\"\\s+\",header=None)\n",
        "  catalog.columns = [\"sec\",\"m\",\"lat\",\"long\",\"dep\"]\n",
        "  landers = catalog[catalog[\"m\"]==7.3]\n",
        "  landers_date = datetime.date(1992,6,28)\n",
        "  landers_time = datetime.timedelta(hours=11, minutes=57, seconds=33)\n",
        "  delta_time = datetime.timedelta(seconds=float(landers['sec'].values))\n",
        "  catalog_beginning = landers_date+landers_time-delta_time\n",
        "  catalog_seconds = catalog['sec'].values.astype('timedelta64[s]')\n",
        "  start_date = np.datetime64(catalog_beginning)\n",
        "  catalog_dates = start_date + catalog_seconds\n",
        "  year_integer =  catalog_dates.astype('datetime64[Y]').astype('int')+1970\n",
        "  month_integer =  catalog_dates.astype('datetime64[M]').astype('int')%12+1\n",
        "  day_integer = (catalog_dates- catalog_dates.astype('datetime64[M]') + 1).astype('timedelta64[D]').astype('int')+1\n",
        "  date_integer =(year_integer*10000+month_integer*100+day_integer)\n",
        "  pandas_datetime = pd.to_datetime(date_integer, format='%Y%m%d')\n",
        "  catalog[\"Date\"] = pandas_datetime\n",
        "  catalog.set_index(\"Date\", drop=True, inplace=True)\n",
        "  #catalog.to_csv(\"catalog.csv\", sep=\"\\t\")\n",
        "  return catalog"
      ],
      "metadata": {
        "id": "rL6-6v6X0LPi"
      },
      "execution_count": 11,
      "outputs": []
    },
    {
      "cell_type": "code",
      "source": [
        "catalog_big = download_catalog(\"sc_4.5_tutti_9w.dat\")\n",
        "catalog_small = download_catalog(\"sc_schifezze.dat\")"
      ],
      "metadata": {
        "id": "4wO1ko6W0Uw9"
      },
      "execution_count": 12,
      "outputs": []
    },
    {
      "cell_type": "markdown",
      "source": [
        "# Reproduce paper"
      ],
      "metadata": {
        "id": "GwvTaFlHZIgc"
      }
    },
    {
      "cell_type": "code",
      "source": [
        "original_cat = pd.read_csv(\"https://raw.githubusercontent.com/Schimmenti/EarthquakesGPS/main/original_cat.txt\", sep=\"\\s+\", index_col=\"Date\")\n",
        "original_cat.index = pd.to_datetime(original_cat.index)"
      ],
      "metadata": {
        "id": "etWHSrNHPyuf"
      },
      "execution_count": 32,
      "outputs": []
    },
    {
      "cell_type": "code",
      "source": [
        "df2 = pd.merge(stat_data['lbc2'], stat_data['chil'], how='inner',left_index=True, right_index=True)\n",
        "df2[\"nr\"] = df2[\"N_x\"]-df2[\"N_y\"]\n",
        "df2[\"er\"] = df2[\"E_x\"]-df2[\"E_y\"]\n",
        "df2[\"ur\"] = df2[\"U_x\"]-df2[\"U_y\"]\n",
        "l = 10\n",
        "l_cell = 10"
      ],
      "metadata": {
        "id": "LX58VqiaZKPq"
      },
      "execution_count": 33,
      "outputs": []
    },
    {
      "cell_type": "code",
      "source": [
        "df2[\"cN\"] = moving_lin_regress(df2[\"nr\"].values, l, 0, len(df2[\"nr\"].values))\n",
        "df2[\"cE\"] = moving_lin_regress(df2[\"er\"].values, l, 0, len(df2[\"er\"].values))\n",
        "df2[\"cU\"] = moving_lin_regress(df2[\"ur\"].values, l, 0, len(df2[\"ur\"].values))"
      ],
      "metadata": {
        "id": "zB4eVMPjZXUH"
      },
      "execution_count": 34,
      "outputs": []
    },
    {
      "cell_type": "code",
      "source": [
        "df2[\"mN\"] = max_filter1d_valid(df2[\"cN\"], l)-min_filter1d_valid(df2[\"cN\"], l)\n",
        "df2[\"mE\"] = max_filter1d_valid(df2[\"cE\"], l)-min_filter1d_valid(df2[\"cE\"], l)\n",
        "df2[\"mU\"] = max_filter1d_valid(df2[\"cU\"], l)-min_filter1d_valid(df2[\"cU\"], l)"
      ],
      "metadata": {
        "id": "1h25UlpXZs-n"
      },
      "execution_count": 35,
      "outputs": []
    },
    {
      "cell_type": "code",
      "source": [
        "V_day = np.sqrt(df2[\"mN\"].values**2+df2[\"mE\"].values**2)"
      ],
      "metadata": {
        "id": "59gHN994aPre"
      },
      "execution_count": 36,
      "outputs": []
    },
    {
      "cell_type": "code",
      "source": [
        "if(len(V_day) <= l_cell):\n",
        "  V_cell = np.ones(l_cell)*np.max(V_day)\n",
        "  flag = np.zeros(len(l_cell), dtype=int)\n",
        "  flag[0] = 1\n",
        "else:\n",
        "  V_cell = np.concatenate([ np.max(cell)*np.ones(len(cell)) for cell in np.split(V_day, np.arange(0, len(V_day), l_cell))[1:]])\n",
        "  flag = np.zeros(len(V_cell), dtype=int)\n",
        "  flag[np.arange(0, len(V_day), l_cell)] = 1"
      ],
      "metadata": {
        "id": "1RvjxHDxaYsU"
      },
      "execution_count": 37,
      "outputs": []
    },
    {
      "cell_type": "code",
      "source": [
        "df2[\"V\"] = V_cell\n",
        "df2[\"Flag\"] = flag"
      ],
      "metadata": {
        "id": "8Gjter7da-dG"
      },
      "execution_count": 38,
      "outputs": []
    },
    {
      "cell_type": "code",
      "source": [
        "vth_probs = np.linspace(0,1,50)\n",
        "single_alarm = []\n",
        "all_vals = df2[\"V\"].values\n",
        "all_vals = all_vals[np.isfinite(all_vals)]\n",
        "all_vals = np.sort(all_vals)\n",
        "vth_indices = np.minimum(np.maximum((1-vth_probs)*len(all_vals), 0), len(all_vals)-1).astype('int')\n",
        "matched_vals = []\n",
        "for cnt, (date,row) in enumerate(original_cat.iterrows()):\n",
        "  match = df2[np.logical_and(df2.index >= date - np.timedelta64(l_cell+1,'D'),df2.index <= date  )]\n",
        "  if(not match.empty):\n",
        "     if(np.isfinite(match[\"V\"].values).all()):\n",
        "       vals = match[\"V\"].values\n",
        "       flags = match[\"Flag\"].values.astype('int')\n",
        "       flags_where = np.argwhere(flags==1).flatten()\n",
        "       if(len(flags_where) == 2):\n",
        "           prev_val =  vals[flags_where[0]]\n",
        "       else:\n",
        "           prev_val =  vals[flags_where[0]-1]\n",
        "       matched_vals.append(prev_val)\n",
        "       single_alarm.append(np.heaviside(prev_val-all_vals[vth_indices],1))\n",
        "single_alarm = np.array(single_alarm)\n",
        "matched_vals = np.array(matched_vals)"
      ],
      "metadata": {
        "id": "dwA8aSNybdOS"
      },
      "execution_count": 39,
      "outputs": []
    },
    {
      "cell_type": "code",
      "source": [
        "alarm = np.heaviside(matched_vals.reshape(-1,1)-all_vals[vth_indices].reshape(1,-1),1)"
      ],
      "metadata": {
        "id": "tS1dxJEqeIQj"
      },
      "execution_count": 40,
      "outputs": []
    },
    {
      "cell_type": "code",
      "source": [
        "plt.plot(vth_probs,1-alarm.mean(axis=0))\n",
        "plt.plot(vth_probs,1-vth_probs)"
      ],
      "metadata": {
        "id": "uVrsGv_reSE8",
        "outputId": "8f95a443-6684-4d95-cab1-6500a7b14315",
        "colab": {
          "base_uri": "https://localhost:8080/",
          "height": 283
        }
      },
      "execution_count": 43,
      "outputs": [
        {
          "output_type": "execute_result",
          "data": {
            "text/plain": [
              "[<matplotlib.lines.Line2D at 0x7f7e1dbd3e90>]"
            ]
          },
          "metadata": {},
          "execution_count": 43
        },
        {
          "output_type": "display_data",
          "data": {
            "text/plain": [
              "<Figure size 432x288 with 1 Axes>"
            ],
            "image/png": "[encoded data removed]"
          },
          "metadata": {
            "needs_background": "light"
          }
        }
      ]
    },
    {
      "cell_type": "code",
      "source": [
        "fig, ax = plt.subplots(figsize=(10,8))\n",
        "plt.plot(df2[\"N_x\"]-df2[\"N_y\"])\n",
        "plt.show()"
      ],
      "metadata": {
        "id": "ZihYw0-ST5U7",
        "outputId": "279754b9-8e7d-4225-8a11-e94108313be9",
        "colab": {
          "base_uri": "https://localhost:8080/",
          "height": 483
        }
      },
      "execution_count": 52,
      "outputs": [
        {
          "output_type": "display_data",
          "data": {
            "text/plain": [
              "<Figure size 720x576 with 1 Axes>"
            ],
            "image/png": "[encoded data removed]"
          },
          "metadata": {
            "needs_background": "light"
          }
        }
      ]
    },
    {
      "cell_type": "code",
      "source": [
        "fig, ax = plt.subplots(figsize=(10,8))\n",
        "plt.plot(df2[\"E_x\"]-df2[\"E_y\"])\n",
        "plt.show()"
      ],
      "metadata": {
        "id": "yt9KftIqUBDK",
        "outputId": "14dd3c0c-7e52-4cd0-b7ae-bee6ab8ce4f7",
        "colab": {
          "base_uri": "https://localhost:8080/",
          "height": 483
        }
      },
      "execution_count": 55,
      "outputs": [
        {
          "output_type": "display_data",
          "data": {
            "text/plain": [
              "<Figure size 720x576 with 1 Axes>"
            ],
            "image/png": "[encoded data removed]"
          },
          "metadata": {
            "needs_background": "light"
          }
        }
      ]
    },
    {
      "cell_type": "markdown",
      "source": [
        "# Station Position vs Earthquakes (depends on prev. cell)"
      ],
      "metadata": {
        "id": "UordfUwI1FaA"
      }
    },
    {
      "cell_type": "code",
      "source": [
        "vth_probs = np.linspace(0,1,50)\n",
        "single_alarms = {}\n",
        "for key in V_cells.keys():\n",
        "  print(key)\n",
        "  single_alarm = []\n",
        "  df = V_cells[key]\n",
        "  all_vals = df[\"V\"].values\n",
        "  all_vals = all_vals[np.isfinite(all_vals)]\n",
        "  all_vals = np.sort(all_vals)\n",
        "  vth_indices = np.minimum(np.maximum((1-vth_probs)*len(all_vals), 0), len(all_vals)-1).astype('int')\n",
        "  for cnt, (date,row) in enumerate(catalog_big.iterrows()):\n",
        "     match = df[np.logical_and(df.index >= date - np.timedelta64(W_cell+1,'D'),df.index <= date  )]\n",
        "     if(not match.empty):\n",
        "      if(np.isfinite(match[\"V\"].values).all()):\n",
        "          vals = match[\"V\"].values\n",
        "          flags = match[\"Flag\"].values.astype('int')\n",
        "          flags_where = np.argwhere(flags==1).flatten()\n",
        "          try:\n",
        "            if(len(flags_where) == 2):\n",
        "              prev_val =  vals[flags_where[0]]\n",
        "            else:\n",
        "              prev_val =  vals[flags_where[0]-1]\n",
        "            single_alarm.append(np.heaviside(prev_val-all_vals[vth_indices],1))\n",
        "          except:\n",
        "            print(key, date, flags)\n",
        "  single_alarm = np.array(single_alarm)\n",
        "  single_alarms[key]=single_alarm"
      ],
      "metadata": {
        "id": "34nh2bKkQ1j0"
      },
      "execution_count": null,
      "outputs": []
    },
    {
      "cell_type": "code",
      "source": [
        "position_array = np.array([station_pos[key] for key in excoefs.keys()])\n",
        "lat1 = catalog_big['lat'].values.reshape(-1,1)\n",
        "lat2 = position_array[:,0].reshape(1,-1)\n",
        "delta_long = catalog_big['long'].values.reshape(-1,1)-position_array[:,1].reshape(1,-1)\n",
        "distances_big = haversine(lat1,lat2,delta_long)\n",
        "ord_dist_big = np.argsort(distances_big, axis=1)\n",
        "lat1 = catalog_small['lat'].values.reshape(-1,1)\n",
        "delta_long = catalog_small['long'].values.reshape(-1,1)-position_array[:,1].reshape(1,-1)\n",
        "distances_small = haversine(lat1,lat2,delta_long)\n",
        "ord_dist_small = np.argsort(distances_small, axis=1)"
      ],
      "metadata": {
        "id": "O3qrEQCo1Lki"
      },
      "execution_count": 47,
      "outputs": []
    },
    {
      "cell_type": "code",
      "source": [
        "#station_keys_array = np.array(list(excoefs.keys()))\n",
        "#max_distance = 1e-2\n",
        "#vth_probs = np.linspace(0,1,50)\n",
        "#single_alarms = []\n",
        "#for cnt, (date,row) in enumerate(catalog_big.iterrows()):\n",
        "#  closeness_idx = 0\n",
        "#  while(True and closeness_idx < len(ord_dist_big[cnt,:])):\n",
        "#    closest_station = station_keys_array[ord_dist_big[cnt,closeness_idx]]\n",
        "#    final_distance = distances_big[cnt,ord_dist_big[cnt,closeness_idx]]\n",
        "#    df = V_cells[closest_station]\n",
        "#    match = df[np.logical_and(df.index >= date - np.timedelta64(W_cell+1,'D'),df.index <= date  )]\n",
        "#    if(not match.empty):\n",
        "#      if(np.isfinite(match[\"V\"].values).all()):\n",
        "#          vals = match[\"V\"].values\n",
        "#          flags = match[\"Flag\"].values.astype('int')\n",
        "#          flags_where = np.argwhere(flags==1).flatten()\n",
        "#          if(len(flags_where) == 2):\n",
        "#            prev_val =  vals[flags_where[0]]\n",
        "#          else:\n",
        "#            prev_val =  vals[flags_where[0]-1]\n",
        "#          all_vals = df[\"V\"].values\n",
        "#          all_vals = all_vals[np.isfinite(all_vals)]\n",
        "#          all_vals = np.sort(all_vals)\n",
        "#          vth_indices = np.minimum(np.maximum((1-vth_probs)*len(all_vals), 0), len(all_vals)-1).astype('int')\n",
        "#          single_alarms.append(np.heaviside(prev_val-all_vals[vth_indices],1))\n",
        "#          break\n",
        "#      else:\n",
        "#        closeness_idx += 1\n",
        "#    else:\n",
        "#      closeness_idx += 1\n",
        "#single_alarms = np.array(single_alarms)"
      ],
      "metadata": {
        "id": "hxdIHacE4QW_"
      },
      "execution_count": 21,
      "outputs": []
    },
    {
      "cell_type": "markdown",
      "source": [
        "# Loading"
      ],
      "metadata": {
        "id": "bbFPAmiNZnuS"
      }
    },
    {
      "cell_type": "code",
      "source": [
        "W=9\n",
        "W_max = W\n",
        "\n",
        "\n",
        "with open(\"drive/MyDrive/Colab Notebooks/V_W=%i.pkl\"%W_max,\"rb\") as handle:\n",
        "  V_ws = pkl.load(handle)"
      ],
      "metadata": {
        "id": "g6hZZ__0ZpcN"
      },
      "execution_count": 37,
      "outputs": []
    },
    {
      "cell_type": "markdown",
      "source": [
        "# Clustering"
      ],
      "metadata": {
        "id": "dIxll8YzQdsa"
      }
    },
    {
      "cell_type": "code",
      "source": [
        "position_array = np.array([station_pos[key] for key in V_ws.keys()])\n",
        "pos_rads = position_array*np.pi/180\n",
        "pos_tree = BallTree(pos_rads, metric=\"haversine\")\n",
        "distance_threshold = 5e-3"
      ],
      "metadata": {
        "id": "PVim0HoEQftA"
      },
      "execution_count": 39,
      "outputs": []
    },
    {
      "cell_type": "code",
      "source": [
        "clusters = {}\n",
        "s_keys = np.array(list(V_ws.keys()))\n",
        "for idx in range(0,len(pos_rads)):\n",
        "  query_res = pos_tree.query_radius(pos_rads[idx:idx+1],distance_threshold )[0]\n",
        "  clusters[s_keys[idx]] = list(s_keys[query_res])"
      ],
      "metadata": {
        "id": "2VSxpBpFXIwq"
      },
      "execution_count": 40,
      "outputs": []
    },
    {
      "cell_type": "markdown",
      "source": [
        "# Alert probability"
      ],
      "metadata": {
        "id": "3AzznL9GQIpT"
      }
    },
    {
      "cell_type": "code",
      "source": [
        "vth_probs = np.linspace(0,1,50)\n",
        "earthquake_cnt = 0\n",
        "alarm = np.zeros_like(vth_probs)\n",
        "station_keys_array = np.array(list(clusters.keys()))\n",
        "for cnt, (date,row) in enumerate(earthquakes.iterrows()):\n",
        "    closeness_idx = 0\n",
        "    earthquake_alarm = np.zeros_like(vth_probs)\n",
        "    n_matches = 0\n",
        "    while(True and closeness_idx < len(closest_station_idx[cnt,:])):\n",
        "      closest_station = station_keys_array[closest_station_idx[cnt,closeness_idx]]\n",
        "      final_distance = distances[cnt,closest_station_idx[cnt,closeness_idx]]\n",
        "      if(final_distance <= distance_threshold):\n",
        "        for key in clusters[closest_station]:\n",
        "          match = V_ws[key][V_ws[key].index==date-np.timedelta64(1,'D')]\n",
        "\n",
        "          if((not match.empty) and np.isfinite(match[\"V\"].values).all()):          \n",
        "            V_wind = V_ws[key][\"V\"].values\n",
        "            V_wind = np.sort(V_wind[np.isfinite(V_wind)])\n",
        "            vth_indices = np.minimum(np.maximum((1-vth_probs)*len(V_wind), 0), len(V_wind)-1).astype('int')\n",
        "            vth = V_wind[vth_indices]\n",
        "            earthquake_alarm += np.heaviside(match[\"V\"].values.flatten()-vth,1)\n",
        "            n_matches += 1\n",
        "            \n",
        "              \n",
        "      if(n_matches > 0):\n",
        "        earthquake_cnt += 1\n",
        "        alarm += np.heaviside(earthquake_alarm,0)\n",
        "        break\n",
        "      else:\n",
        "        closeness_idx+=1\n",
        "alarm /= earthquake_cnt"
      ],
      "metadata": {
        "id": "muNCkZISeK6g"
      },
      "execution_count": 46,
      "outputs": []
    },
    {
      "cell_type": "code",
      "source": [
        "vth_probs = np.linspace(0,1,50)\n",
        "earthquake_cnt = 0\n",
        "single_alarm = np.zeros_like(vth_probs)\n",
        "station_keys_array = np.array(list(clusters.keys()))\n",
        "dist_from_signal = []\n",
        "for cnt, (date,row) in enumerate(earthquakes.iterrows()):\n",
        "    closeness_idx = 0\n",
        "    earthquake_alarm = np.zeros_like(vth_probs)\n",
        "    found_station = False\n",
        "    while(True and closeness_idx < len(closest_station_idx[cnt,:])):\n",
        "      closest_station = station_keys_array[closest_station_idx[cnt,closeness_idx]]\n",
        "      match = V_ws[closest_station][V_ws[closest_station].index==date-np.timedelta64(1,'D')]\n",
        "      if((not match.empty) and np.isfinite(match[\"V\"].values).all()):          \n",
        "        V_wind = V_ws[closest_station][\"V\"].values\n",
        "        V_wind = np.sort(V_wind[np.isfinite(V_wind)])\n",
        "        vth_indices = np.minimum(np.maximum((1-vth_probs)*len(V_wind), 0), len(V_wind)-1).astype('int')\n",
        "        vth = V_wind[vth_indices]\n",
        "        single_alarm += np.heaviside(match[\"V\"].values.flatten()-vth,1)\n",
        "        found_station = True    \n",
        "      if(found_station):\n",
        "        dist_from_signal.append(distances[cnt,closest_station_idx[cnt,closeness_idx]])\n",
        "        earthquake_cnt += 1\n",
        "        break\n",
        "      else:\n",
        "        closeness_idx+=1\n",
        "single_alarm /= earthquake_cnt\n",
        "dist_from_signal = np.array(dist_from_signal)"
      ],
      "metadata": {
        "id": "shJ4LHtKto-b"
      },
      "execution_count": 61,
      "outputs": []
    },
    {
      "cell_type": "code",
      "source": [
        "plt.plot(vth_probs,1-alarm)\n",
        "plt.plot(vth_probs,1-single_alarm)\n",
        "plt.plot(vth_probs, 1-vth_probs)"
      ],
      "metadata": {
        "colab": {
          "base_uri": "https://localhost:8080/",
          "height": 283
        },
        "id": "zR-qXDckRKQZ",
        "outputId": "b835160c-ac8e-438a-ef2e-25f639283ddb"
      },
      "execution_count": 64,
      "outputs": [
        {
          "output_type": "execute_result",
          "data": {
            "text/plain": [
              "[<matplotlib.lines.Line2D at 0x7fd6d7aeda50>]"
            ]
          },
          "metadata": {},
          "execution_count": 64
        },
        {
          "output_type": "display_data",
          "data": {
            "text/plain": [
              "<Figure size 432x288 with 1 Axes>"
            ],
            "image/png": "[encoded data removed]"
          },
          "metadata": {
            "needs_background": "light"
          }
        }
      ]
    },
    {
      "cell_type": "markdown",
      "source": [
        "# Classification"
      ],
      "metadata": {
        "id": "8PAHSjPKI8WM"
      }
    },
    {
      "cell_type": "code",
      "source": [
        "vth_posterior = {}\n",
        "vth_probs = np.linspace(0,1,15)\n",
        "for key in excoefs.keys():\n",
        "  V = np.sqrt(np.sum(excoefs[key][:2,:]**2,axis=0))\n",
        "  V_windowed = max_filter1d_valid(V, W)\n",
        "  V_windowed = V_windowed[np.isfinite(V_windowed)]\n",
        "  if(len(V_windowed)>0):\n",
        "    vth_indices = np.maximum(np.minimum(((1-vth_probs)*len(V_windowed)).astype('int'), len(V_windowed)-1), 0)\n",
        "    vth_posterior[key] = V_windowed[vth_indices]\n",
        "  else:\n",
        "    vth_posterior[key] = np.ones(len(vth_probs))*np.nan"
      ],
      "metadata": {
        "id": "B8Hg1IQ7aTuD"
      },
      "execution_count": null,
      "outputs": []
    },
    {
      "cell_type": "code",
      "source": [
        "threshold_dist = 5e-2\n",
        "res = []\n",
        "for cnt, (date,row) in enumerate(earthquakes.iterrows()):\n",
        "  alerts = np.zeros_like(vth_probs)\n",
        "  matches = np.zeros_like(vth_probs)\n",
        "  for cnt2, key in enumerate(excoefs.keys()):\n",
        "     dist = distances[cnt,cnt2]\n",
        "     if(dist <= threshold_dist):\n",
        "       match = np.argwhere(stat_data[key].index==date).flatten()\n",
        "       if(len(match)>0):\n",
        "         match = match[0]\n",
        "         matches += 1\n",
        "         v_matched = np.sqrt(np.sum(excoefs[key][:,match-W:match][:2,:]**2,axis=0))\n",
        "         v_matched = v_matched[np.isfinite(v_matched)]\n",
        "         if(len(v_matched) > 0):\n",
        "           v = np.max(v_matched)\n",
        "           alerts += (v >= vth_posterior[key])\n",
        "  res.append(alerts/matches)\n",
        "res = np.array(res)\n",
        "res = res[np.isfinite(res)].reshape(-1,res.shape[1])"
      ],
      "metadata": {
        "colab": {
          "base_uri": "https://localhost:8080/"
        },
        "id": "7HlAcg0BAnqn",
        "outputId": "3f658417-66bc-4b53-d594-d1327b0c1390"
      },
      "execution_count": null,
      "outputs": [
        {
          "output_type": "stream",
          "name": "stderr",
          "text": [
            "/usr/local/lib/python3.7/dist-packages/ipykernel_launcher.py:18: RuntimeWarning: invalid value encountered in true_divide\n"
          ]
        }
      ]
    },
    {
      "cell_type": "code",
      "source": [
        "for idx in range(1, len(vth_probs), 3):\n",
        "  signaled = (res[:, idx].reshape(-1,1) >= np.linspace(0,1).reshape(1,-1)).mean(axis=0)\n",
        "  plt.plot(np.linspace(0,1), signaled, label=\"%f\" % vth_probs[idx])\n",
        "plt.xlabel(\"$p_{\\\\rm min}$ alarm\")\n",
        "plt.legend()\n",
        "plt.show()"
      ],
      "metadata": {
        "colab": {
          "base_uri": "https://localhost:8080/",
          "height": 283
        },
        "id": "FlrhytPIJMs_",
        "outputId": "2e2e4cb4-f0b6-418f-cb0e-4308e971f3bb"
      },
      "execution_count": null,
      "outputs": [
        {
          "output_type": "display_data",
          "data": {
            "text/plain": [
              "<Figure size 432x288 with 1 Axes>"
            ],
            "image/png": "[encoded data removed]"
          },
          "metadata": {
            "needs_background": "light"
          }
        }
      ]
    },
    {
      "cell_type": "code",
      "source": [
        "threshold_dist = 1e-2\n",
        "probs = [0.05,0.1,0.2,0.3,0.4,0.5,0.6,0.7,0.8,0.9,0.95]\n",
        "res = []\n",
        "for v_th_prob in probs:\n",
        "  v_thresholds = {}\n",
        "  for key in excoefs.keys():\n",
        "    V = np.sqrt(np.sum(excoefs[key][:2,:]**2,axis=0))\n",
        "    V = V[np.isfinite(V)]\n",
        "    V = np.sort(V)\n",
        "    v_th_idx = int(len(V)*(1-v_th_prob))\n",
        "    if(len(V) == 0):\n",
        "      v_thresholds[key] = np.infty\n",
        "    else:\n",
        "      v_thresholds[key] = V[v_th_idx]\n",
        "    #plt.plot(V,np.linspace(0,1,len(V)))\n",
        "    #plt.vlines(v_thresholds[key],0,1)\n",
        "    #plt.xscale('log')\n",
        "    #plt.show()\n",
        "    #break\n",
        "  signal_prob = []\n",
        "  signal_magn = []\n",
        "  for cnt, (date,row) in enumerate(earthquakes.iterrows()):\n",
        "    match_cnt = 0\n",
        "    alert_cnt = 0\n",
        "    for cnt2, key in enumerate(excoefs.keys()):\n",
        "       dist = distances[cnt,cnt2]\n",
        "       if(dist <= threshold_dist):\n",
        "         match = np.argwhere(stat_data[key].index==date).flatten()\n",
        "         if(len(match)>0):\n",
        "           match = match[0]\n",
        "           v_matched = np.sqrt(np.sum(excoefs[key][:,match-W:match][:2,:]**2,axis=0))\n",
        "           v_matched = v_matched[np.isfinite(v_matched)]\n",
        "           if(len(v_matched) == W):\n",
        "             match_cnt += 1\n",
        "             if(np.max(v_matched) >= v_thresholds[key]):\n",
        "               alert_cnt += 1\n",
        "    if(match_cnt > 0):\n",
        "      signal_prob.append(alert_cnt/match_cnt)\n",
        "      signal_magn.append(row[\"m\"])\n",
        "  res.append( np.array(signal_prob) )\n",
        "res = np.array(res)"
      ],
      "metadata": {
        "id": "eN2_zBLiHOKl"
      },
      "execution_count": null,
      "outputs": []
    },
    {
      "cell_type": "code",
      "source": [
        "cuts = (res[:,np.newaxis,:]>np.linspace(0,1,20).reshape(1,-1,1)).astype('int')"
      ],
      "metadata": {
        "id": "4weVoDTvuS0w"
      },
      "execution_count": null,
      "outputs": []
    },
    {
      "cell_type": "code",
      "source": [
        "plt.plot(probs, 1-cuts[:,5,:].mean(axis=-1))\n",
        "plt.plot(probs, 1-cuts[:,10,:].mean(axis=-1))\n",
        "plt.plot(probs, 1-cuts[:,15,:].mean(axis=-1))\n",
        "plt.plot(probs,1-np.array(probs), ls='dashed', c='black')\n",
        "plt.show()"
      ],
      "metadata": {
        "colab": {
          "base_uri": "https://localhost:8080/",
          "height": 268
        },
        "id": "QcQfpfjxvy2r",
        "outputId": "52297ba9-2d43-4fea-ef7e-92a506dc5660"
      },
      "execution_count": null,
      "outputs": [
        {
          "output_type": "display_data",
          "data": {
            "text/plain": [
              "<Figure size 432x288 with 1 Axes>"
            ],
            "image/png": "[encoded data removed]"
          },
          "metadata": {
            "needs_background": "light"
          }
        }
      ]
    },
    {
      "cell_type": "code",
      "source": [
        "non_signaled = 1-cuts.sum(axis=2)/cuts.shape[2]"
      ],
      "metadata": {
        "id": "aY2-3rn-uv5-"
      },
      "execution_count": null,
      "outputs": []
    },
    {
      "cell_type": "code",
      "source": [
        "non_signaled.shape"
      ],
      "metadata": {
        "colab": {
          "base_uri": "https://localhost:8080/"
        },
        "id": "Lbabj8c_u9YE",
        "outputId": "6ca69dde-99f4-43f3-cbb4-7fe28e31c999"
      },
      "execution_count": null,
      "outputs": [
        {
          "output_type": "execute_result",
          "data": {
            "text/plain": [
              "(11, 20)"
            ]
          },
          "metadata": {},
          "execution_count": 114
        }
      ]
    },
    {
      "cell_type": "markdown",
      "source": [
        "# Pytorch"
      ],
      "metadata": {
        "id": "BPv6R-4DSGVM"
      }
    },
    {
      "cell_type": "code",
      "source": [
        "T_seq = 10\n",
        "delta_days = np.timedelta64(T_seq, 'D')\n",
        "max_distance = 5e-3\n",
        "dataset = []\n",
        "for cnt, (date,row) in enumerate(earthquakes.iterrows()):\n",
        "  for key in stat_data.keys():\n",
        "    pos = station_pos[key]\n",
        "    dist = haversine(pos[0], row[\"lat\"], pos[1]-row[\"long\"])\n",
        "    if(dist <= max_distance):\n",
        "      match = stat_data[key][np.logical_and(stat_data[key].index < date,stat_data[key].index >= date - delta_days )]\n",
        "      if((not match.empty) and (np.isfinite(match[\"N\"]).all())):\n",
        "        match = match[[\"N\",\"E\",\"U\"]]\n",
        "        if(match.shape[0] < T_seq):\n",
        "          continue\n",
        "        else:\n",
        "          match = match.values[np.newaxis,...]\n",
        "          dataset.append(match)                              \n",
        "dataset = np.transpose(np.concatenate(dataset, axis=0),axes=(0,2,1))\n",
        "with open(\"dset_false_T=%i_dist=%f.pkl\" % (T_seq, max_distance), \"wb\") as handle:\n",
        "  pkl.dump(dataset, handle)"
      ],
      "metadata": {
        "id": "XucxNRJFSIRs",
        "colab": {
          "base_uri": "https://localhost:8080/",
          "height": 240
        },
        "outputId": "64d20c4c-18a9-4023-d6a6-0a241d36328d"
      },
      "execution_count": 3,
      "outputs": [
        {
          "output_type": "error",
          "ename": "NameError",
          "evalue": "ignored",
          "traceback": [
            "\u001b[0;31m---------------------------------------------------------------------------\u001b[0m",
            "\u001b[0;31mNameError\u001b[0m                                 Traceback (most recent call last)",
            "\u001b[0;32m<ipython-input-3-44b3a67c0079>\u001b[0m in \u001b[0;36m<module>\u001b[0;34m()\u001b[0m\n\u001b[1;32m      3\u001b[0m \u001b[0mmax_distance\u001b[0m \u001b[0;34m=\u001b[0m \u001b[0;36m5e-3\u001b[0m\u001b[0;34m\u001b[0m\u001b[0;34m\u001b[0m\u001b[0m\n\u001b[1;32m      4\u001b[0m \u001b[0mdataset\u001b[0m \u001b[0;34m=\u001b[0m \u001b[0;34m[\u001b[0m\u001b[0;34m]\u001b[0m\u001b[0;34m\u001b[0m\u001b[0;34m\u001b[0m\u001b[0m\n\u001b[0;32m----> 5\u001b[0;31m \u001b[0;32mfor\u001b[0m \u001b[0mcnt\u001b[0m\u001b[0;34m,\u001b[0m \u001b[0;34m(\u001b[0m\u001b[0mdate\u001b[0m\u001b[0;34m,\u001b[0m\u001b[0mrow\u001b[0m\u001b[0;34m)\u001b[0m \u001b[0;32min\u001b[0m \u001b[0menumerate\u001b[0m\u001b[0;34m(\u001b[0m\u001b[0mearthquakes\u001b[0m\u001b[0;34m.\u001b[0m\u001b[0miterrows\u001b[0m\u001b[0;34m(\u001b[0m\u001b[0;34m)\u001b[0m\u001b[0;34m)\u001b[0m\u001b[0;34m:\u001b[0m\u001b[0;34m\u001b[0m\u001b[0;34m\u001b[0m\u001b[0m\n\u001b[0m\u001b[1;32m      6\u001b[0m   \u001b[0;32mfor\u001b[0m \u001b[0mkey\u001b[0m \u001b[0;32min\u001b[0m \u001b[0mstat_data\u001b[0m\u001b[0;34m.\u001b[0m\u001b[0mkeys\u001b[0m\u001b[0;34m(\u001b[0m\u001b[0;34m)\u001b[0m\u001b[0;34m:\u001b[0m\u001b[0;34m\u001b[0m\u001b[0;34m\u001b[0m\u001b[0m\n\u001b[1;32m      7\u001b[0m     \u001b[0mpos\u001b[0m \u001b[0;34m=\u001b[0m \u001b[0mstation_pos\u001b[0m\u001b[0;34m[\u001b[0m\u001b[0mkey\u001b[0m\u001b[0;34m]\u001b[0m\u001b[0;34m\u001b[0m\u001b[0;34m\u001b[0m\u001b[0m\n",
            "\u001b[0;31mNameError\u001b[0m: name 'earthquakes' is not defined"
          ]
        }
      ]
    },
    {
      "cell_type": "code",
      "source": [
        "with open(\"drive/MyDrive/Colab Notebooks/dset_false_T=%i_dist=%f.pkl\" % (T_seq, max_distance), \"rb\") as handle:\n",
        "  d_false = pkl.load(handle)\n",
        "with open(\"drive/MyDrive/Colab Notebooks/dset_true_T=%i_dist=%f.pkl\" % (T_seq, max_distance), \"rb\") as handle:\n",
        "  d_true = pkl.load(handle)"
      ],
      "metadata": {
        "id": "0kFkEizDcpTm"
      },
      "execution_count": 4,
      "outputs": []
    },
    {
      "cell_type": "code",
      "source": [
        "data = np.concatenate([d_false, d_true], axis=0)\n",
        "labels = np.concatenate([np.zeros(d_false.shape[0],dtype=int), np.ones(d_true.shape[0], dtype=int)])"
      ],
      "metadata": {
        "id": "mhwcGsNvdY1n"
      },
      "execution_count": 11,
      "outputs": []
    },
    {
      "cell_type": "code",
      "source": [
        "from sklearn.model_selection import train_test_split\n",
        "\n",
        "train_indices, test_indices = train_test_split(np.arange(labels.shape[0]), train_size=0.7, stratify=labels, shuffle=True)"
      ],
      "metadata": {
        "id": "IdkaaGPakr9F"
      },
      "execution_count": 12,
      "outputs": []
    },
    {
      "cell_type": "code",
      "source": [
        "x_train, x_test = torch.FloatTensor(data[train_indices]), torch.FloatTensor(data[test_indices])\n",
        "y_train, y_test = torch.LongTensor(labels[train_indices]), torch.LongTensor(labels[test_indices])"
      ],
      "metadata": {
        "id": "Wq7YjPetlfMw"
      },
      "execution_count": 15,
      "outputs": []
    },
    {
      "cell_type": "code",
      "source": [
        "import torch\n",
        "import torch.nn as nn\n",
        "import torch.nn.functional as F\n",
        "import torch.optim as optim\n",
        "\n",
        "\n",
        "class gpsnet(nn.Module):\n",
        "    def __init__(self, T_seq):\n",
        "        super().__init__()\n",
        "        self.T_seq = T_seq\n",
        "        self.conv1 = nn.Conv1d(3, 32, 3) #output is T_seq - 2\n",
        "        self.conv1_sz = ((self.T_seq+2*0-1*(3-1)-1)//1+1)\n",
        "        self.bnorm1 = nn.BatchNorm1d(32)\n",
        "        self.conv2 = nn.Conv1d(32, 64, 3)\n",
        "        self.bnorm2 = nn.BatchNorm1d(64)\n",
        "        self.conv2_sz = ((self.conv1_sz+2*0-1*(3-1)-1)//1+1)\n",
        "        self.fc1 = nn.Linear(64*self.conv2_sz, 128)\n",
        "        self.fc2 = nn.Linear(128, 64)\n",
        "        self.fc3 = nn.Linear(64, 1)\n",
        "\n",
        "    def forward(self, x):\n",
        "        x = self.conv1(x)\n",
        "        x = self.bnorm1(F.relu(x))\n",
        "        x = self.conv2(x)\n",
        "        x = self.bnorm2(F.relu(x))\n",
        "        x = torch.flatten(x, 1)\n",
        "        x = F.relu(self.fc1(x))\n",
        "        x = F.relu(self.fc2(x))\n",
        "        x = self.fc3(x)\n",
        "        return torch.sigmoid(x)"
      ],
      "metadata": {
        "id": "JxSqagm4V4_S"
      },
      "execution_count": 14,
      "outputs": []
    },
    {
      "cell_type": "code",
      "source": [
        "net = gpsnet(T_seq)\n",
        "batch_size = 10\n",
        "weight1 = y_train.sum()/len(y_train)\n",
        "criterion = nn.BCELoss()\n",
        "optimizer = optim.SGD(net.parameters(), lr=0.0001, momentum=0.9)\n",
        "hist = []\n",
        "for epoch in range(2000):  # loop over the dataset multiple times\n",
        "    for i in range(0, x_train.size(0), batch_size):\n",
        "        # get the inputs; data is a list of [inputs, labels]\n",
        "        endpt = min(i+batch_size, x_train.size(0))\n",
        "        inputs, ground_tr = x_train[i:endpt], y_train[i:endpt].to(torch.float32)\n",
        "        #weight = torch.zeros(batch_size)\n",
        "        #weight[ground_tr[:,0]==1] = (1-weight1)/batch_size\n",
        "        #weight[ground_tr[:,0]==0] = weight1/batch_size\n",
        "        #criterion.weight=weight\n",
        "        # zero the parameter gradients\n",
        "        optimizer.zero_grad()\n",
        "\n",
        "        # forward + backward + optimize\n",
        "        outputs = net(inputs)\n",
        "        loss = criterion(outputs.squeeze(1), ground_tr)\n",
        "        loss.backward()\n",
        "        optimizer.step()\n",
        "\n",
        "        if i % 1 == 0: \n",
        "            hist.append(loss.item())\n",
        "\n",
        "print('Finished Training')"
      ],
      "metadata": {
        "colab": {
          "base_uri": "https://localhost:8080/"
        },
        "id": "Rt8KHl9se3Pr",
        "outputId": "e081f38b-7415-4d8a-f250-17935bc96b18"
      },
      "execution_count": null,
      "outputs": [
        {
          "output_type": "stream",
          "name": "stdout",
          "text": [
            "Finished Training\n"
          ]
        }
      ]
    },
    {
      "cell_type": "code",
      "source": [
        "with torch.no_grad():\n",
        "  res = net(x_train)\n",
        "  print(criterion(res.squeeze(1), y_train.to(torch.float32)))\n",
        "  #res = net(x_train)\n",
        "  #print(criterion(res, y_train.view(-1,1).to(torch.float32)))"
      ],
      "metadata": {
        "colab": {
          "base_uri": "https://localhost:8080/"
        },
        "id": "rFLmW92zonGV",
        "outputId": "d04da8d3-3d78-4b8f-a71b-a3337086ff94"
      },
      "execution_count": null,
      "outputs": [
        {
          "output_type": "stream",
          "name": "stdout",
          "text": [
            "tensor(0.4853)\n"
          ]
        }
      ]
    },
    {
      "cell_type": "code",
      "source": [
        "plt.plot(hist)"
      ],
      "metadata": {
        "id": "QofKhBNc1uTp",
        "outputId": "167e0e07-2739-4e12-9b8e-b1fd3e3a31fc",
        "colab": {
          "base_uri": "https://localhost:8080/",
          "height": 283
        }
      },
      "execution_count": null,
      "outputs": [
        {
          "output_type": "execute_result",
          "data": {
            "text/plain": [
              "[<matplotlib.lines.Line2D at 0x7f0494880090>]"
            ]
          },
          "metadata": {},
          "execution_count": 519
        },
        {
          "output_type": "display_data",
          "data": {
            "text/plain": [
              "<Figure size 432x288 with 1 Axes>"
            ],
            "image/png": "[encoded data removed]"
          },
          "metadata": {
            "needs_background": "light"
          }
        }
      ]
    },
    {
      "cell_type": "code",
      "source": [
        ""
      ],
      "metadata": {
        "id": "1mt5yMVq1vbo"
      },
      "execution_count": null,
      "outputs": []
    }
  ]
}