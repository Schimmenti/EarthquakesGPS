{
  "nbformat": 4,
  "nbformat_minor": 0,
  "metadata": {
    "colab": {
      "name": "Dataset.ipynb",
      "provenance": [],
      "include_colab_link": true
    },
    "kernelspec": {
      "name": "python3",
      "display_name": "Python 3"
    },
    "language_info": {
      "name": "python"
    }
  },
  "cells": [
    {
      "cell_type": "markdown",
      "metadata": {
        "id": "view-in-github",
        "colab_type": "text"
      },
      "source": [
        "<a href=\"https://colab.research.google.com/github/Schimmenti/EarthquakesGPS/blob/main/Dataset.ipynb\" target=\"_parent\"><img src=\"https://colab.research.google.com/assets/colab-badge.svg\" alt=\"Open In Colab\"/></a>"
      ]
    },
    {
      "cell_type": "code",
      "execution_count": 34,
      "metadata": {
        "id": "Y_QgiMeEx9kw",
        "colab": {
          "base_uri": "https://localhost:8080/"
        },
        "outputId": "977c6bc2-3448-448f-a5df-8ee005a3fe28"
      },
      "outputs": [
        {
          "output_type": "stream",
          "name": "stdout",
          "text": [
            "Mounted at /content/drive\n"
          ]
        }
      ],
      "source": [
        "import numpy as np\n",
        "import pandas as pd\n",
        "import pickle as pkl\n",
        "import scipy.stats as stats\n",
        "import matplotlib.pyplot as plt\n",
        "import datetime\n",
        "import time\n",
        "from scipy.ndimage.filters import maximum_filter1d, minimum_filter1d\n",
        "from google.colab import drive\n",
        "from sklearn.metrics import roc_curve\n",
        "drive.mount('/content/drive', force_remount=True)\n",
        "from sklearn.neighbors import  KDTree,BallTree\n",
        "from numba import jit, njit"
      ]
    },
    {
      "cell_type": "code",
      "source": [
        "from bs4 import BeautifulSoup\n",
        "import requests\n",
        "\n",
        "class usgs_gps:\n",
        "  def get_all_stations(zone_name = \"Southern_California_ITRF2014\"):\n",
        "    net_link = \"https://earthquake.usgs.gov/monitoring/gps/%s/kml\" % zone_name\n",
        "    net_data = requests.get(net_link).content\n",
        "    net_xml = BeautifulSoup(net_data, \"xml\")\n",
        "    stats = {}\n",
        "    for el in net_xml.find_all(\"Placemark\"):\n",
        "      name = el.find(\"name\").text.lower()\n",
        "      look_at = el.find(\"LookAt\")\n",
        "      lat = float(look_at.find(\"latitude\").text)\n",
        "      lon = float(look_at.find(\"longitude\").text)\n",
        "      stats[name] = (lon,lat)\n",
        "    return stats\n",
        "\n",
        "  def get_all_networks():\n",
        "    network_list = [\"Alaska_ITRF2014\",\"Alaska_SGPS\",\"BasinAndRange_ITRF2014\",\"BasinAndRange_SGPS\",\"CentralCalifornia_ITRF2014\",\"CentralCalifornia_SGPS\",\"CentralUS\",\"CentralUS_ITRF2014\",\"DiabloCanyon_SPGPS\",\"EasternORWA_SGPS\",\"ECSZ_SGPS\",\"ElCentro\",\"Helens\",\"JuanDeFuca\",\"LongValley_ITRF2014\",\"Mammoth_SGPS\",\"MtBaker\",\"NCalifornia_SGPS\",\"NorthEasternCal_SGPS\",\"Northridge\",\"Pacific_ITRF2014\",\"Pacific_Northwest_ITRF2014\",\"SFBayArea_ITRF2014\",\"SFBayArea_SGPS\",\"Sisters\",\"Southern_California_ITRF2014\",\"WindKetchFlat_SGPS\",\"YellowstoneContin_ITRF2014\",\"Yellowstone_SPGPS\"]\n",
        "    return network_list\n",
        "\n",
        "  def get_data(net_name, stat_name, link_type=\"na2014\", fix_date = True):\n",
        "    raw_link =\"https://earthquake.usgs.gov/monitoring/gps/data/networks/%s/%s/%s/%s.rneu\"\n",
        "    full_link = raw_link%(net_name, stat_name, link_type, stat_name)\n",
        "    data = pd.read_csv(full_link, sep='\\t', header=None)\n",
        "    data.columns = columns=[\"DateI\",\"DateD\",\"N\",\"E\",\"U\",\"Tech1\",\"dN\",\"dE\",\"dU\",\"Tech2\",\"Descr\",]\n",
        "    if(fix_date):\n",
        "      data['Date'] = pd.to_datetime(data['DateI'], format='%Y%m%d')\n",
        "      data.set_index(\"Date\", drop=True, inplace=True)\n",
        "      idx = pd.date_range(data.index[0], data.index[-1])\n",
        "      data = data.reindex(idx, fill_value=np.NaN)\n",
        "    return data\n",
        "\n",
        "\n",
        "  def get_earthquakes_radius(min_date, max_date, lat, lon, max_radius_km, min_magn):\n",
        "    base_url = \"https://earthquake.usgs.gov/fdsnws/event/1/query?format=csv\"\n",
        "    base_url += \"&starttime=\" + min_date.strftime(\"%Y-%m-%d\")\n",
        "    base_url += \"&endtime=\" + max_date.strftime(\"%Y-%m-%d\")\n",
        "    base_url += \"&minmagnitude=%f\" % min_magn\n",
        "    base_url += \"&latitude=%f\" % lat\n",
        "    base_url += \"&longitude=%f\" % lon\n",
        "    base_url += \"&maxradiuskm=%f\" % max_radius_km\n",
        "    return pd.read_csv(base_url)\n",
        "\n",
        "  \n"
      ],
      "metadata": {
        "id": "pLrTxr1pbsB0"
      },
      "execution_count": 124,
      "outputs": []
    },
    {
      "cell_type": "code",
      "source": [
        "from numpy.lib.stride_tricks import as_strided\n",
        "\n",
        "#https://stackoverflow.com/questions/51808573/running-window-of-max-min-in-a-numpy-array\n",
        "def running_max_min(a, window_size, step_size = 1, add_heading_nan=True):\n",
        "    nrows = (a.size - window_size)//step_size + 1\n",
        "    n = a.strides[0]\n",
        "    s = as_strided(a, shape=(nrows, window_size), strides=(step_size*n, n))\n",
        "    if(add_heading_nan):\n",
        "      return np.concatenate([np.ones(window_size-1)*np.NaN, s.ptp(1)])\n",
        "    else:\n",
        "      return s.ptp(1)\n",
        "\n",
        "def haversine(lat1, lat2, delta_long):\n",
        "  return np.sin((lat2-lat1)/2)**2+np.cos(lat1)*np.cos(lat2)*np.sin(delta_long/2)**2\n",
        "\n",
        "def moving_lin_regress(x, T, add_heading_nan=True):\n",
        "    m = []\n",
        "    for t in range(0,len(x)-T+1):\n",
        "        m.append(stats.linregress(np.arange(0,T),x[t:t+T])[0])\n",
        "    if(add_heading_nan):\n",
        "      return np.concatenate([np.ones(T-1)*np.nan, np.array(m)])\n",
        "    else:\n",
        "      return np.array(m)"
      ],
      "metadata": {
        "id": "KCbzeg6SG8BU"
      },
      "execution_count": 192,
      "outputs": []
    },
    {
      "cell_type": "code",
      "source": [
        "#usgs_gps.get_earthquakes_radius(datetime.datetime(2022, 1, 1), datetime.datetime.now(), 32, -115, 1000, 4)"
      ],
      "metadata": {
        "id": "6EkqClMZs5CZ"
      },
      "execution_count": 235,
      "outputs": []
    },
    {
      "cell_type": "markdown",
      "source": [
        "# Station Names/Pos"
      ],
      "metadata": {
        "id": "n5B2fB-rtBNI"
      }
    },
    {
      "cell_type": "code",
      "source": [
        "base_link = \"https://raw.githubusercontent.com/Schimmenti/EarthquakesGPS/main/gps_data/\""
      ],
      "metadata": {
        "id": "CIFz3TRJyjwN"
      },
      "execution_count": 5,
      "outputs": []
    },
    {
      "cell_type": "code",
      "source": [
        "! wget \"https://raw.githubusercontent.com/Schimmenti/EarthquakesGPS/main/gps_data/stat_info.pkl\""
      ],
      "metadata": {
        "colab": {
          "base_uri": "https://localhost:8080/"
        },
        "id": "i45aPIdXylyt",
        "outputId": "7bf72539-7603-4059-f432-66386ab9abfc"
      },
      "execution_count": 6,
      "outputs": [
        {
          "output_type": "stream",
          "name": "stdout",
          "text": [
            "--2022-04-11 10:20:55--  https://raw.githubusercontent.com/Schimmenti/EarthquakesGPS/main/gps_data/stat_info.pkl\n",
            "Resolving raw.githubusercontent.com (raw.githubusercontent.com)... 185.199.108.133, 185.199.109.133, 185.199.110.133, ...\n",
            "Connecting to raw.githubusercontent.com (raw.githubusercontent.com)|185.199.108.133|:443... connected.\n",
            "HTTP request sent, awaiting response... 200 OK\n",
            "Length: 17030 (17K) [application/octet-stream]\n",
            "Saving to: ‘stat_info.pkl’\n",
            "\n",
            "stat_info.pkl       100%[===================>]  16.63K  --.-KB/s    in 0s      \n",
            "\n",
            "2022-04-11 10:20:55 (52.7 MB/s) - ‘stat_info.pkl’ saved [17030/17030]\n",
            "\n"
          ]
        }
      ]
    },
    {
      "cell_type": "code",
      "source": [
        "with open(\"stat_info.pkl\",\"rb\") as handle:\n",
        "  station_names, station_pos = pkl.load(handle)"
      ],
      "metadata": {
        "id": "Ee6C9Q0xyp_s"
      },
      "execution_count": 7,
      "outputs": []
    },
    {
      "cell_type": "markdown",
      "source": [
        "# Stations Raw Data"
      ],
      "metadata": {
        "id": "cK9K6hx6tTsf"
      }
    },
    {
      "cell_type": "code",
      "source": [
        "load_stat_raw_data = True\n",
        "if(load_stat_raw_data):\n",
        "  with open(\"drive/MyDrive/Colab Notebooks/stat_data.pkl\",\"rb\") as handle:\n",
        "    stat_data = pkl.load(handle)\n",
        "else:\n",
        "  stat_data = {}\n",
        "  for name in station_names:\n",
        "    try:\n",
        "      stat_data[name] = pd.read_csv(base_link + name + \".csv\")\n",
        "    except:\n",
        "      continue\n",
        "  for name in stat_data.keys():\n",
        "    stat_data[name]['Date'] = pd.to_datetime(stat_data[name]['DateI'], format='%Y%m%d')\n",
        "    stat_data[name].set_index(\"Date\", drop=True, inplace=True)\n",
        "    idx = pd.date_range(stat_data[name].index[0], stat_data[name].index[-1])\n",
        "    stat_data[name] = stat_data[name].reindex(idx, fill_value=np.NaN)\n",
        "  with open(\"stat_data.pkl\", \"wb\") as handle:\n",
        "    pkl.dump(stat_data,handle)"
      ],
      "metadata": {
        "id": "hoiPNm0DtVej"
      },
      "execution_count": 8,
      "outputs": []
    },
    {
      "cell_type": "markdown",
      "source": [
        "# Linear Regression Coefficents"
      ],
      "metadata": {
        "id": "ApenMMDit1ar"
      }
    },
    {
      "cell_type": "code",
      "source": [
        "W=10\n",
        "load_coefs = True\n",
        "if(load_coefs):\n",
        "  with open(\"drive/MyDrive/Colab Notebooks/T_W=%i.pkl\"%W,\"rb\") as handle:\n",
        "    coefs = pkl.load(handle)\n",
        "else:\n",
        "  coefs = {}\n",
        "  for name in stat_data.keys():\n",
        "    nord = stat_data[name][\"N\"].values\n",
        "    if(len(nord) >= W):\n",
        "      T_w_nord = moving_lin_regress(nord, W)\n",
        "      east = stat_data[name][\"E\"].values\n",
        "      T_w_east = moving_lin_regress(east, W)\n",
        "      up = stat_data[name][\"U\"].values\n",
        "      T_w_up = moving_lin_regress(up, W)\n",
        "      coefs[name] = np.array([T_w_nord, T_w_east, T_w_up])\n",
        "  with open(\"T_W=%i.pkl\"%W, \"wb\") as handle:\n",
        "    pkl.dump(coefs,handle)"
      ],
      "metadata": {
        "id": "6zrbH_eYt5JN"
      },
      "execution_count": 9,
      "outputs": []
    },
    {
      "cell_type": "markdown",
      "source": [
        "# Excursion Coefficents"
      ],
      "metadata": {
        "id": "LQdZpEyTapI3"
      }
    },
    {
      "cell_type": "code",
      "source": [
        "load_excoefs = True\n",
        "if(load_excoefs):\n",
        "  with open(\"drive/MyDrive/Colab Notebooks/ex_T_W=%i.pkl\"%W,\"rb\") as handle:\n",
        "    excoefs = pkl.load(handle)\n",
        "else:\n",
        "  excoefs = {}\n",
        "  for key in coefs.keys():\n",
        "    temp = []\n",
        "    for el in coefs[key]:\n",
        "      temp.append(running_max_min(el, W))\n",
        "    temp = np.array(temp)\n",
        "    excoefs[key] = temp\n",
        "  with open(\"ex_T_W=%i.pkl\" %W, \"wb\") as handle:\n",
        "    pkl.dump(excoefs,handle)"
      ],
      "metadata": {
        "id": "a2Gegab1uUhk"
      },
      "execution_count": 10,
      "outputs": []
    },
    {
      "cell_type": "markdown",
      "source": [
        "# $V_i$ coefficents (cell)"
      ],
      "metadata": {
        "id": "wQ374ZQ_u4M6"
      }
    },
    {
      "cell_type": "code",
      "source": [
        "load_v_cell = True\n",
        "W_cell = 20\n",
        "if(load_v_cell):\n",
        "  with open(\"drive/MyDrive/Colab Notebooks/V_W=%i_W_cell=%i.pkl\" %(W,W_cell), \"rb\") as handle:\n",
        "    V_cells = pkl.load(handle)\n",
        "else:\n",
        "  V_cells = {}\n",
        "  gammas = np.array([1,1,0])\n",
        "  for key in excoefs.keys():\n",
        "    V_day = np.sqrt(np.matmul(gammas,(excoefs[key]**2)))\n",
        "    if(len(V_day) <= W_cell):\n",
        "      V_cell = np.ones(W_cell)*np.max(V_day)\n",
        "      flag = np.zeros(len(V_cell), dtype=int)\n",
        "      flag[0] = 1\n",
        "    else:\n",
        "      V_cell = np.concatenate([ np.max(cell)*np.ones(len(cell)) for cell in np.split(V_day, np.arange(0, len(V_day), W_cell))[1:]])\n",
        "      flag = np.zeros(len(V_cell), dtype=int)\n",
        "      flag[np.arange(0, len(V_day), W_cell)] = 1\n",
        "    s_days = stat_data[key].index.values\n",
        "    df = pd.DataFrame()\n",
        "    df[\"Date\"] = s_days\n",
        "    df[\"V\"] = V_cell\n",
        "    df[\"Flag\"] = flag\n",
        "    df.set_index(\"Date\", drop=True, inplace=True)\n",
        "    V_cells[key] = df\n",
        "  with open(\"V_W=%i_W_cell=%i.pkl\" %(W,W_cell), \"wb\") as handle:\n",
        "    pkl.dump(V_cells,handle)"
      ],
      "metadata": {
        "id": "yl9Km2zivUwO"
      },
      "execution_count": 11,
      "outputs": []
    },
    {
      "cell_type": "markdown",
      "source": [
        "# $V_i$ coefficents (day)"
      ],
      "metadata": {
        "id": "6F1RZoAC4Mxt"
      }
    },
    {
      "cell_type": "code",
      "source": [
        "W_max=W\n",
        "V_ws = {}\n",
        "for key in excoefs.keys():\n",
        "  V = np.sqrt(np.sum(excoefs[key][:2,:]**2,axis=0))\n",
        "  if(len(V) <= W_max):\n",
        "    V_windowed = V\n",
        "  else:\n",
        "    V_windowed = max_filter1d_valid(V, W_max)\n",
        "  s_days = stat_data[key].index.values\n",
        "  df = pd.DataFrame()\n",
        "  df[\"Date\"] = s_days\n",
        "  df[\"V\"] = V_windowed\n",
        "  df.set_index(\"Date\", drop=True, inplace=True)\n",
        "  V_ws[key] = df\n",
        "  if(len(s_days)!=excoefs[key].shape[1]):\n",
        "    print(\"Sheit\")"
      ],
      "metadata": {
        "id": "9pemYoPFONZc"
      },
      "execution_count": null,
      "outputs": []
    },
    {
      "cell_type": "code",
      "source": [
        "with open(\"V_W=%i.pkl\" %W_max, \"wb\") as handle:\n",
        "  pkl.dump(V_ws,handle)"
      ],
      "metadata": {
        "id": "i4KEDvXwb7ig"
      },
      "execution_count": null,
      "outputs": []
    },
    {
      "cell_type": "markdown",
      "source": [
        "# Earthquake catalogs"
      ],
      "metadata": {
        "id": "_-_bCOXu0Jjx"
      }
    },
    {
      "cell_type": "code",
      "source": [
        "def download_catalog(catalog_name):\n",
        "  earthquakes = pd.read_csv(\"https://raw.githubusercontent.com/Schimmenti/EarthquakesGPS/main/%s\" % catalog_name, sep=\"\\s+\", header=None, names=[\"year\",\"month\",\"day\", \"hh\",\"mn\",\"ss\",\"lat\",\"long\",\"dep\",\"m\"])\n",
        "  earthquakes[\"long\"] = -earthquakes[\"long\"]\n",
        "  earthquakes[\"Date\"] =pd.to_datetime(earthquakes[['year','month','day']])\n",
        "  earthquakes.set_index(\"Date\",inplace=True)\n",
        "  return earthquakes\n",
        "\n",
        "def download_catalog_hauksson():\n",
        "  catalog = pd.read_csv(\"https://raw.githubusercontent.com/Schimmenti/EarthquakesGPS/main/hauksson_relocated.dat\",sep=r\"\\s+\",header=None)\n",
        "  catalog.columns = [\"sec\",\"m\",\"lat\",\"long\",\"dep\"]\n",
        "  landers = catalog[catalog[\"m\"]==7.3]\n",
        "  landers_date = datetime.date(1992,6,28)\n",
        "  landers_time = datetime.timedelta(hours=11, minutes=57, seconds=33)\n",
        "  delta_time = datetime.timedelta(seconds=float(landers['sec'].values))\n",
        "  catalog_beginning = landers_date+landers_time-delta_time\n",
        "  catalog_seconds = catalog['sec'].values.astype('timedelta64[s]')\n",
        "  start_date = np.datetime64(catalog_beginning)\n",
        "  catalog_dates = start_date + catalog_seconds\n",
        "  year_integer =  catalog_dates.astype('datetime64[Y]').astype('int')+1970\n",
        "  month_integer =  catalog_dates.astype('datetime64[M]').astype('int')%12+1\n",
        "  day_integer = (catalog_dates- catalog_dates.astype('datetime64[M]') + 1).astype('timedelta64[D]').astype('int')+1\n",
        "  date_integer =(year_integer*10000+month_integer*100+day_integer)\n",
        "  pandas_datetime = pd.to_datetime(date_integer, format='%Y%m%d')\n",
        "  catalog[\"Date\"] = pandas_datetime\n",
        "  catalog.set_index(\"Date\", drop=True, inplace=True)\n",
        "  #catalog.to_csv(\"catalog.csv\", sep=\"\\t\")\n",
        "  return catalog"
      ],
      "metadata": {
        "id": "rL6-6v6X0LPi"
      },
      "execution_count": 12,
      "outputs": []
    },
    {
      "cell_type": "code",
      "source": [
        "catalog_big = download_catalog(\"sc_4.5_tutti_9w.dat\")\n",
        "catalog_small = download_catalog(\"sc_schifezze.dat\")"
      ],
      "metadata": {
        "id": "4wO1ko6W0Uw9"
      },
      "execution_count": 13,
      "outputs": []
    },
    {
      "cell_type": "markdown",
      "source": [
        "# Plots"
      ],
      "metadata": {
        "id": "ZC9cJB_yd3i3"
      }
    },
    {
      "cell_type": "code",
      "source": [
        "sorted_cat = catalog_big.sort_values(by=\"m\").iloc[-5:]\n",
        "plt.vlines(sorted_cat.index.values[-1],-60,100, color='red',lw=2, ls='dashed')\n",
        "plt.vlines(sorted_cat.index.values[-2],-60,100, color='red',lw=2, ls='dashed')\n",
        "plt.vlines(sorted_cat.index.values[-3],-60,100, color='red',lw=2, ls='dashed')\n",
        "plt.vlines(sorted_cat.index.values[-4],-60,100, color='red',lw=2, ls='dashed')\n",
        "plt.vlines(sorted_cat.index.values[-5],-60,100, color='red',lw=2, ls='dashed')\n",
        "plt.plot(stat_data['chil']['N']-stat_data['lbc2']['N'])\n",
        "plt.xlabel(\"Date\", fontsize=15)\n",
        "plt.ylabel(\"Station displacement\", fontsize=15)\n",
        "plt.xticks(fontsize=15)\n",
        "plt.yticks(fontsize=15)\n",
        "plt.tight_layout()\n",
        "plt.savefig(\"stations_dir_magn.png\")\n",
        "plt.show()"
      ],
      "metadata": {
        "id": "ArXj1Ffrd7cU",
        "outputId": "59e12fd5-c838-4fcf-e196-201f4f19746c",
        "colab": {
          "base_uri": "https://localhost:8080/",
          "height": 297
        }
      },
      "execution_count": null,
      "outputs": [
        {
          "output_type": "display_data",
          "data": {
            "text/plain": [
              "<Figure size 432x288 with 1 Axes>"
            ],
            "image/png": "[encoded data removed]"
          },
          "metadata": {
            "needs_background": "light"
          }
        }
      ]
    },
    {
      "cell_type": "code",
      "source": [
        "sorted_cat = catalog_big.sort_values(by=\"m\").iloc[-5:]\n",
        "plt.vlines(sorted_cat.index.values[-1],-1.5,2, color='red',lw=2, ls='dashed')\n",
        "plt.vlines(sorted_cat.index.values[-2],-1.5,2, color='red',lw=2, ls='dashed')\n",
        "plt.vlines(sorted_cat.index.values[-3],-1.5,2, color='red',lw=2, ls='dashed')\n",
        "plt.vlines(sorted_cat.index.values[-4],-1.5,2, color='red',lw=2, ls='dashed')\n",
        "plt.vlines(sorted_cat.index.values[-5],-1.5,2, color='red',lw=2, ls='dashed')\n",
        "plt.plot(stat_data['chil'].index, coefs['chil'][0,:])\n",
        "plt.xlabel(\"Date\", fontsize=15)\n",
        "plt.ylabel(\"Slope (North)\", fontsize=15)\n",
        "plt.xticks(fontsize=15)\n",
        "plt.yticks(fontsize=15)\n",
        "plt.tight_layout()\n",
        "plt.savefig(\"coefs.png\")\n",
        "plt.show()"
      ],
      "metadata": {
        "colab": {
          "base_uri": "https://localhost:8080/",
          "height": 297
        },
        "id": "WHXSukKWmoz3",
        "outputId": "532e7f42-946a-411d-b478-ef87d66ecc91"
      },
      "execution_count": 80,
      "outputs": [
        {
          "output_type": "display_data",
          "data": {
            "text/plain": [
              "<Figure size 432x288 with 1 Axes>"
            ],
            "image/png": "[encoded data removed]"
          },
          "metadata": {
            "needs_background": "light"
          }
        }
      ]
    },
    {
      "cell_type": "code",
      "source": [
        "piece = download_catalog_hauksson()"
      ],
      "metadata": {
        "id": "fJSC5qkY7g6R"
      },
      "execution_count": 14,
      "outputs": []
    },
    {
      "cell_type": "code",
      "source": [
        "plt.scatter(piece.index, piece[\"m\"], color='none', edgecolor='black')\n",
        "plt.xlabel(\"Date\", fontsize=15)\n",
        "plt.ylabel(\"Magnitude\", fontsize=15)\n",
        "plt.xticks(fontsize=15)\n",
        "plt.yticks(fontsize=15)\n",
        "plt.tight_layout()\n",
        "plt.savefig(\"magn.png\")\n",
        "plt.show()"
      ],
      "metadata": {
        "colab": {
          "base_uri": "https://localhost:8080/",
          "height": 297
        },
        "id": "jLdo4nnD7nNp",
        "outputId": "c8a9992d-ca6b-48fc-e955-2730abae4484"
      },
      "execution_count": 22,
      "outputs": [
        {
          "output_type": "display_data",
          "data": {
            "text/plain": [
              "<Figure size 432x288 with 1 Axes>"
            ],
            "image/png": "[encoded data removed]"
          },
          "metadata": {
            "needs_background": "light"
          }
        }
      ]
    },
    {
      "cell_type": "markdown",
      "source": [
        "# Reproduce paper"
      ],
      "metadata": {
        "id": "GwvTaFlHZIgc"
      }
    },
    {
      "cell_type": "code",
      "source": [
        "original_cat = pd.read_csv(\"https://raw.githubusercontent.com/Schimmenti/EarthquakesGPS/main/original_cat.txt\", sep=\"\\s+\", index_col=\"Date\")\n",
        "original_cat.index = pd.to_datetime(original_cat.index)"
      ],
      "metadata": {
        "id": "etWHSrNHPyuf"
      },
      "execution_count": 14,
      "outputs": []
    },
    {
      "cell_type": "code",
      "source": [
        "df2 = pd.merge(stat_data['lbc2'], stat_data['chil'], how='inner',left_index=True, right_index=True)\n",
        "df2 = df2[df2.index <= np.datetime64('2009-06-30')]\n",
        "df2[\"nr\"] = df2[\"N_y\"]-df2[\"N_x\"]\n",
        "df2[\"er\"] = df2[\"E_y\"]-df2[\"E_x\"]\n",
        "df2[\"ur\"] = df2[\"U_y\"]-df2[\"U_x\"]\n",
        "l = 10\n",
        "l_cell = 20"
      ],
      "metadata": {
        "id": "LX58VqiaZKPq"
      },
      "execution_count": 15,
      "outputs": []
    },
    {
      "cell_type": "code",
      "source": [
        "df2[\"cN\"] = moving_lin_regress(df2[\"nr\"].values, l)\n",
        "df2[\"cE\"] = moving_lin_regress(df2[\"er\"].values, l)\n",
        "df2[\"cU\"] = moving_lin_regress(df2[\"ur\"].values, l)"
      ],
      "metadata": {
        "id": "zB4eVMPjZXUH"
      },
      "execution_count": 16,
      "outputs": []
    },
    {
      "cell_type": "code",
      "source": [
        "df2[\"mN\"] = running_max_min(df2[\"cN\"].values, l)\n",
        "df2[\"mE\"] = running_max_min(df2[\"cE\"].values, l)\n",
        "df2[\"mU\"] = running_max_min(df2[\"cU\"].values, l)"
      ],
      "metadata": {
        "id": "1h25UlpXZs-n"
      },
      "execution_count": 17,
      "outputs": []
    },
    {
      "cell_type": "code",
      "source": [
        "V_day = np.sqrt(df2[\"mN\"].values**2+df2[\"mE\"].values**2)\n",
        "df2[\"V_day\"] = V_day"
      ],
      "metadata": {
        "id": "59gHN994aPre"
      },
      "execution_count": 18,
      "outputs": []
    },
    {
      "cell_type": "code",
      "source": [
        "if(len(V_day) <= l_cell):\n",
        "  V_cell = np.ones(l_cell)*np.max(V_day)\n",
        "  flag = np.zeros(len(l_cell), dtype=int)\n",
        "  flag[0] = 1\n",
        "else:\n",
        "  V_cell = np.concatenate([ np.nanmax(cell)*np.ones(len(cell)) for cell in np.split(V_day, np.arange(0, len(V_day), l_cell))[1:]])\n",
        "  flag = np.zeros(len(V_cell), dtype=int)\n",
        "  flag[np.arange(0, len(V_day), l_cell)] = 1"
      ],
      "metadata": {
        "colab": {
          "base_uri": "https://localhost:8080/"
        },
        "id": "1RvjxHDxaYsU",
        "outputId": "f60ab8aa-c7f2-43a9-d272-391293150a84"
      },
      "execution_count": 19,
      "outputs": [
        {
          "output_type": "stream",
          "name": "stderr",
          "text": [
            "/usr/local/lib/python3.7/dist-packages/ipykernel_launcher.py:6: RuntimeWarning: All-NaN slice encountered\n",
            "  \n"
          ]
        }
      ]
    },
    {
      "cell_type": "code",
      "source": [
        "df2[\"V\"] = V_cell\n",
        "df2[\"Flag\"] = flag"
      ],
      "metadata": {
        "id": "8Gjter7da-dG"
      },
      "execution_count": 20,
      "outputs": []
    },
    {
      "cell_type": "code",
      "source": [
        "stat_data['chil'][stat_data['chil'].index==datetime.datetime(2001, 1, 17)]"
      ],
      "metadata": {
        "colab": {
          "base_uri": "https://localhost:8080/",
          "height": 80
        },
        "id": "RgX-gK0aMjnr",
        "outputId": "901d4e6a-01cf-446f-a40a-fd0790de856d"
      },
      "execution_count": 214,
      "outputs": [
        {
          "output_type": "execute_result",
          "data": {
            "text/plain": [
              "                 DateI      DateD      N      E     U Tech1   dN   dE    dU  \\\n",
              "2001-01-17  20010117.0  2001.0466 -179.7  179.8 -10.8   rrr  2.8  3.1  10.8   \n",
              "\n",
              "             Tech2                                              Descr  \n",
              "2001-01-17  0.0534  Southern_California.20010117.stacov.point-2016...  "
            ],
            "text/html": [
              "\n",
              "  <div id=\"df-03c212fc-33bd-4527-83cc-679ba67bd7c6\">\n",
              "    <div class=\"colab-df-container\">\n",
              "      <div>\n",
              "<style scoped>\n",
              "    .dataframe tbody tr th:only-of-type {\n",
              "        vertical-align: middle;\n",
              "    }\n",
              "\n",
              "    .dataframe tbody tr th {\n",
              "        vertical-align: top;\n",
              "    }\n",
              "\n",
              "    .dataframe thead th {\n",
              "        text-align: right;\n",
              "    }\n",
              "</style>\n",
              "<table border=\"1\" class=\"dataframe\">\n",
              "  <thead>\n",
              "    <tr style=\"text-align: right;\">\n",
              "      <th></th>\n",
              "      <th>DateI</th>\n",
              "      <th>DateD</th>\n",
              "      <th>N</th>\n",
              "      <th>E</th>\n",
              "      <th>U</th>\n",
              "      <th>Tech1</th>\n",
              "      <th>dN</th>\n",
              "      <th>dE</th>\n",
              "      <th>dU</th>\n",
              "      <th>Tech2</th>\n",
              "      <th>Descr</th>\n",
              "    </tr>\n",
              "  </thead>\n",
              "  <tbody>\n",
              "    <tr>\n",
              "      <th>2001-01-17</th>\n",
              "      <td>20010117.0</td>\n",
              "      <td>2001.0466</td>\n",
              "      <td>-179.7</td>\n",
              "      <td>179.8</td>\n",
              "      <td>-10.8</td>\n",
              "      <td>rrr</td>\n",
              "      <td>2.8</td>\n",
              "      <td>3.1</td>\n",
              "      <td>10.8</td>\n",
              "      <td>0.0534</td>\n",
              "      <td>Southern_California.20010117.stacov.point-2016...</td>\n",
              "    </tr>\n",
              "  </tbody>\n",
              "</table>\n",
              "</div>\n",
              "      <button class=\"colab-df-convert\" onclick=\"convertToInteractive('df-03c212fc-33bd-4527-83cc-679ba67bd7c6')\"\n",
              "              title=\"Convert this dataframe to an interactive table.\"\n",
              "              style=\"display:none;\">\n",
              "        \n",
              "  <svg xmlns=\"http://www.w3.org/2000/svg\" height=\"24px\"viewBox=\"0 0 24 24\"\n",
              "       width=\"24px\">\n",
              "    <path d=\"M0 0h24v24H0V0z\" fill=\"none\"/>\n",
              "    <path d=\"M18.56 5.44l.94 2.06.94-2.06 2.06-.94-2.06-.94-.94-2.06-.94 2.06-2.06.94zm-11 1L8.5 8.5l.94-2.06 2.06-.94-2.06-.94L8.5 2.5l-.94 2.06-2.06.94zm10 10l.94 2.06.94-2.06 2.06-.94-2.06-.94-.94-2.06-.94 2.06-2.06.94z\"/><path d=\"M17.41 7.96l-1.37-1.37c-.4-.4-.92-.59-1.43-.59-.52 0-1.04.2-1.43.59L10.3 9.45l-7.72 7.72c-.78.78-.78 2.05 0 2.83L4 21.41c.39.39.9.59 1.41.59.51 0 1.02-.2 1.41-.59l7.78-7.78 2.81-2.81c.8-.78.8-2.07 0-2.86zM5.41 20L4 18.59l7.72-7.72 1.47 1.35L5.41 20z\"/>\n",
              "  </svg>\n",
              "      </button>\n",
              "      \n",
              "  <style>\n",
              "    .colab-df-container {\n",
              "      display:flex;\n",
              "      flex-wrap:wrap;\n",
              "      gap: 12px;\n",
              "    }\n",
              "\n",
              "    .colab-df-convert {\n",
              "      background-color: #E8F0FE;\n",
              "      border: none;\n",
              "      border-radius: 50%;\n",
              "      cursor: pointer;\n",
              "      display: none;\n",
              "      fill: #1967D2;\n",
              "      height: 32px;\n",
              "      padding: 0 0 0 0;\n",
              "      width: 32px;\n",
              "    }\n",
              "\n",
              "    .colab-df-convert:hover {\n",
              "      background-color: #E2EBFA;\n",
              "      box-shadow: 0px 1px 2px rgba(60, 64, 67, 0.3), 0px 1px 3px 1px rgba(60, 64, 67, 0.15);\n",
              "      fill: #174EA6;\n",
              "    }\n",
              "\n",
              "    [theme=dark] .colab-df-convert {\n",
              "      background-color: #3B4455;\n",
              "      fill: #D2E3FC;\n",
              "    }\n",
              "\n",
              "    [theme=dark] .colab-df-convert:hover {\n",
              "      background-color: #434B5C;\n",
              "      box-shadow: 0px 1px 3px 1px rgba(0, 0, 0, 0.15);\n",
              "      filter: drop-shadow(0px 1px 2px rgba(0, 0, 0, 0.3));\n",
              "      fill: #FFFFFF;\n",
              "    }\n",
              "  </style>\n",
              "\n",
              "      <script>\n",
              "        const buttonEl =\n",
              "          document.querySelector('#df-03c212fc-33bd-4527-83cc-679ba67bd7c6 button.colab-df-convert');\n",
              "        buttonEl.style.display =\n",
              "          google.colab.kernel.accessAllowed ? 'block' : 'none';\n",
              "\n",
              "        async function convertToInteractive(key) {\n",
              "          const element = document.querySelector('#df-03c212fc-33bd-4527-83cc-679ba67bd7c6');\n",
              "          const dataTable =\n",
              "            await google.colab.kernel.invokeFunction('convertToInteractive',\n",
              "                                                     [key], {});\n",
              "          if (!dataTable) return;\n",
              "\n",
              "          const docLinkHtml = 'Like what you see? Visit the ' +\n",
              "            '<a target=\"_blank\" href=https://colab.research.google.com/notebooks/data_table.ipynb>data table notebook</a>'\n",
              "            + ' to learn more about interactive tables.';\n",
              "          element.innerHTML = '';\n",
              "          dataTable['output_type'] = 'display_data';\n",
              "          await google.colab.output.renderOutput(dataTable, element);\n",
              "          const docLink = document.createElement('div');\n",
              "          docLink.innerHTML = docLinkHtml;\n",
              "          element.appendChild(docLink);\n",
              "        }\n",
              "      </script>\n",
              "    </div>\n",
              "  </div>\n",
              "  "
            ]
          },
          "metadata": {},
          "execution_count": 214
        }
      ]
    },
    {
      "cell_type": "code",
      "source": [
        "vth_probs = np.linspace(0,1,100)\n",
        "single_alarm = []\n",
        "all_vals = df2[\"V\"].values\n",
        "all_vals = all_vals[np.isfinite(all_vals)]\n",
        "all_vals = np.sort(all_vals)\n",
        "vth_indices = np.minimum(np.maximum((1-vth_probs)*len(all_vals), 0), len(all_vals)-1).astype('int')\n",
        "matched_vals = []\n",
        "for cnt, (date,row) in enumerate(original_cat.iterrows()):\n",
        "  match = df2[np.logical_and(df2.index >= date - np.timedelta64(l_cell+1,'D'),df2.index <= date  )]\n",
        "  if(not match.empty):\n",
        "     if(np.isfinite(match[\"V\"].values).all()):\n",
        "       vals = match[\"V\"].values\n",
        "       flags = match[\"Flag\"].values.astype('int')\n",
        "       flags_where = np.argwhere(flags==1).flatten()\n",
        "       if(len(flags_where) == 2):\n",
        "           prev_val =  vals[flags_where[0]]\n",
        "       else:\n",
        "           prev_val =  vals[flags_where[0]-1]\n",
        "       matched_vals.append(prev_val)\n",
        "       single_alarm.append(np.heaviside(prev_val-all_vals[vth_indices],1))\n",
        "       #if(single_alarm[-1][np.logical_and(vth_probs >= 0.6,vth_probs <= 0.8)][0] == 0):\n",
        "       #  print(date, prev_val)\n",
        "       #  match2 = df2[np.logical_and(df2.index >= date - np.timedelta64(2*l_cell+1,'D'),df2.index <= date  )]\n",
        "       #  plt.plot( match2.index.values, match2[\"N_x\"]-match2[\"N_y\"])\n",
        "       #  plt.show()\n",
        "     else:\n",
        "       print(date)\n",
        "single_alarm = np.array(single_alarm)\n",
        "matched_vals = np.array(matched_vals)"
      ],
      "metadata": {
        "id": "dwA8aSNybdOS"
      },
      "execution_count": 224,
      "outputs": []
    },
    {
      "cell_type": "code",
      "source": [
        "alarm1 = np.heaviside(matched_vals.reshape(-1,1)-all_vals[vth_indices].reshape(1,-1),1)"
      ],
      "metadata": {
        "id": "tS1dxJEqeIQj"
      },
      "execution_count": 225,
      "outputs": []
    },
    {
      "cell_type": "code",
      "source": [
        "fig, ax = plt.subplots(figsize=(10,10))\n",
        "plt.plot(vth_probs,1-alarm1.mean(axis=0))"
      ],
      "metadata": {
        "id": "MGUAULOMYNkg",
        "outputId": "9540713e-123b-4bf4-bbba-98a34f140ddb",
        "colab": {
          "base_uri": "https://localhost:8080/",
          "height": 610
        }
      },
      "execution_count": 217,
      "outputs": [
        {
          "output_type": "execute_result",
          "data": {
            "text/plain": [
              "[<matplotlib.lines.Line2D at 0x7f54ec035c90>]"
            ]
          },
          "metadata": {},
          "execution_count": 217
        },
        {
          "output_type": "display_data",
          "data": {
            "text/plain": [
              "<Figure size 720x720 with 1 Axes>"
            ],
            "image/png": "[encoded data removed]"
          },
          "metadata": {
            "needs_background": "light"
          }
        }
      ]
    },
    {
      "cell_type": "code",
      "source": [
        "fig, ax = plt.subplots(figsize=(10,10))\n",
        "plt.plot(vth_probs,alarm1.mean(axis=0)/vth_probs)"
      ],
      "metadata": {
        "colab": {
          "base_uri": "https://localhost:8080/",
          "height": 645
        },
        "id": "iMvWdnsXzXql",
        "outputId": "f493b8e3-1fa3-48ce-ac23-aa7b16ed1521"
      },
      "execution_count": 218,
      "outputs": [
        {
          "output_type": "stream",
          "name": "stderr",
          "text": [
            "/usr/local/lib/python3.7/dist-packages/ipykernel_launcher.py:2: RuntimeWarning: invalid value encountered in true_divide\n",
            "  \n"
          ]
        },
        {
          "output_type": "execute_result",
          "data": {
            "text/plain": [
              "[<matplotlib.lines.Line2D at 0x7f54ea75d790>]"
            ]
          },
          "metadata": {},
          "execution_count": 218
        },
        {
          "output_type": "display_data",
          "data": {
            "text/plain": [
              "<Figure size 720x720 with 1 Axes>"
            ],
            "image/png": "[encoded data removed]"
          },
          "metadata": {
            "needs_background": "light"
          }
        }
      ]
    },
    {
      "cell_type": "markdown",
      "source": [
        "# Station Position vs Earthquakes (depends on prev. cell)"
      ],
      "metadata": {
        "id": "UordfUwI1FaA"
      }
    },
    {
      "cell_type": "code",
      "source": [
        "vth_probs = np.linspace(0,1,50)\n",
        "single_alarms = {}\n",
        "for key in V_cells.keys():\n",
        "  print(key)\n",
        "  single_alarm = []\n",
        "  df = V_cells[key]\n",
        "  all_vals = df[\"V\"].values\n",
        "  all_vals = all_vals[np.isfinite(all_vals)]\n",
        "  all_vals = np.sort(all_vals)\n",
        "  vth_indices = np.minimum(np.maximum((1-vth_probs)*len(all_vals), 0), len(all_vals)-1).astype('int')\n",
        "  for cnt, (date,row) in enumerate(catalog_big.iterrows()):\n",
        "     match = df[np.logical_and(df.index >= date - np.timedelta64(W_cell+1,'D'),df.index <= date  )]\n",
        "     if(not match.empty):\n",
        "      if(np.isfinite(match[\"V\"].values).all()):\n",
        "          vals = match[\"V\"].values\n",
        "          flags = match[\"Flag\"].values.astype('int')\n",
        "          flags_where = np.argwhere(flags==1).flatten()\n",
        "          try:\n",
        "            if(len(flags_where) == 2):\n",
        "              prev_val =  vals[flags_where[0]]\n",
        "            else:\n",
        "              prev_val =  vals[flags_where[0]-1]\n",
        "            single_alarm.append(np.heaviside(prev_val-all_vals[vth_indices],1))\n",
        "          except:\n",
        "            print(key, date, flags)\n",
        "  single_alarm = np.array(single_alarm)\n",
        "  single_alarms[key]=single_alarm"
      ],
      "metadata": {
        "id": "34nh2bKkQ1j0"
      },
      "execution_count": null,
      "outputs": []
    },
    {
      "cell_type": "code",
      "source": [
        "position_array = np.array([station_pos[key] for key in excoefs.keys()])\n",
        "lat1 = catalog_big['lat'].values.reshape(-1,1)\n",
        "lat2 = position_array[:,0].reshape(1,-1)\n",
        "delta_long = catalog_big['long'].values.reshape(-1,1)-position_array[:,1].reshape(1,-1)\n",
        "distances_big = haversine(lat1,lat2,delta_long)\n",
        "ord_dist_big = np.argsort(distances_big, axis=1)\n",
        "lat1 = catalog_small['lat'].values.reshape(-1,1)\n",
        "delta_long = catalog_small['long'].values.reshape(-1,1)-position_array[:,1].reshape(1,-1)\n",
        "distances_small = haversine(lat1,lat2,delta_long)\n",
        "ord_dist_small = np.argsort(distances_small, axis=1)"
      ],
      "metadata": {
        "id": "O3qrEQCo1Lki"
      },
      "execution_count": null,
      "outputs": []
    },
    {
      "cell_type": "code",
      "source": [
        "#station_keys_array = np.array(list(excoefs.keys()))\n",
        "#max_distance = 1e-2\n",
        "#vth_probs = np.linspace(0,1,50)\n",
        "#single_alarms = []\n",
        "#for cnt, (date,row) in enumerate(catalog_big.iterrows()):\n",
        "#  closeness_idx = 0\n",
        "#  while(True and closeness_idx < len(ord_dist_big[cnt,:])):\n",
        "#    closest_station = station_keys_array[ord_dist_big[cnt,closeness_idx]]\n",
        "#    final_distance = distances_big[cnt,ord_dist_big[cnt,closeness_idx]]\n",
        "#    df = V_cells[closest_station]\n",
        "#    match = df[np.logical_and(df.index >= date - np.timedelta64(W_cell+1,'D'),df.index <= date  )]\n",
        "#    if(not match.empty):\n",
        "#      if(np.isfinite(match[\"V\"].values).all()):\n",
        "#          vals = match[\"V\"].values\n",
        "#          flags = match[\"Flag\"].values.astype('int')\n",
        "#          flags_where = np.argwhere(flags==1).flatten()\n",
        "#          if(len(flags_where) == 2):\n",
        "#            prev_val =  vals[flags_where[0]]\n",
        "#          else:\n",
        "#            prev_val =  vals[flags_where[0]-1]\n",
        "#          all_vals = df[\"V\"].values\n",
        "#          all_vals = all_vals[np.isfinite(all_vals)]\n",
        "#          all_vals = np.sort(all_vals)\n",
        "#          vth_indices = np.minimum(np.maximum((1-vth_probs)*len(all_vals), 0), len(all_vals)-1).astype('int')\n",
        "#          single_alarms.append(np.heaviside(prev_val-all_vals[vth_indices],1))\n",
        "#          break\n",
        "#      else:\n",
        "#        closeness_idx += 1\n",
        "#    else:\n",
        "#      closeness_idx += 1\n",
        "#single_alarms = np.array(single_alarms)"
      ],
      "metadata": {
        "id": "hxdIHacE4QW_"
      },
      "execution_count": null,
      "outputs": []
    },
    {
      "cell_type": "markdown",
      "source": [
        "# Clustering"
      ],
      "metadata": {
        "id": "dIxll8YzQdsa"
      }
    },
    {
      "cell_type": "code",
      "source": [
        "position_array = np.array([station_pos[key] for key in V_cells.keys()])\n",
        "pos_rads = position_array*np.pi/180\n",
        "pos_tree = BallTree(pos_rads, metric=\"haversine\")\n",
        "distance_threshold = 1e-2"
      ],
      "metadata": {
        "id": "PVim0HoEQftA"
      },
      "execution_count": 26,
      "outputs": []
    },
    {
      "cell_type": "code",
      "source": [
        "clusters = {}\n",
        "s_keys = np.array(list(V_cells.keys()))\n",
        "for idx in range(0,len(pos_rads)):\n",
        "  query_res = pos_tree.query_radius(pos_rads[idx:idx+1],distance_threshold )[0]\n",
        "  clusters[s_keys[idx]] = list(s_keys[query_res])"
      ],
      "metadata": {
        "id": "2VSxpBpFXIwq"
      },
      "execution_count": 27,
      "outputs": []
    },
    {
      "cell_type": "markdown",
      "source": [
        "# Improve paper"
      ],
      "metadata": {
        "id": "Lsyja5WK4_fX"
      }
    },
    {
      "cell_type": "code",
      "source": [
        "vth_probs = np.linspace(0,1,100)\n",
        "result = []\n",
        "true_alarm = []\n",
        "for cnt, (date,row) in enumerate(original_cat.iterrows()):\n",
        "  dist_idxs = np.argsort(haversine(row[\"lat\"], position_array[:,0], row[\"long\"]-position_array[:,1]))\n",
        "  closest_idx = 0\n",
        "  full_alarm = []\n",
        "  while(True and closest_idx < len(dist_idxs)):\n",
        "    key = s_keys[dist_idxs[closest_idx]]\n",
        "    at_least_one = 0\n",
        "    alarm = []\n",
        "    for candidate_key in clusters[key]:\n",
        "      df = V_cells[candidate_key]\n",
        "      match = df[np.logical_and(df.index >= date - np.timedelta64(W_cell+1,'D'),df.index <= date  )]\n",
        "      if(not match.empty and (np.isfinite(match[\"V\"].values)).any()):\n",
        "        all_vals = V_cells[candidate_key]\n",
        "        all_vals = all_vals[all_vals[\"Flag\"] == 1][\"V\"].values\n",
        "        all_vals = np.sort(all_vals[np.isfinite(all_vals)])\n",
        "        vth_indices = np.minimum(np.maximum((1-vth_probs)*len(all_vals), 0), len(all_vals)-1).astype('int')\n",
        "        vals = match[\"V\"].values\n",
        "        flags = match[\"Flag\"].values.astype('int')\n",
        "        flags_where = np.argwhere(flags==1).flatten()\n",
        "        if(len(flags_where) == 2):\n",
        "              prev_val =  vals[flags_where[0]]\n",
        "        else:\n",
        "              prev_val =  vals[flags_where[0]-1]\n",
        "        if(np.isfinite(prev_val)):\n",
        "            at_least_one += 1\n",
        "            alarm.append(np.heaviside(prev_val-all_vals[vth_indices],1))            \n",
        "    if(at_least_one > 0):\n",
        "      alarm = np.array(alarm)\n",
        "      result.append(np.heaviside(alarm.sum(axis=0),0))\n",
        "      print(closest_idx,at_least_one, date, key, len(clusters[key]))\n",
        "      break\n",
        "    else:\n",
        "      closest_idx += 1\n",
        "result = np.array(result)"
      ],
      "metadata": {
        "id": "B2gTxm5--g3C",
        "colab": {
          "base_uri": "https://localhost:8080/"
        },
        "outputId": "f3ede6e9-ccde-4759-d412-e6d3f935fe02"
      },
      "execution_count": 231,
      "outputs": [
        {
          "output_type": "stream",
          "name": "stdout",
          "text": [
            "0 1 1999-01-27 00:00:00 arm2 18\n",
            "0 9 1999-05-14 00:00:00 ctms 46\n",
            "0 4 1999-10-16 00:00:00 oprd 31\n",
            "0 5 1999-10-16 00:00:00 opcl 38\n",
            "0 3 1999-10-16 00:00:00 p795 28\n",
            "0 2 1999-10-16 00:00:00 ldsw 27\n",
            "0 2 1999-10-16 00:00:00 hcmn 26\n",
            "0 4 1999-10-16 00:00:00 opcp 33\n",
            "0 5 1999-10-16 00:00:00 opcl 38\n",
            "0 2 1999-10-21 00:00:00 cdmt 23\n",
            "0 2 1999-10-21 00:00:00 cdmt 23\n",
            "0 2 1999-10-21 00:00:00 cdmt 23\n",
            "0 2 1999-10-22 00:00:00 cdmt 23\n",
            "0 16 2001-02-10 00:00:00 bbry 48\n",
            "0 1 2001-07-17 00:00:00 coso 5\n",
            "0 1 2001-07-17 00:00:00 coso 5\n",
            "0 15 2001-10-31 00:00:00 p742 58\n",
            "0 63 2002-09-03 00:00:00 twms 114\n",
            "0 14 2002-10-29 00:00:00 cdmt 23\n",
            "0 22 2003-02-22 00:00:00 bbry 48\n",
            "0 7 2004-09-29 00:00:00 arm1 18\n",
            "0 20 2005-06-12 00:00:00 p797 55\n",
            "0 23 2005-06-16 00:00:00 fhog 51\n",
            "0 6 2005-09-22 00:00:00 arm2 18\n",
            "0 71 2007-08-09 00:00:00 oat2 97\n",
            "0 48 2007-09-02 00:00:00 mjpk 83\n",
            "0 78 2008-07-29 00:00:00 twms 114\n",
            "0 21 2008-12-06 00:00:00 hcmn 26\n",
            "1 71 2009-05-18 00:00:00 lasc 96\n",
            "1 1 2009-05-23 00:00:00 p006 1\n"
          ]
        }
      ]
    },
    {
      "cell_type": "code",
      "source": [
        "original_curve = np.array([(0,1),(0.1,1),(0.2,0.686),(0.3, 0.57),(0.349,0.5),(0.394,0.460),(0.4,0.376),(0.498,0.186),(0.498,0.125), (0.523,0.125),(0.523,0.0625),  (0.534, 0.0625),(0.608, 0.0625), (0.608, 0), (0.8, 0),(1.0, 0)])"
      ],
      "metadata": {
        "id": "YYl_t-cc3GY0"
      },
      "execution_count": 161,
      "outputs": []
    },
    {
      "cell_type": "code",
      "source": [
        "plt.plot(partial_result.mean(axis=0), 1-result.mean(axis=0), lw=3)\n",
        "plt.plot(vth_probs, 1-result.mean(axis=0), lw=3)\n",
        "plt.plot(vth_probs, 1-alarm1.mean(axis=0), lw=3)\n",
        "plt.plot(vth_probs,1-vth_probs, color='black', ls='dashed', lw=3)\n",
        "plt.plot(original_curve[:,0],original_curve[:,1], lw=3)\n",
        "plt.xlabel(\"Proportion of alarmed cells\", fontsize=15)\n",
        "plt.ylabel(\"Proportion of missed earthquakes\")\n",
        "plt.savefig(\"res.png\")\n",
        "plt.show()"
      ],
      "metadata": {
        "colab": {
          "base_uri": "https://localhost:8080/",
          "height": 284
        },
        "id": "Qyc91Ik_EOLf",
        "outputId": "10cf56af-75d1-46bb-99bb-10e790975da9"
      },
      "execution_count": 234,
      "outputs": [
        {
          "output_type": "display_data",
          "data": {
            "text/plain": [
              "<Figure size 432x288 with 1 Axes>"
            ],
            "image/png": "[encoded data removed]"
          },
          "metadata": {
            "needs_background": "light"
          }
        }
      ]
    },
    {
      "cell_type": "code",
      "source": [
        "plt.plot(vth_probs,result.mean(axis=0)/vth_probs )\n",
        "plt.plot(vth_probs,alarm1.mean(axis=0)/vth_probs )"
      ],
      "metadata": {
        "colab": {
          "base_uri": "https://localhost:8080/",
          "height": 354
        },
        "id": "mi3IhtQGR37v",
        "outputId": "cee27fe0-4647-4e56-e908-fbbd1b3c38fa"
      },
      "execution_count": 226,
      "outputs": [
        {
          "output_type": "stream",
          "name": "stderr",
          "text": [
            "/usr/local/lib/python3.7/dist-packages/ipykernel_launcher.py:1: RuntimeWarning: divide by zero encountered in true_divide\n",
            "  \"\"\"Entry point for launching an IPython kernel.\n",
            "/usr/local/lib/python3.7/dist-packages/ipykernel_launcher.py:2: RuntimeWarning: invalid value encountered in true_divide\n",
            "  \n"
          ]
        },
        {
          "output_type": "execute_result",
          "data": {
            "text/plain": [
              "[<matplotlib.lines.Line2D at 0x7f54ecf30c50>]"
            ]
          },
          "metadata": {},
          "execution_count": 226
        },
        {
          "output_type": "display_data",
          "data": {
            "text/plain": [
              "<Figure size 432x288 with 1 Axes>"
            ],
            "image/png": "[encoded data removed]"
          },
          "metadata": {
            "needs_background": "light"
          }
        }
      ]
    },
    {
      "cell_type": "markdown",
      "source": [
        "# Alert probability"
      ],
      "metadata": {
        "id": "3AzznL9GQIpT"
      }
    },
    {
      "cell_type": "code",
      "source": [
        "vth_probs = np.linspace(0,1,50)\n",
        "earthquake_cnt = 0\n",
        "alarm = np.zeros_like(vth_probs)\n",
        "station_keys_array = np.array(list(clusters.keys()))\n",
        "for cnt, (date,row) in enumerate(earthquakes.iterrows()):\n",
        "    closeness_idx = 0\n",
        "    earthquake_alarm = np.zeros_like(vth_probs)\n",
        "    n_matches = 0\n",
        "    while(True and closeness_idx < len(closest_station_idx[cnt,:])):\n",
        "      closest_station = station_keys_array[closest_station_idx[cnt,closeness_idx]]\n",
        "      final_distance = distances[cnt,closest_station_idx[cnt,closeness_idx]]\n",
        "      if(final_distance <= distance_threshold):\n",
        "        for key in clusters[closest_station]:\n",
        "          match = V_ws[key][V_ws[key].index==date-np.timedelta64(1,'D')]\n",
        "\n",
        "          if((not match.empty) and np.isfinite(match[\"V\"].values).all()):          \n",
        "            V_wind = V_ws[key][\"V\"].values\n",
        "            V_wind = np.sort(V_wind[np.isfinite(V_wind)])\n",
        "            vth_indices = np.minimum(np.maximum((1-vth_probs)*len(V_wind), 0), len(V_wind)-1).astype('int')\n",
        "            vth = V_wind[vth_indices]\n",
        "            earthquake_alarm += np.heaviside(match[\"V\"].values.flatten()-vth,1)\n",
        "            n_matches += 1\n",
        "            \n",
        "              \n",
        "      if(n_matches > 0):\n",
        "        earthquake_cnt += 1\n",
        "        alarm += np.heaviside(earthquake_alarm,0)\n",
        "        break\n",
        "      else:\n",
        "        closeness_idx+=1\n",
        "alarm /= earthquake_cnt"
      ],
      "metadata": {
        "id": "muNCkZISeK6g"
      },
      "execution_count": null,
      "outputs": []
    },
    {
      "cell_type": "code",
      "source": [
        "vth_probs = np.linspace(0,1,50)\n",
        "earthquake_cnt = 0\n",
        "single_alarm = np.zeros_like(vth_probs)\n",
        "station_keys_array = np.array(list(clusters.keys()))\n",
        "dist_from_signal = []\n",
        "for cnt, (date,row) in enumerate(earthquakes.iterrows()):\n",
        "    closeness_idx = 0\n",
        "    earthquake_alarm = np.zeros_like(vth_probs)\n",
        "    found_station = False\n",
        "    while(True and closeness_idx < len(closest_station_idx[cnt,:])):\n",
        "      closest_station = station_keys_array[closest_station_idx[cnt,closeness_idx]]\n",
        "      match = V_ws[closest_station][V_ws[closest_station].index==date-np.timedelta64(1,'D')]\n",
        "      if((not match.empty) and np.isfinite(match[\"V\"].values).all()):          \n",
        "        V_wind = V_ws[closest_station][\"V\"].values\n",
        "        V_wind = np.sort(V_wind[np.isfinite(V_wind)])\n",
        "        vth_indices = np.minimum(np.maximum((1-vth_probs)*len(V_wind), 0), len(V_wind)-1).astype('int')\n",
        "        vth = V_wind[vth_indices]\n",
        "        single_alarm += np.heaviside(match[\"V\"].values.flatten()-vth,1)\n",
        "        found_station = True    \n",
        "      if(found_station):\n",
        "        dist_from_signal.append(distances[cnt,closest_station_idx[cnt,closeness_idx]])\n",
        "        earthquake_cnt += 1\n",
        "        break\n",
        "      else:\n",
        "        closeness_idx+=1\n",
        "single_alarm /= earthquake_cnt\n",
        "dist_from_signal = np.array(dist_from_signal)"
      ],
      "metadata": {
        "id": "shJ4LHtKto-b"
      },
      "execution_count": null,
      "outputs": []
    },
    {
      "cell_type": "code",
      "source": [
        "plt.plot(vth_probs,1-alarm)\n",
        "plt.plot(vth_probs,1-single_alarm)\n",
        "plt.plot(vth_probs, 1-vth_probs)"
      ],
      "metadata": {
        "colab": {
          "base_uri": "https://localhost:8080/",
          "height": 283
        },
        "id": "zR-qXDckRKQZ",
        "outputId": "b835160c-ac8e-438a-ef2e-25f639283ddb"
      },
      "execution_count": null,
      "outputs": [
        {
          "output_type": "execute_result",
          "data": {
            "text/plain": [
              "[<matplotlib.lines.Line2D at 0x7fd6d7aeda50>]"
            ]
          },
          "metadata": {},
          "execution_count": 64
        },
        {
          "output_type": "display_data",
          "data": {
            "text/plain": [
              "<Figure size 432x288 with 1 Axes>"
            ],
            "image/png": "[encoded data removed]"
          },
          "metadata": {
            "needs_background": "light"
          }
        }
      ]
    },
    {
      "cell_type": "markdown",
      "source": [
        "# Classification"
      ],
      "metadata": {
        "id": "8PAHSjPKI8WM"
      }
    },
    {
      "cell_type": "code",
      "source": [
        "vth_posterior = {}\n",
        "vth_probs = np.linspace(0,1,15)\n",
        "for key in excoefs.keys():\n",
        "  V = np.sqrt(np.sum(excoefs[key][:2,:]**2,axis=0))\n",
        "  V_windowed = max_filter1d_valid(V, W)\n",
        "  V_windowed = V_windowed[np.isfinite(V_windowed)]\n",
        "  if(len(V_windowed)>0):\n",
        "    vth_indices = np.maximum(np.minimum(((1-vth_probs)*len(V_windowed)).astype('int'), len(V_windowed)-1), 0)\n",
        "    vth_posterior[key] = V_windowed[vth_indices]\n",
        "  else:\n",
        "    vth_posterior[key] = np.ones(len(vth_probs))*np.nan"
      ],
      "metadata": {
        "id": "B8Hg1IQ7aTuD"
      },
      "execution_count": null,
      "outputs": []
    },
    {
      "cell_type": "code",
      "source": [
        "threshold_dist = 5e-2\n",
        "res = []\n",
        "for cnt, (date,row) in enumerate(earthquakes.iterrows()):\n",
        "  alerts = np.zeros_like(vth_probs)\n",
        "  matches = np.zeros_like(vth_probs)\n",
        "  for cnt2, key in enumerate(excoefs.keys()):\n",
        "     dist = distances[cnt,cnt2]\n",
        "     if(dist <= threshold_dist):\n",
        "       match = np.argwhere(stat_data[key].index==date).flatten()\n",
        "       if(len(match)>0):\n",
        "         match = match[0]\n",
        "         matches += 1\n",
        "         v_matched = np.sqrt(np.sum(excoefs[key][:,match-W:match][:2,:]**2,axis=0))\n",
        "         v_matched = v_matched[np.isfinite(v_matched)]\n",
        "         if(len(v_matched) > 0):\n",
        "           v = np.max(v_matched)\n",
        "           alerts += (v >= vth_posterior[key])\n",
        "  res.append(alerts/matches)\n",
        "res = np.array(res)\n",
        "res = res[np.isfinite(res)].reshape(-1,res.shape[1])"
      ],
      "metadata": {
        "colab": {
          "base_uri": "https://localhost:8080/"
        },
        "id": "7HlAcg0BAnqn",
        "outputId": "3f658417-66bc-4b53-d594-d1327b0c1390"
      },
      "execution_count": null,
      "outputs": [
        {
          "output_type": "stream",
          "name": "stderr",
          "text": [
            "/usr/local/lib/python3.7/dist-packages/ipykernel_launcher.py:18: RuntimeWarning: invalid value encountered in true_divide\n"
          ]
        }
      ]
    },
    {
      "cell_type": "code",
      "source": [
        "for idx in range(1, len(vth_probs), 3):\n",
        "  signaled = (res[:, idx].reshape(-1,1) >= np.linspace(0,1).reshape(1,-1)).mean(axis=0)\n",
        "  plt.plot(np.linspace(0,1), signaled, label=\"%f\" % vth_probs[idx])\n",
        "plt.xlabel(\"$p_{\\\\rm min}$ alarm\")\n",
        "plt.legend()\n",
        "plt.show()"
      ],
      "metadata": {
        "colab": {
          "base_uri": "https://localhost:8080/",
          "height": 283
        },
        "id": "FlrhytPIJMs_",
        "outputId": "2e2e4cb4-f0b6-418f-cb0e-4308e971f3bb"
      },
      "execution_count": null,
      "outputs": [
        {
          "output_type": "display_data",
          "data": {
            "text/plain": [
              "<Figure size 432x288 with 1 Axes>"
            ],
            "image/png": "[encoded data removed]"
          },
          "metadata": {
            "needs_background": "light"
          }
        }
      ]
    },
    {
      "cell_type": "code",
      "source": [
        "threshold_dist = 1e-2\n",
        "probs = [0.05,0.1,0.2,0.3,0.4,0.5,0.6,0.7,0.8,0.9,0.95]\n",
        "res = []\n",
        "for v_th_prob in probs:\n",
        "  v_thresholds = {}\n",
        "  for key in excoefs.keys():\n",
        "    V = np.sqrt(np.sum(excoefs[key][:2,:]**2,axis=0))\n",
        "    V = V[np.isfinite(V)]\n",
        "    V = np.sort(V)\n",
        "    v_th_idx = int(len(V)*(1-v_th_prob))\n",
        "    if(len(V) == 0):\n",
        "      v_thresholds[key] = np.infty\n",
        "    else:\n",
        "      v_thresholds[key] = V[v_th_idx]\n",
        "    #plt.plot(V,np.linspace(0,1,len(V)))\n",
        "    #plt.vlines(v_thresholds[key],0,1)\n",
        "    #plt.xscale('log')\n",
        "    #plt.show()\n",
        "    #break\n",
        "  signal_prob = []\n",
        "  signal_magn = []\n",
        "  for cnt, (date,row) in enumerate(earthquakes.iterrows()):\n",
        "    match_cnt = 0\n",
        "    alert_cnt = 0\n",
        "    for cnt2, key in enumerate(excoefs.keys()):\n",
        "       dist = distances[cnt,cnt2]\n",
        "       if(dist <= threshold_dist):\n",
        "         match = np.argwhere(stat_data[key].index==date).flatten()\n",
        "         if(len(match)>0):\n",
        "           match = match[0]\n",
        "           v_matched = np.sqrt(np.sum(excoefs[key][:,match-W:match][:2,:]**2,axis=0))\n",
        "           v_matched = v_matched[np.isfinite(v_matched)]\n",
        "           if(len(v_matched) == W):\n",
        "             match_cnt += 1\n",
        "             if(np.max(v_matched) >= v_thresholds[key]):\n",
        "               alert_cnt += 1\n",
        "    if(match_cnt > 0):\n",
        "      signal_prob.append(alert_cnt/match_cnt)\n",
        "      signal_magn.append(row[\"m\"])\n",
        "  res.append( np.array(signal_prob) )\n",
        "res = np.array(res)"
      ],
      "metadata": {
        "id": "eN2_zBLiHOKl"
      },
      "execution_count": null,
      "outputs": []
    },
    {
      "cell_type": "code",
      "source": [
        "cuts = (res[:,np.newaxis,:]>np.linspace(0,1,20).reshape(1,-1,1)).astype('int')"
      ],
      "metadata": {
        "id": "4weVoDTvuS0w"
      },
      "execution_count": null,
      "outputs": []
    },
    {
      "cell_type": "code",
      "source": [
        "plt.plot(probs, 1-cuts[:,5,:].mean(axis=-1))\n",
        "plt.plot(probs, 1-cuts[:,10,:].mean(axis=-1))\n",
        "plt.plot(probs, 1-cuts[:,15,:].mean(axis=-1))\n",
        "plt.plot(probs,1-np.array(probs), ls='dashed', c='black')\n",
        "plt.show()"
      ],
      "metadata": {
        "colab": {
          "base_uri": "https://localhost:8080/",
          "height": 268
        },
        "id": "QcQfpfjxvy2r",
        "outputId": "52297ba9-2d43-4fea-ef7e-92a506dc5660"
      },
      "execution_count": null,
      "outputs": [
        {
          "output_type": "display_data",
          "data": {
            "text/plain": [
              "<Figure size 432x288 with 1 Axes>"
            ],
            "image/png": "[encoded data removed]"
          },
          "metadata": {
            "needs_background": "light"
          }
        }
      ]
    },
    {
      "cell_type": "code",
      "source": [
        "non_signaled = 1-cuts.sum(axis=2)/cuts.shape[2]"
      ],
      "metadata": {
        "id": "aY2-3rn-uv5-"
      },
      "execution_count": null,
      "outputs": []
    },
    {
      "cell_type": "code",
      "source": [
        "non_signaled.shape"
      ],
      "metadata": {
        "colab": {
          "base_uri": "https://localhost:8080/"
        },
        "id": "Lbabj8c_u9YE",
        "outputId": "6ca69dde-99f4-43f3-cbb4-7fe28e31c999"
      },
      "execution_count": null,
      "outputs": [
        {
          "output_type": "execute_result",
          "data": {
            "text/plain": [
              "(11, 20)"
            ]
          },
          "metadata": {},
          "execution_count": 114
        }
      ]
    },
    {
      "cell_type": "markdown",
      "source": [
        "# Pytorch"
      ],
      "metadata": {
        "id": "BPv6R-4DSGVM"
      }
    },
    {
      "cell_type": "code",
      "source": [
        "T_seq = 10\n",
        "delta_days = np.timedelta64(T_seq, 'D')\n",
        "max_distance = 5e-3\n",
        "dataset = []\n",
        "for cnt, (date,row) in enumerate(earthquakes.iterrows()):\n",
        "  for key in stat_data.keys():\n",
        "    pos = station_pos[key]\n",
        "    dist = haversine(pos[0], row[\"lat\"], pos[1]-row[\"long\"])\n",
        "    if(dist <= max_distance):\n",
        "      match = stat_data[key][np.logical_and(stat_data[key].index < date,stat_data[key].index >= date - delta_days )]\n",
        "      if((not match.empty) and (np.isfinite(match[\"N\"]).all())):\n",
        "        match = match[[\"N\",\"E\",\"U\"]]\n",
        "        if(match.shape[0] < T_seq):\n",
        "          continue\n",
        "        else:\n",
        "          match = match.values[np.newaxis,...]\n",
        "          dataset.append(match)                              \n",
        "dataset = np.transpose(np.concatenate(dataset, axis=0),axes=(0,2,1))\n",
        "with open(\"dset_false_T=%i_dist=%f.pkl\" % (T_seq, max_distance), \"wb\") as handle:\n",
        "  pkl.dump(dataset, handle)"
      ],
      "metadata": {
        "id": "XucxNRJFSIRs",
        "colab": {
          "base_uri": "https://localhost:8080/",
          "height": 240
        },
        "outputId": "64d20c4c-18a9-4023-d6a6-0a241d36328d"
      },
      "execution_count": null,
      "outputs": [
        {
          "output_type": "error",
          "ename": "NameError",
          "evalue": "ignored",
          "traceback": [
            "\u001b[0;31m---------------------------------------------------------------------------\u001b[0m",
            "\u001b[0;31mNameError\u001b[0m                                 Traceback (most recent call last)",
            "\u001b[0;32m<ipython-input-3-44b3a67c0079>\u001b[0m in \u001b[0;36m<module>\u001b[0;34m()\u001b[0m\n\u001b[1;32m      3\u001b[0m \u001b[0mmax_distance\u001b[0m \u001b[0;34m=\u001b[0m \u001b[0;36m5e-3\u001b[0m\u001b[0;34m\u001b[0m\u001b[0;34m\u001b[0m\u001b[0m\n\u001b[1;32m      4\u001b[0m \u001b[0mdataset\u001b[0m \u001b[0;34m=\u001b[0m \u001b[0;34m[\u001b[0m\u001b[0;34m]\u001b[0m\u001b[0;34m\u001b[0m\u001b[0;34m\u001b[0m\u001b[0m\n\u001b[0;32m----> 5\u001b[0;31m \u001b[0;32mfor\u001b[0m \u001b[0mcnt\u001b[0m\u001b[0;34m,\u001b[0m \u001b[0;34m(\u001b[0m\u001b[0mdate\u001b[0m\u001b[0;34m,\u001b[0m\u001b[0mrow\u001b[0m\u001b[0;34m)\u001b[0m \u001b[0;32min\u001b[0m \u001b[0menumerate\u001b[0m\u001b[0;34m(\u001b[0m\u001b[0mearthquakes\u001b[0m\u001b[0;34m.\u001b[0m\u001b[0miterrows\u001b[0m\u001b[0;34m(\u001b[0m\u001b[0;34m)\u001b[0m\u001b[0;34m)\u001b[0m\u001b[0;34m:\u001b[0m\u001b[0;34m\u001b[0m\u001b[0;34m\u001b[0m\u001b[0m\n\u001b[0m\u001b[1;32m      6\u001b[0m   \u001b[0;32mfor\u001b[0m \u001b[0mkey\u001b[0m \u001b[0;32min\u001b[0m \u001b[0mstat_data\u001b[0m\u001b[0;34m.\u001b[0m\u001b[0mkeys\u001b[0m\u001b[0;34m(\u001b[0m\u001b[0;34m)\u001b[0m\u001b[0;34m:\u001b[0m\u001b[0;34m\u001b[0m\u001b[0;34m\u001b[0m\u001b[0m\n\u001b[1;32m      7\u001b[0m     \u001b[0mpos\u001b[0m \u001b[0;34m=\u001b[0m \u001b[0mstation_pos\u001b[0m\u001b[0;34m[\u001b[0m\u001b[0mkey\u001b[0m\u001b[0;34m]\u001b[0m\u001b[0;34m\u001b[0m\u001b[0;34m\u001b[0m\u001b[0m\n",
            "\u001b[0;31mNameError\u001b[0m: name 'earthquakes' is not defined"
          ]
        }
      ]
    },
    {
      "cell_type": "code",
      "source": [
        "with open(\"drive/MyDrive/Colab Notebooks/dset_false_T=%i_dist=%f.pkl\" % (T_seq, max_distance), \"rb\") as handle:\n",
        "  d_false = pkl.load(handle)\n",
        "with open(\"drive/MyDrive/Colab Notebooks/dset_true_T=%i_dist=%f.pkl\" % (T_seq, max_distance), \"rb\") as handle:\n",
        "  d_true = pkl.load(handle)"
      ],
      "metadata": {
        "id": "0kFkEizDcpTm"
      },
      "execution_count": null,
      "outputs": []
    },
    {
      "cell_type": "code",
      "source": [
        "data = np.concatenate([d_false, d_true], axis=0)\n",
        "labels = np.concatenate([np.zeros(d_false.shape[0],dtype=int), np.ones(d_true.shape[0], dtype=int)])"
      ],
      "metadata": {
        "id": "mhwcGsNvdY1n"
      },
      "execution_count": null,
      "outputs": []
    },
    {
      "cell_type": "code",
      "source": [
        "from sklearn.model_selection import train_test_split\n",
        "\n",
        "train_indices, test_indices = train_test_split(np.arange(labels.shape[0]), train_size=0.7, stratify=labels, shuffle=True)"
      ],
      "metadata": {
        "id": "IdkaaGPakr9F"
      },
      "execution_count": null,
      "outputs": []
    },
    {
      "cell_type": "code",
      "source": [
        "x_train, x_test = torch.FloatTensor(data[train_indices]), torch.FloatTensor(data[test_indices])\n",
        "y_train, y_test = torch.LongTensor(labels[train_indices]), torch.LongTensor(labels[test_indices])"
      ],
      "metadata": {
        "id": "Wq7YjPetlfMw"
      },
      "execution_count": null,
      "outputs": []
    },
    {
      "cell_type": "code",
      "source": [
        "import torch\n",
        "import torch.nn as nn\n",
        "import torch.nn.functional as F\n",
        "import torch.optim as optim\n",
        "\n",
        "\n",
        "class gpsnet(nn.Module):\n",
        "    def __init__(self, T_seq):\n",
        "        super().__init__()\n",
        "        self.T_seq = T_seq\n",
        "        self.conv1 = nn.Conv1d(3, 32, 3) #output is T_seq - 2\n",
        "        self.conv1_sz = ((self.T_seq+2*0-1*(3-1)-1)//1+1)\n",
        "        self.bnorm1 = nn.BatchNorm1d(32)\n",
        "        self.conv2 = nn.Conv1d(32, 64, 3)\n",
        "        self.bnorm2 = nn.BatchNorm1d(64)\n",
        "        self.conv2_sz = ((self.conv1_sz+2*0-1*(3-1)-1)//1+1)\n",
        "        self.fc1 = nn.Linear(64*self.conv2_sz, 128)\n",
        "        self.fc2 = nn.Linear(128, 64)\n",
        "        self.fc3 = nn.Linear(64, 1)\n",
        "\n",
        "    def forward(self, x):\n",
        "        x = self.conv1(x)\n",
        "        x = self.bnorm1(F.relu(x))\n",
        "        x = self.conv2(x)\n",
        "        x = self.bnorm2(F.relu(x))\n",
        "        x = torch.flatten(x, 1)\n",
        "        x = F.relu(self.fc1(x))\n",
        "        x = F.relu(self.fc2(x))\n",
        "        x = self.fc3(x)\n",
        "        return torch.sigmoid(x)"
      ],
      "metadata": {
        "id": "JxSqagm4V4_S"
      },
      "execution_count": null,
      "outputs": []
    },
    {
      "cell_type": "code",
      "source": [
        "net = gpsnet(T_seq)\n",
        "batch_size = 10\n",
        "weight1 = y_train.sum()/len(y_train)\n",
        "criterion = nn.BCELoss()\n",
        "optimizer = optim.SGD(net.parameters(), lr=0.0001, momentum=0.9)\n",
        "hist = []\n",
        "for epoch in range(2000):  # loop over the dataset multiple times\n",
        "    for i in range(0, x_train.size(0), batch_size):\n",
        "        # get the inputs; data is a list of [inputs, labels]\n",
        "        endpt = min(i+batch_size, x_train.size(0))\n",
        "        inputs, ground_tr = x_train[i:endpt], y_train[i:endpt].to(torch.float32)\n",
        "        #weight = torch.zeros(batch_size)\n",
        "        #weight[ground_tr[:,0]==1] = (1-weight1)/batch_size\n",
        "        #weight[ground_tr[:,0]==0] = weight1/batch_size\n",
        "        #criterion.weight=weight\n",
        "        # zero the parameter gradients\n",
        "        optimizer.zero_grad()\n",
        "\n",
        "        # forward + backward + optimize\n",
        "        outputs = net(inputs)\n",
        "        loss = criterion(outputs.squeeze(1), ground_tr)\n",
        "        loss.backward()\n",
        "        optimizer.step()\n",
        "\n",
        "        if i % 1 == 0: \n",
        "            hist.append(loss.item())\n",
        "\n",
        "print('Finished Training')"
      ],
      "metadata": {
        "colab": {
          "base_uri": "https://localhost:8080/"
        },
        "id": "Rt8KHl9se3Pr",
        "outputId": "e081f38b-7415-4d8a-f250-17935bc96b18"
      },
      "execution_count": null,
      "outputs": [
        {
          "output_type": "stream",
          "name": "stdout",
          "text": [
            "Finished Training\n"
          ]
        }
      ]
    },
    {
      "cell_type": "code",
      "source": [
        "with torch.no_grad():\n",
        "  res = net(x_train)\n",
        "  print(criterion(res.squeeze(1), y_train.to(torch.float32)))\n",
        "  #res = net(x_train)\n",
        "  #print(criterion(res, y_train.view(-1,1).to(torch.float32)))"
      ],
      "metadata": {
        "colab": {
          "base_uri": "https://localhost:8080/"
        },
        "id": "rFLmW92zonGV",
        "outputId": "d04da8d3-3d78-4b8f-a71b-a3337086ff94"
      },
      "execution_count": null,
      "outputs": [
        {
          "output_type": "stream",
          "name": "stdout",
          "text": [
            "tensor(0.4853)\n"
          ]
        }
      ]
    },
    {
      "cell_type": "code",
      "source": [
        "plt.plot(hist)"
      ],
      "metadata": {
        "id": "QofKhBNc1uTp",
        "outputId": "167e0e07-2739-4e12-9b8e-b1fd3e3a31fc",
        "colab": {
          "base_uri": "https://localhost:8080/",
          "height": 283
        }
      },
      "execution_count": null,
      "outputs": [
        {
          "output_type": "execute_result",
          "data": {
            "text/plain": [
              "[<matplotlib.lines.Line2D at 0x7f0494880090>]"
            ]
          },
          "metadata": {},
          "execution_count": 519
        },
        {
          "output_type": "display_data",
          "data": {
            "text/plain": [
              "<Figure size 432x288 with 1 Axes>"
            ],
            "image/png": "[encoded data removed]"
          },
          "metadata": {
            "needs_background": "light"
          }
        }
      ]
    },
    {
      "cell_type": "code",
      "source": [
        ""
      ],
      "metadata": {
        "id": "1mt5yMVq1vbo"
      },
      "execution_count": null,
      "outputs": []
    }
  ]
}