{
  "nbformat": 4,
  "nbformat_minor": 0,
  "metadata": {
    "colab": {
      "name": "Dataset.ipynb",
      "provenance": [],
      "mount_file_id": "https://github.com/Schimmenti/EarthquakesGPS/blob/main/Dataset.ipynb",
      "authorship_tag": "ABX9TyNjlOObMgsA2MXZ5/cpu+AB",
      "include_colab_link": true
    },
    "kernelspec": {
      "name": "python3",
      "display_name": "Python 3"
    },
    "language_info": {
      "name": "python"
    }
  },
  "cells": [
    {
      "cell_type": "markdown",
      "metadata": {
        "id": "view-in-github",
        "colab_type": "text"
      },
      "source": [
        "<a href=\"https://colab.research.google.com/github/Schimmenti/EarthquakesGPS/blob/main/Dataset.ipynb\" target=\"_parent\"><img src=\"https://colab.research.google.com/assets/colab-badge.svg\" alt=\"Open In Colab\"/></a>"
      ]
    },
    {
      "cell_type": "code",
      "execution_count": 1,
      "metadata": {
        "id": "Y_QgiMeEx9kw"
      },
      "outputs": [],
      "source": [
        "import numpy as np\n",
        "import pandas as pd\n",
        "import pickle as pkl\n",
        "import scipy.stats as stats\n",
        "import matplotlib.pyplot as plt\n",
        "import datetime\n",
        "import time\n",
        "from scipy.ndimage.filters import maximum_filter1d, minimum_filter1d\n",
        "\n",
        "def max_filter1d_valid(a, W):\n",
        "    hW = (W-1)//2 # Half window size\n",
        "    return maximum_filter1d(a,size=W)[hW:-hW]\n",
        "def min_filter1d_valid(a, W):\n",
        "    hW = (W-1)//2 # Half window size\n",
        "    return minimum_filter1d(a,size=W)[hW:-hW]"
      ]
    },
    {
      "cell_type": "code",
      "source": [
        "def haversine(lat1, lat2, delta_long):\n",
        "  return np.sin((lat2-lat1)/2)**2+np.cos(lat1)*np.cos(lat2)*np.sin(delta_long/2)**2"
      ],
      "metadata": {
        "id": "xbH1ADom-e5K"
      },
      "execution_count": 2,
      "outputs": []
    },
    {
      "cell_type": "code",
      "source": [
        "def moving_lin_regress(x, T, t0, t1):\n",
        "    m = []\n",
        "    for t in range(t0,t1-T):\n",
        "        m.append(stats.linregress(np.arange(0,T),x[t:t+T])[0])\n",
        "    return np.array(m)"
      ],
      "metadata": {
        "id": "r5MxN8MCzqln"
      },
      "execution_count": 3,
      "outputs": []
    },
    {
      "cell_type": "code",
      "source": [
        "base_link = \"https://raw.githubusercontent.com/Schimmenti/EarthquakesGPS/main/gps_data/\""
      ],
      "metadata": {
        "id": "CIFz3TRJyjwN"
      },
      "execution_count": 4,
      "outputs": []
    },
    {
      "cell_type": "code",
      "source": [
        "! wget \"https://raw.githubusercontent.com/Schimmenti/EarthquakesGPS/main/gps_data/stat_info.pkl\""
      ],
      "metadata": {
        "colab": {
          "base_uri": "https://localhost:8080/"
        },
        "id": "i45aPIdXylyt",
        "outputId": "b4329e0d-3852-4ff3-d466-5fafe11c585f"
      },
      "execution_count": 5,
      "outputs": [
        {
          "output_type": "stream",
          "name": "stdout",
          "text": [
            "--2022-03-08 21:40:26--  https://raw.githubusercontent.com/Schimmenti/EarthquakesGPS/main/gps_data/stat_info.pkl\n",
            "Resolving raw.githubusercontent.com (raw.githubusercontent.com)... 185.199.108.133, 185.199.109.133, 185.199.110.133, ...\n",
            "Connecting to raw.githubusercontent.com (raw.githubusercontent.com)|185.199.108.133|:443... connected.\n",
            "HTTP request sent, awaiting response... 200 OK\n",
            "Length: 17030 (17K) [application/octet-stream]\n",
            "Saving to: ‘stat_info.pkl’\n",
            "\n",
            "stat_info.pkl       100%[===================>]  16.63K  --.-KB/s    in 0s      \n",
            "\n",
            "2022-03-08 21:40:26 (36.4 MB/s) - ‘stat_info.pkl’ saved [17030/17030]\n",
            "\n"
          ]
        }
      ]
    },
    {
      "cell_type": "code",
      "source": [
        "with open(\"stat_info.pkl\",\"rb\") as handle:\n",
        "  station_names, station_pos = pkl.load(handle)"
      ],
      "metadata": {
        "id": "Ee6C9Q0xyp_s"
      },
      "execution_count": 6,
      "outputs": []
    },
    {
      "cell_type": "code",
      "source": [
        "stat_data = {}\n",
        "for name in station_names:\n",
        "  try:\n",
        "    stat_data[name] = pd.read_csv(base_link + name + \".csv\")\n",
        "  except:\n",
        "    continue"
      ],
      "metadata": {
        "id": "o3PW3xswy3E-"
      },
      "execution_count": 7,
      "outputs": []
    },
    {
      "cell_type": "code",
      "source": [
        "for name in stat_data.keys():\n",
        "  #decimal_years  = stat_data[name][\"DateD\"].values\n",
        "  #years = np.trunc(decimal_years).astype('int')\n",
        "  #days_in_year = 365*np.ones(len(years), dtype=int)\n",
        "  #days_in_year[days_in_year%4==0] += 1\n",
        "  #days = np.round((decimal_years-years)*days_in_year).astype('int')\n",
        "  #starting_date = datetime.date(years[0], 1, 1)\n",
        "  #delta_days = datetime.timedelta(int(days[0]) - 1)\n",
        "  #starting_date += delta_days\n",
        "#\n",
        "  #ending_date = datetime.date(years[-1]-1, 12, 31)\n",
        "  #delta_days = datetime.timedelta(int(days[-1]))\n",
        "  #ending_date += delta_days\n",
        "  #print(ending_date)\n",
        "  #del stat_data[name][\"Date\"]\n",
        "\n",
        "  stat_data[name]['Date'] = pd.to_datetime(stat_data[name]['DateI'], format='%Y%m%d')\n",
        "  stat_data[name].set_index(\"Date\", drop=True, inplace=True)\n",
        "  idx = pd.date_range(stat_data[name].index[0], stat_data[name].index[-1])\n",
        "  stat_data[name] = stat_data[name].reindex(idx, fill_value=np.NaN)"
      ],
      "metadata": {
        "id": "Uf8lbUsfzgyE"
      },
      "execution_count": 8,
      "outputs": []
    },
    {
      "cell_type": "code",
      "source": [
        "stat_data['501p']"
      ],
      "metadata": {
        "colab": {
          "base_uri": "https://localhost:8080/",
          "height": 423
        },
        "id": "X-5KT8xnOgLS",
        "outputId": "a4519070-feec-4b01-822d-f03c8d70b483"
      },
      "execution_count": 9,
      "outputs": [
        {
          "output_type": "execute_result",
          "data": {
            "text/html": [
              "\n",
              "  <div id=\"df-26830bdb-128a-43fb-8bb1-7c2a470bb2df\">\n",
              "    <div class=\"colab-df-container\">\n",
              "      <div>\n",
              "<style scoped>\n",
              "    .dataframe tbody tr th:only-of-type {\n",
              "        vertical-align: middle;\n",
              "    }\n",
              "\n",
              "    .dataframe tbody tr th {\n",
              "        vertical-align: top;\n",
              "    }\n",
              "\n",
              "    .dataframe thead th {\n",
              "        text-align: right;\n",
              "    }\n",
              "</style>\n",
              "<table border=\"1\" class=\"dataframe\">\n",
              "  <thead>\n",
              "    <tr style=\"text-align: right;\">\n",
              "      <th></th>\n",
              "      <th>DateI</th>\n",
              "      <th>DateD</th>\n",
              "      <th>N</th>\n",
              "      <th>E</th>\n",
              "      <th>U</th>\n",
              "      <th>Tech1</th>\n",
              "      <th>dN</th>\n",
              "      <th>dE</th>\n",
              "      <th>dU</th>\n",
              "      <th>Tech2</th>\n",
              "      <th>Descr</th>\n",
              "    </tr>\n",
              "  </thead>\n",
              "  <tbody>\n",
              "    <tr>\n",
              "      <th>2005-04-01</th>\n",
              "      <td>20050401.0</td>\n",
              "      <td>2005.2493</td>\n",
              "      <td>16.0</td>\n",
              "      <td>-2.8</td>\n",
              "      <td>-2.2</td>\n",
              "      <td>rrr</td>\n",
              "      <td>2.5</td>\n",
              "      <td>2.9</td>\n",
              "      <td>8.4</td>\n",
              "      <td>0.0483</td>\n",
              "      <td>Southern_California.20050401.stacov.point-2016...</td>\n",
              "    </tr>\n",
              "    <tr>\n",
              "      <th>2005-04-02</th>\n",
              "      <td>20050402.0</td>\n",
              "      <td>2005.2521</td>\n",
              "      <td>16.1</td>\n",
              "      <td>-3.9</td>\n",
              "      <td>-1.9</td>\n",
              "      <td>rrr</td>\n",
              "      <td>2.5</td>\n",
              "      <td>2.8</td>\n",
              "      <td>8.4</td>\n",
              "      <td>0.0548</td>\n",
              "      <td>Southern_California.20050402.stacov.point-2016...</td>\n",
              "    </tr>\n",
              "    <tr>\n",
              "      <th>2005-04-03</th>\n",
              "      <td>20050403.0</td>\n",
              "      <td>2005.2547</td>\n",
              "      <td>14.3</td>\n",
              "      <td>-3.0</td>\n",
              "      <td>-3.9</td>\n",
              "      <td>rrr</td>\n",
              "      <td>2.7</td>\n",
              "      <td>3.0</td>\n",
              "      <td>9.3</td>\n",
              "      <td>0.0781</td>\n",
              "      <td>Southern_California.20050403.stacov.point-2016...</td>\n",
              "    </tr>\n",
              "    <tr>\n",
              "      <th>2005-04-04</th>\n",
              "      <td>NaN</td>\n",
              "      <td>NaN</td>\n",
              "      <td>NaN</td>\n",
              "      <td>NaN</td>\n",
              "      <td>NaN</td>\n",
              "      <td>NaN</td>\n",
              "      <td>NaN</td>\n",
              "      <td>NaN</td>\n",
              "      <td>NaN</td>\n",
              "      <td>NaN</td>\n",
              "      <td>NaN</td>\n",
              "    </tr>\n",
              "    <tr>\n",
              "      <th>2005-04-05</th>\n",
              "      <td>NaN</td>\n",
              "      <td>NaN</td>\n",
              "      <td>NaN</td>\n",
              "      <td>NaN</td>\n",
              "      <td>NaN</td>\n",
              "      <td>NaN</td>\n",
              "      <td>NaN</td>\n",
              "      <td>NaN</td>\n",
              "      <td>NaN</td>\n",
              "      <td>NaN</td>\n",
              "      <td>NaN</td>\n",
              "    </tr>\n",
              "    <tr>\n",
              "      <th>...</th>\n",
              "      <td>...</td>\n",
              "      <td>...</td>\n",
              "      <td>...</td>\n",
              "      <td>...</td>\n",
              "      <td>...</td>\n",
              "      <td>...</td>\n",
              "      <td>...</td>\n",
              "      <td>...</td>\n",
              "      <td>...</td>\n",
              "      <td>...</td>\n",
              "      <td>...</td>\n",
              "    </tr>\n",
              "    <tr>\n",
              "      <th>2022-01-13</th>\n",
              "      <td>20220113.0</td>\n",
              "      <td>2022.0354</td>\n",
              "      <td>10.9</td>\n",
              "      <td>-7.4</td>\n",
              "      <td>3.8</td>\n",
              "      <td>ppp</td>\n",
              "      <td>2.6</td>\n",
              "      <td>3.2</td>\n",
              "      <td>9.3</td>\n",
              "      <td>0.0306</td>\n",
              "      <td>Southern_California.20220113.stacov.point-2022...</td>\n",
              "    </tr>\n",
              "    <tr>\n",
              "      <th>2022-01-14</th>\n",
              "      <td>20220114.0</td>\n",
              "      <td>2022.0382</td>\n",
              "      <td>10.2</td>\n",
              "      <td>-8.5</td>\n",
              "      <td>6.1</td>\n",
              "      <td>ppp</td>\n",
              "      <td>2.6</td>\n",
              "      <td>3.2</td>\n",
              "      <td>9.3</td>\n",
              "      <td>0.0408</td>\n",
              "      <td>Southern_California.20220114.stacov.point-2022...</td>\n",
              "    </tr>\n",
              "    <tr>\n",
              "      <th>2022-01-15</th>\n",
              "      <td>NaN</td>\n",
              "      <td>NaN</td>\n",
              "      <td>NaN</td>\n",
              "      <td>NaN</td>\n",
              "      <td>NaN</td>\n",
              "      <td>NaN</td>\n",
              "      <td>NaN</td>\n",
              "      <td>NaN</td>\n",
              "      <td>NaN</td>\n",
              "      <td>NaN</td>\n",
              "      <td>NaN</td>\n",
              "    </tr>\n",
              "    <tr>\n",
              "      <th>2022-01-16</th>\n",
              "      <td>20220116.0</td>\n",
              "      <td>2022.0437</td>\n",
              "      <td>9.9</td>\n",
              "      <td>-8.9</td>\n",
              "      <td>-7.0</td>\n",
              "      <td>ppp</td>\n",
              "      <td>2.6</td>\n",
              "      <td>3.2</td>\n",
              "      <td>9.3</td>\n",
              "      <td>0.0385</td>\n",
              "      <td>Southern_California.20220116.stacov.point-2022...</td>\n",
              "    </tr>\n",
              "    <tr>\n",
              "      <th>2022-01-17</th>\n",
              "      <td>20220117.0</td>\n",
              "      <td>2022.0464</td>\n",
              "      <td>10.0</td>\n",
              "      <td>-7.3</td>\n",
              "      <td>-3.6</td>\n",
              "      <td>ppp</td>\n",
              "      <td>2.6</td>\n",
              "      <td>3.2</td>\n",
              "      <td>9.3</td>\n",
              "      <td>0.0275</td>\n",
              "      <td>Southern_California.20220117.stacov.point-2022...</td>\n",
              "    </tr>\n",
              "  </tbody>\n",
              "</table>\n",
              "<p>6136 rows × 11 columns</p>\n",
              "</div>\n",
              "      <button class=\"colab-df-convert\" onclick=\"convertToInteractive('df-26830bdb-128a-43fb-8bb1-7c2a470bb2df')\"\n",
              "              title=\"Convert this dataframe to an interactive table.\"\n",
              "              style=\"display:none;\">\n",
              "        \n",
              "  <svg xmlns=\"http://www.w3.org/2000/svg\" height=\"24px\"viewBox=\"0 0 24 24\"\n",
              "       width=\"24px\">\n",
              "    <path d=\"M0 0h24v24H0V0z\" fill=\"none\"/>\n",
              "    <path d=\"M18.56 5.44l.94 2.06.94-2.06 2.06-.94-2.06-.94-.94-2.06-.94 2.06-2.06.94zm-11 1L8.5 8.5l.94-2.06 2.06-.94-2.06-.94L8.5 2.5l-.94 2.06-2.06.94zm10 10l.94 2.06.94-2.06 2.06-.94-2.06-.94-.94-2.06-.94 2.06-2.06.94z\"/><path d=\"M17.41 7.96l-1.37-1.37c-.4-.4-.92-.59-1.43-.59-.52 0-1.04.2-1.43.59L10.3 9.45l-7.72 7.72c-.78.78-.78 2.05 0 2.83L4 21.41c.39.39.9.59 1.41.59.51 0 1.02-.2 1.41-.59l7.78-7.78 2.81-2.81c.8-.78.8-2.07 0-2.86zM5.41 20L4 18.59l7.72-7.72 1.47 1.35L5.41 20z\"/>\n",
              "  </svg>\n",
              "      </button>\n",
              "      \n",
              "  <style>\n",
              "    .colab-df-container {\n",
              "      display:flex;\n",
              "      flex-wrap:wrap;\n",
              "      gap: 12px;\n",
              "    }\n",
              "\n",
              "    .colab-df-convert {\n",
              "      background-color: #E8F0FE;\n",
              "      border: none;\n",
              "      border-radius: 50%;\n",
              "      cursor: pointer;\n",
              "      display: none;\n",
              "      fill: #1967D2;\n",
              "      height: 32px;\n",
              "      padding: 0 0 0 0;\n",
              "      width: 32px;\n",
              "    }\n",
              "\n",
              "    .colab-df-convert:hover {\n",
              "      background-color: #E2EBFA;\n",
              "      box-shadow: 0px 1px 2px rgba(60, 64, 67, 0.3), 0px 1px 3px 1px rgba(60, 64, 67, 0.15);\n",
              "      fill: #174EA6;\n",
              "    }\n",
              "\n",
              "    [theme=dark] .colab-df-convert {\n",
              "      background-color: #3B4455;\n",
              "      fill: #D2E3FC;\n",
              "    }\n",
              "\n",
              "    [theme=dark] .colab-df-convert:hover {\n",
              "      background-color: #434B5C;\n",
              "      box-shadow: 0px 1px 3px 1px rgba(0, 0, 0, 0.15);\n",
              "      filter: drop-shadow(0px 1px 2px rgba(0, 0, 0, 0.3));\n",
              "      fill: #FFFFFF;\n",
              "    }\n",
              "  </style>\n",
              "\n",
              "      <script>\n",
              "        const buttonEl =\n",
              "          document.querySelector('#df-26830bdb-128a-43fb-8bb1-7c2a470bb2df button.colab-df-convert');\n",
              "        buttonEl.style.display =\n",
              "          google.colab.kernel.accessAllowed ? 'block' : 'none';\n",
              "\n",
              "        async function convertToInteractive(key) {\n",
              "          const element = document.querySelector('#df-26830bdb-128a-43fb-8bb1-7c2a470bb2df');\n",
              "          const dataTable =\n",
              "            await google.colab.kernel.invokeFunction('convertToInteractive',\n",
              "                                                     [key], {});\n",
              "          if (!dataTable) return;\n",
              "\n",
              "          const docLinkHtml = 'Like what you see? Visit the ' +\n",
              "            '<a target=\"_blank\" href=https://colab.research.google.com/notebooks/data_table.ipynb>data table notebook</a>'\n",
              "            + ' to learn more about interactive tables.';\n",
              "          element.innerHTML = '';\n",
              "          dataTable['output_type'] = 'display_data';\n",
              "          await google.colab.output.renderOutput(dataTable, element);\n",
              "          const docLink = document.createElement('div');\n",
              "          docLink.innerHTML = docLinkHtml;\n",
              "          element.appendChild(docLink);\n",
              "        }\n",
              "      </script>\n",
              "    </div>\n",
              "  </div>\n",
              "  "
            ],
            "text/plain": [
              "                 DateI      DateD     N    E    U Tech1   dN   dE   dU  \\\n",
              "2005-04-01  20050401.0  2005.2493  16.0 -2.8 -2.2   rrr  2.5  2.9  8.4   \n",
              "2005-04-02  20050402.0  2005.2521  16.1 -3.9 -1.9   rrr  2.5  2.8  8.4   \n",
              "2005-04-03  20050403.0  2005.2547  14.3 -3.0 -3.9   rrr  2.7  3.0  9.3   \n",
              "2005-04-04         NaN        NaN   NaN  NaN  NaN   NaN  NaN  NaN  NaN   \n",
              "2005-04-05         NaN        NaN   NaN  NaN  NaN   NaN  NaN  NaN  NaN   \n",
              "...                ...        ...   ...  ...  ...   ...  ...  ...  ...   \n",
              "2022-01-13  20220113.0  2022.0354  10.9 -7.4  3.8   ppp  2.6  3.2  9.3   \n",
              "2022-01-14  20220114.0  2022.0382  10.2 -8.5  6.1   ppp  2.6  3.2  9.3   \n",
              "2022-01-15         NaN        NaN   NaN  NaN  NaN   NaN  NaN  NaN  NaN   \n",
              "2022-01-16  20220116.0  2022.0437   9.9 -8.9 -7.0   ppp  2.6  3.2  9.3   \n",
              "2022-01-17  20220117.0  2022.0464  10.0 -7.3 -3.6   ppp  2.6  3.2  9.3   \n",
              "\n",
              "             Tech2                                              Descr  \n",
              "2005-04-01  0.0483  Southern_California.20050401.stacov.point-2016...  \n",
              "2005-04-02  0.0548  Southern_California.20050402.stacov.point-2016...  \n",
              "2005-04-03  0.0781  Southern_California.20050403.stacov.point-2016...  \n",
              "2005-04-04     NaN                                                NaN  \n",
              "2005-04-05     NaN                                                NaN  \n",
              "...            ...                                                ...  \n",
              "2022-01-13  0.0306  Southern_California.20220113.stacov.point-2022...  \n",
              "2022-01-14  0.0408  Southern_California.20220114.stacov.point-2022...  \n",
              "2022-01-15     NaN                                                NaN  \n",
              "2022-01-16  0.0385  Southern_California.20220116.stacov.point-2022...  \n",
              "2022-01-17  0.0275  Southern_California.20220117.stacov.point-2022...  \n",
              "\n",
              "[6136 rows x 11 columns]"
            ]
          },
          "metadata": {},
          "execution_count": 9
        }
      ]
    },
    {
      "cell_type": "code",
      "source": [
        "W=9\n",
        "coefs = {}\n",
        "for name in stat_data.keys():\n",
        "  nord = stat_data[name][\"N\"].values\n",
        "  T_w_nord = moving_lin_regress(nord, W, 0, len(nord))\n",
        "  east = stat_data[name][\"E\"].values\n",
        "  T_w_east = moving_lin_regress(east, W, 0, len(east))\n",
        "  up = stat_data[name][\"U\"].values\n",
        "  T_w_up = moving_lin_regress(up, W, 0, len(up))\n",
        "  coefs[name] = np.array([T_w_nord, T_w_east, T_w_up])"
      ],
      "metadata": {
        "id": "paPxBu_2z78a"
      },
      "execution_count": 10,
      "outputs": []
    },
    {
      "cell_type": "code",
      "source": [
        "with open(\"T_W=%i.pkl\"%W, \"wb\") as handle:\n",
        "  pkl.dump(coefs,handle)"
      ],
      "metadata": {
        "id": "9P5rDJEggbWE"
      },
      "execution_count": 12,
      "outputs": []
    },
    {
      "cell_type": "markdown",
      "source": [
        "# Windowing"
      ],
      "metadata": {
        "id": "nKEmLHuMcYYe"
      }
    },
    {
      "cell_type": "code",
      "source": [
        "observation_period = 6\n"
      ],
      "metadata": {
        "colab": {
          "base_uri": "https://localhost:8080/"
        },
        "id": "0BBEqzfJdNPs",
        "outputId": "4dc5633e-1004-4a93-aae3-2a66831177d4"
      },
      "execution_count": 32,
      "outputs": [
        {
          "output_type": "execute_result",
          "data": {
            "text/plain": [
              "(398, 407)"
            ]
          },
          "metadata": {},
          "execution_count": 32
        }
      ]
    },
    {
      "cell_type": "markdown",
      "source": [
        "# Catalog"
      ],
      "metadata": {
        "id": "xevVaB4BH2ya"
      }
    },
    {
      "cell_type": "code",
      "source": [
        "catalog = pd.read_csv(\"https://raw.githubusercontent.com/Schimmenti/EarthquakesGPS/main/hauksson_relocated.dat\",sep=r\"\\s+\",header=None)\n",
        "catalog.columns = [\"sec\",\"m\",\"lat\",\"long\",\"dep\"]"
      ],
      "metadata": {
        "id": "JNn3tbnpsmjH"
      },
      "execution_count": 11,
      "outputs": []
    },
    {
      "cell_type": "code",
      "source": [
        "landers = catalog[catalog[\"m\"]==7.3]\n",
        "landers_date = datetime.date(1992,6,28)\n",
        "landers_time = datetime.timedelta(hours=11, minutes=57, seconds=33)\n",
        "delta_time = datetime.timedelta(seconds=float(landers['sec'].values))\n",
        "catalog_beginning = landers_date+landers_time-delta_time\n",
        "catalog_seconds = catalog['sec'].values.astype('timedelta64[s]')\n",
        "start_date = np.datetime64(catalog_beginning)\n",
        "catalog_dates = start_date + catalog_seconds\n",
        "year_integer =  catalog_dates.astype('datetime64[Y]').astype('int')+1970\n",
        "month_integer =  catalog_dates.astype('datetime64[M]').astype('int')%12+1\n",
        "day_integer = (catalog_dates- catalog_dates.astype('datetime64[M]') + 1).astype('timedelta64[D]').astype('int')+1\n",
        "date_integer =(year_integer*10000+month_integer*100+day_integer)\n",
        "pandas_datetime = pd.to_datetime(date_integer, format='%Y%m%d')\n",
        "catalog[\"Date\"] = pandas_datetime\n",
        "catalog.set_index(\"Date\", drop=True, inplace=True)"
      ],
      "metadata": {
        "id": "xgUekX5HHz__"
      },
      "execution_count": 12,
      "outputs": []
    },
    {
      "cell_type": "code",
      "source": [
        "catalog.to_csv(\"catalog.csv\", sep=\"\\t\")"
      ],
      "metadata": {
        "id": "GVYhCAwm9rLa"
      },
      "execution_count": 13,
      "outputs": []
    },
    {
      "cell_type": "markdown",
      "source": [
        "# Station position"
      ],
      "metadata": {
        "id": "cxLmoF8m-I3V"
      }
    },
    {
      "cell_type": "code",
      "source": [
        "position_array = np.array([station_pos[key] for key in stat_data.keys()])"
      ],
      "metadata": {
        "id": "-SD_ILQ--LG3"
      },
      "execution_count": 14,
      "outputs": []
    },
    {
      "cell_type": "code",
      "source": [
        "lat1 = catalog['lat'].values.reshape(-1,1)\n",
        "lat2 = position_array[:,0].reshape(1,-1)\n",
        "delta_long = catalog['long'].values.reshape(-1,1)-position_array[:,1].reshape(1,-1)"
      ],
      "metadata": {
        "id": "4kR__7C9-j1C"
      },
      "execution_count": 15,
      "outputs": []
    },
    {
      "cell_type": "code",
      "source": [
        "distances = haversine(lat1,lat2,delta_long)"
      ],
      "metadata": {
        "id": "jiiY8sm8-8Jk"
      },
      "execution_count": 16,
      "outputs": []
    },
    {
      "cell_type": "code",
      "source": [
        "closest_station_idx = np.argsort(distances, axis=1)"
      ],
      "metadata": {
        "id": "7uB5_MBf_JZn"
      },
      "execution_count": 17,
      "outputs": []
    },
    {
      "cell_type": "code",
      "source": [
        "threshold_dist = 1e-3\n",
        "max_number = 20"
      ],
      "metadata": {
        "id": "mb6R1o6d4rJ6"
      },
      "execution_count": 28,
      "outputs": []
    },
    {
      "cell_type": "code",
      "source": [
        "m_day = catalog[\"m\"].groupby(\"Date\").apply(lambda x : (2/3)*np.log10(np.sum(10**(1.5*x))))\n",
        "true_days = m_day.index\n",
        "m_day = m_day.values\n",
        "lat_day = catalog[\"lat\"].groupby(\"Date\").mean().values\n",
        "long_day = catalog[\"long\"].groupby(\"Date\").mean().values\n",
        "dep_day = catalog[\"dep\"].groupby(\"Date\").mean().values"
      ],
      "metadata": {
        "id": "DFI4etj1POk6"
      },
      "execution_count": 12,
      "outputs": []
    },
    {
      "cell_type": "code",
      "source": [
        "catalog_day = pd.DataFrame(columns = [\"m\", \"lat\", \"long\", \"dep\" ])"
      ],
      "metadata": {
        "id": "Gm6hoZFi-tWt"
      },
      "execution_count": 13,
      "outputs": []
    },
    {
      "cell_type": "code",
      "source": [
        "catalog_day[\"m\"] = m_day\n",
        "catalog_day[\"lat\"] = lat_day\n",
        "catalog_day[\"long\"] = long_day\n",
        "catalog_day[\"dep\"] = dep_day\n",
        "catalog_day.index = true_days"
      ],
      "metadata": {
        "id": "3fyQXz1b-6CH"
      },
      "execution_count": 14,
      "outputs": []
    },
    {
      "cell_type": "code",
      "source": [
        "catalog_day.to_csv(\"catalog_day.csv\", sep=\"\\t\")"
      ],
      "metadata": {
        "id": "rvC8A6mW_YJv"
      },
      "execution_count": 15,
      "outputs": []
    },
    {
      "cell_type": "code",
      "source": [
        ""
      ],
      "metadata": {
        "id": "qUVzorG5_iHa"
      },
      "execution_count": null,
      "outputs": []
    }
  ]
}